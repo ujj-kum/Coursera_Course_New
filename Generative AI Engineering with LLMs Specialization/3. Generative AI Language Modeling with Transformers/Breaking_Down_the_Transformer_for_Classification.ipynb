{
  "cells": [
    {
      "cell_type": "markdown",
      "metadata": {
        "id": "01fb96a5-5636-46d2-907e-e05fe34dcabe"
      },
      "source": [
        "<p style=\"text-align:center\">\n",
        "    <a href=\"https://skills.network\" target=\"_blank\">\n",
        "    <img src=\"https://cf-courses-data.s3.us.cloud-object-storage.appdomain.cloud/assets/logos/SN_web_lightmode.png\" width=\"200\" alt=\"Skills Network Logo\">\n",
        "    </a>\n",
        "</p>\n"
      ]
    },
    {
      "cell_type": "markdown",
      "metadata": {
        "id": "09b320c8-3e0b-4d11-b5d8-e59b1f9b76cc"
      },
      "source": [
        "# **Applying Transformers for Classification**\n",
        "\n",
        "Estimated time needed: **60** minutes\n",
        "\n",
        "Imagine working at a prestigious newspaper or magazine company that boasts an extensive archive of documents dating back through the annals of time. Amid this treasure trove of information, a monumental task lies ahead: organizing these historical documents into their relevant topic sections. This strategic curation not only promises to enhance the user experience by delivering more streamlined content but also presents an opportunity to breathe new life into invaluable insights from the past through a modern lens. However, the sheer volume and scope of this undertaking calls for a sophisticated solution.\n",
        "\n",
        "![Documents Overload](https://cf-courses-data.s3.us.cloud-object-storage.appdomain.cloud/IBM-GPXX0Y15EN/docs.png)\n",
        "\n",
        "The implementation of an automated machine learning system makes it very efficient. Such a system, equipped with advanced natural language processing and machine learning capabilities, could sift through the vast archives, categorizing articles into their respective topics with remarkable precision. As a result, readers would seamlessly access a wealth of knowledge tailored to their interests, while the editorial team gains newfound agility in content management.\n",
        "\n",
        "In this lab, you will embark on the exciting task of classifying news articles for a content search engine. The goal is to build a model that can automatically categorize news articles into different topics or classes, enabling the search engine to deliver relevant content to users efficiently. To achieve this, you will leverage the powerful torchtext library, which simplifies the process of creating a dataset for text classification analysis.\n",
        "\n",
        "With torchtext, you'll have the flexibility to access and preprocess raw news data effortlessly. The library enables you to convert text strings into `torch.Tensors`, which are essential for training machine learning models. By using torchtext's convenient functionalities, you can set up an efficient data processing pipeline that prepares your text data for classification.\n",
        "\n",
        "Throughout this tutorial, you will demonstrate how to effectively shuffle and iterate through the processed data using `torch.utils.data.DataLoader`. This DataLoader simplifies the data handling process, allowing you to focus on building and training your text classification model effectively.\n"
      ]
    },
    {
      "cell_type": "markdown",
      "metadata": {
        "id": "d323b036-dda8-48ea-9087-e26758810a83"
      },
      "source": [
        "\n",
        "The following infographic provides an overview of the internal workings of the transformers.\n",
        "![](https://cf-courses-data.s3.us.cloud-object-storage.appdomain.cloud/IBMSkillsNetwork-GPXX05RNEN/Tokenization%20-%20Color.jpeg)\n"
      ]
    },
    {
      "cell_type": "markdown",
      "metadata": {
        "id": "8e88e315-a935-4f45-bf3c-820019e290ad"
      },
      "source": [
        "# __Table of Contents__\n",
        "\n",
        "<ol>\n",
        "    <li><a href=\"#Objectives\">Objectives</a></li>\n",
        "    <li>\n",
        "        <a href=\"#Setup\">Setup</a>\n",
        "        <ol>\n",
        "            <li><a href=\"#Installing-required-libraries\">Installing required libraries</a></li>\n",
        "            <li><a href=\"#Importing-required-libraries\">Importing required libraries</a></li>\n",
        "            <li><a href=\"#Defining-helper-hunctions\">Defining helper functions</a></li>\n",
        "        </ol>\n",
        "    </li>\n",
        "    <li><a href=\"#Toy-dataset\">Toy dataset</a>\n",
        "    <li><a href=\"#Zero-padding\">Zero padding</a></li>\n",
        "    <li><a href=\"#Positional-encodings\">Positional encodings</a></li>\n",
        "    <li><a href=\"#Encoder-layer\">Encoder layer</a></li>\n",
        "    <li>\n",
        "        <a href=\"#Text-classification\">Text classification</a></li>\n",
        "        <ol>\n",
        "            <li><a href=\"#Import-bank-dataset\">Import bank dataset</a></li>\n",
        "            <li><a href=\"#Dataset\">Dataset</a></li>\n",
        "            <li><a href=\"#Data-loader\">Data loader</a></li>\n",
        "            <li><a href=\"#Neural-network\">Neural network</a></li>\n",
        "        </ol>\n",
        "    <li><a href=\"#Training\">Training</a></li>\n",
        "    <li><a href=\"#Exercise\">Exercise</a></li>\n",
        "</ol>\n"
      ]
    },
    {
      "cell_type": "markdown",
      "metadata": {
        "id": "c161b296-4cac-4040-9531-ba962d9ccf36"
      },
      "source": [
        "---\n"
      ]
    },
    {
      "cell_type": "markdown",
      "metadata": {
        "id": "0fda6d66-5a06-4524-be65-3fd09d762bd4"
      },
      "source": [
        "# Objectives\n",
        "\n",
        "After completing this lab, you will be able to:\n",
        "\n",
        "- Work with datasets and understand tokenizer, embedding bag technique and vocabulary\n",
        "- Explore embeddings in PyTorch and understand token indices\n",
        "- Perform text classification using data loader and apply it on a neural network model\n",
        "- Train the text classification model on a news dataset\n",
        "- Engage in various exercises to solidify your understanding\n"
      ]
    },
    {
      "cell_type": "markdown",
      "metadata": {
        "id": "8f2e32f2-b472-483f-82f7-e097b5f4a78f"
      },
      "source": [
        "---\n"
      ]
    },
    {
      "cell_type": "markdown",
      "metadata": {
        "id": "9e152d9d-7710-42eb-a0cb-3ffa35cc9496"
      },
      "source": [
        "# Setup\n"
      ]
    },
    {
      "cell_type": "markdown",
      "metadata": {
        "id": "36a73682-1596-4cd1-9c5a-4395a478979c"
      },
      "source": [
        "For this lab, you will be using the following libraries:\n"
      ]
    },
    {
      "cell_type": "markdown",
      "metadata": {
        "id": "d072d826-0780-48ca-bd8d-cb1521b5fdf9"
      },
      "source": [
        "### Installing required libraries\n",
        "\n",
        "The following required libraries are pre-installed in the Skills Network Labs environment. However, if you run this notebook commands in a different Jupyter environment (e.g. Watson Studio or Ananconda), you will need to install these libraries by removing the `#` sign before `!pip` in the code cell below.\n"
      ]
    },
    {
      "cell_type": "code",
      "metadata": {
        "id": "f0441fca-713c-4f60-aa3e-83aa530682eb"
      },
      "outputs": [],
      "source": [
        "# All Libraries required for this lab are listed below.\n",
        "# The libraries pre-installed on Skills Network Labs are commented.\n",
        "# Uncomment these if you are running the lab in your localenvironment, to install these packages.\n",
        "\n",
        "# !pip install -qy pandas==1.3.4 numpy==1.21.4 seaborn==0.9.0 matplotlib==3.5.0 scikit-learn==0.20.1\n",
        "# - Update a specific package\n",
        "# !pip install pmdarima -U\n",
        "# - Update a package to specific version\n",
        "# !pip install --upgrade pmdarima==2.0.2\n",
        "# Note: If your environment doesn't support \"!pip install\", use \"!mamba install\""
      ],
      "execution_count": null
    },
    {
      "cell_type": "markdown",
      "metadata": {
        "id": "4c53cca5-b0ab-4307-804c-075b6d504b90"
      },
      "source": [
        "The following required libraries are __not__ pre-installed in the Skills Network Labs environment. __You will need to run the following cell__ to install them:\n"
      ]
    },
    {
      "cell_type": "code",
      "metadata": {
        "colab": {
          "base_uri": "https://localhost:8080/"
        },
        "id": "5be2a646-3231-45c9-86da-ce4d920ec6cc",
        "outputId": "7220ea16-6f16-4d3f-f201-3817a20fa403"
      },
      "outputs": [
        {
          "output_type": "stream",
          "name": "stdout",
          "text": [
            "Collecting dash-core-components==2.0.0\n",
            "  Downloading dash_core_components-2.0.0-py3-none-any.whl.metadata (2.9 kB)\n",
            "Downloading dash_core_components-2.0.0-py3-none-any.whl (3.8 kB)\n",
            "Installing collected packages: dash-core-components\n",
            "Successfully installed dash-core-components-2.0.0\n",
            "Collecting dash-table==5.0.0\n",
            "  Downloading dash_table-5.0.0-py3-none-any.whl.metadata (2.4 kB)\n",
            "Downloading dash_table-5.0.0-py3-none-any.whl (3.9 kB)\n",
            "Installing collected packages: dash-table\n",
            "Successfully installed dash-table-5.0.0\n",
            "Collecting dash==2.9.3\n",
            "  Downloading dash-2.9.3-py3-none-any.whl.metadata (11 kB)\n",
            "Requirement already satisfied: Flask>=1.0.4 in /usr/local/lib/python3.10/dist-packages (from dash==2.9.3) (3.0.3)\n",
            "Requirement already satisfied: plotly>=5.0.0 in /usr/local/lib/python3.10/dist-packages (from dash==2.9.3) (5.24.1)\n",
            "Collecting dash-html-components==2.0.0 (from dash==2.9.3)\n",
            "  Downloading dash_html_components-2.0.0-py3-none-any.whl.metadata (3.8 kB)\n",
            "Requirement already satisfied: dash-core-components==2.0.0 in /usr/local/lib/python3.10/dist-packages (from dash==2.9.3) (2.0.0)\n",
            "Requirement already satisfied: dash-table==5.0.0 in /usr/local/lib/python3.10/dist-packages (from dash==2.9.3) (5.0.0)\n",
            "Requirement already satisfied: Werkzeug>=3.0.0 in /usr/local/lib/python3.10/dist-packages (from Flask>=1.0.4->dash==2.9.3) (3.1.3)\n",
            "Requirement already satisfied: Jinja2>=3.1.2 in /usr/local/lib/python3.10/dist-packages (from Flask>=1.0.4->dash==2.9.3) (3.1.4)\n",
            "Requirement already satisfied: itsdangerous>=2.1.2 in /usr/local/lib/python3.10/dist-packages (from Flask>=1.0.4->dash==2.9.3) (2.2.0)\n",
            "Requirement already satisfied: click>=8.1.3 in /usr/local/lib/python3.10/dist-packages (from Flask>=1.0.4->dash==2.9.3) (8.1.7)\n",
            "Requirement already satisfied: blinker>=1.6.2 in /usr/local/lib/python3.10/dist-packages (from Flask>=1.0.4->dash==2.9.3) (1.9.0)\n",
            "Requirement already satisfied: tenacity>=6.2.0 in /usr/local/lib/python3.10/dist-packages (from plotly>=5.0.0->dash==2.9.3) (9.0.0)\n",
            "Requirement already satisfied: packaging in /usr/local/lib/python3.10/dist-packages (from plotly>=5.0.0->dash==2.9.3) (24.2)\n",
            "Requirement already satisfied: MarkupSafe>=2.0 in /usr/local/lib/python3.10/dist-packages (from Jinja2>=3.1.2->Flask>=1.0.4->dash==2.9.3) (3.0.2)\n",
            "Downloading dash-2.9.3-py3-none-any.whl (10.2 MB)\n",
            "\u001b[2K   \u001b[90m━━━━━━━━━━━━━━━━━━━━━━━━━━━━━━━━━━━━━━━━\u001b[0m \u001b[32m10.2/10.2 MB\u001b[0m \u001b[31m57.7 MB/s\u001b[0m eta \u001b[36m0:00:00\u001b[0m\n",
            "\u001b[?25hDownloading dash_html_components-2.0.0-py3-none-any.whl (4.1 kB)\n",
            "Installing collected packages: dash-html-components, dash\n",
            "Successfully installed dash-2.9.3 dash-html-components-2.0.0\n",
            "\u001b[2K   \u001b[90m━━━━━━━━━━━━━━━━━━━━━━━━━━━━━━━━━━━━━━━━\u001b[0m \u001b[32m2.7/2.7 MB\u001b[0m \u001b[31m25.3 MB/s\u001b[0m eta \u001b[36m0:00:00\u001b[0m\n",
            "\u001b[?25h"
          ]
        }
      ],
      "source": [
        "!pip install dash-core-components==2.0.0\n",
        "!pip install dash-table==5.0.0\n",
        "!pip install dash==2.9.3\n",
        "!pip install -Uqq dash-html-components==2.0.0\n",
        "!pip install -Uqq portalocker>=2.0.0\n",
        "!pip install -qq torchdata\n",
        "!pip install -Uqq plotly"
      ],
      "execution_count": 2
    },
    {
      "cell_type": "code",
      "source": [
        "! pip install torch==2.3.0 torchtext==0.18.0"
      ],
      "metadata": {
        "colab": {
          "base_uri": "https://localhost:8080/",
          "height": 1000
        },
        "id": "bNwLtANZE77S",
        "outputId": "cbb17be0-2530-43d7-d4cb-bdb023b2b959"
      },
      "execution_count": 3,
      "outputs": [
        {
          "output_type": "stream",
          "name": "stdout",
          "text": [
            "Collecting torch==2.3.0\n",
            "  Downloading torch-2.3.0-cp310-cp310-manylinux1_x86_64.whl.metadata (26 kB)\n",
            "Collecting torchtext==0.18.0\n",
            "  Downloading torchtext-0.18.0-cp310-cp310-manylinux1_x86_64.whl.metadata (7.9 kB)\n",
            "Requirement already satisfied: filelock in /usr/local/lib/python3.10/dist-packages (from torch==2.3.0) (3.16.1)\n",
            "Requirement already satisfied: typing-extensions>=4.8.0 in /usr/local/lib/python3.10/dist-packages (from torch==2.3.0) (4.12.2)\n",
            "Requirement already satisfied: sympy in /usr/local/lib/python3.10/dist-packages (from torch==2.3.0) (1.13.1)\n",
            "Requirement already satisfied: networkx in /usr/local/lib/python3.10/dist-packages (from torch==2.3.0) (3.4.2)\n",
            "Requirement already satisfied: jinja2 in /usr/local/lib/python3.10/dist-packages (from torch==2.3.0) (3.1.4)\n",
            "Requirement already satisfied: fsspec in /usr/local/lib/python3.10/dist-packages (from torch==2.3.0) (2024.10.0)\n",
            "Collecting nvidia-cuda-nvrtc-cu12==12.1.105 (from torch==2.3.0)\n",
            "  Downloading nvidia_cuda_nvrtc_cu12-12.1.105-py3-none-manylinux1_x86_64.whl.metadata (1.5 kB)\n",
            "Collecting nvidia-cuda-runtime-cu12==12.1.105 (from torch==2.3.0)\n",
            "  Downloading nvidia_cuda_runtime_cu12-12.1.105-py3-none-manylinux1_x86_64.whl.metadata (1.5 kB)\n",
            "Collecting nvidia-cuda-cupti-cu12==12.1.105 (from torch==2.3.0)\n",
            "  Downloading nvidia_cuda_cupti_cu12-12.1.105-py3-none-manylinux1_x86_64.whl.metadata (1.6 kB)\n",
            "Collecting nvidia-cudnn-cu12==8.9.2.26 (from torch==2.3.0)\n",
            "  Downloading nvidia_cudnn_cu12-8.9.2.26-py3-none-manylinux1_x86_64.whl.metadata (1.6 kB)\n",
            "Collecting nvidia-cublas-cu12==12.1.3.1 (from torch==2.3.0)\n",
            "  Downloading nvidia_cublas_cu12-12.1.3.1-py3-none-manylinux1_x86_64.whl.metadata (1.5 kB)\n",
            "Collecting nvidia-cufft-cu12==11.0.2.54 (from torch==2.3.0)\n",
            "  Downloading nvidia_cufft_cu12-11.0.2.54-py3-none-manylinux1_x86_64.whl.metadata (1.5 kB)\n",
            "Collecting nvidia-curand-cu12==10.3.2.106 (from torch==2.3.0)\n",
            "  Downloading nvidia_curand_cu12-10.3.2.106-py3-none-manylinux1_x86_64.whl.metadata (1.5 kB)\n",
            "Collecting nvidia-cusolver-cu12==11.4.5.107 (from torch==2.3.0)\n",
            "  Downloading nvidia_cusolver_cu12-11.4.5.107-py3-none-manylinux1_x86_64.whl.metadata (1.6 kB)\n",
            "Collecting nvidia-cusparse-cu12==12.1.0.106 (from torch==2.3.0)\n",
            "  Downloading nvidia_cusparse_cu12-12.1.0.106-py3-none-manylinux1_x86_64.whl.metadata (1.6 kB)\n",
            "Collecting nvidia-nccl-cu12==2.20.5 (from torch==2.3.0)\n",
            "  Downloading nvidia_nccl_cu12-2.20.5-py3-none-manylinux2014_x86_64.whl.metadata (1.8 kB)\n",
            "Collecting nvidia-nvtx-cu12==12.1.105 (from torch==2.3.0)\n",
            "  Downloading nvidia_nvtx_cu12-12.1.105-py3-none-manylinux1_x86_64.whl.metadata (1.7 kB)\n",
            "Collecting triton==2.3.0 (from torch==2.3.0)\n",
            "  Downloading triton-2.3.0-cp310-cp310-manylinux_2_17_x86_64.manylinux2014_x86_64.whl.metadata (1.4 kB)\n",
            "Requirement already satisfied: tqdm in /usr/local/lib/python3.10/dist-packages (from torchtext==0.18.0) (4.66.6)\n",
            "Requirement already satisfied: requests in /usr/local/lib/python3.10/dist-packages (from torchtext==0.18.0) (2.32.3)\n",
            "Requirement already satisfied: numpy in /usr/local/lib/python3.10/dist-packages (from torchtext==0.18.0) (1.26.4)\n",
            "Requirement already satisfied: nvidia-nvjitlink-cu12 in /usr/local/lib/python3.10/dist-packages (from nvidia-cusolver-cu12==11.4.5.107->torch==2.3.0) (12.6.77)\n",
            "Requirement already satisfied: MarkupSafe>=2.0 in /usr/local/lib/python3.10/dist-packages (from jinja2->torch==2.3.0) (3.0.2)\n",
            "Requirement already satisfied: charset-normalizer<4,>=2 in /usr/local/lib/python3.10/dist-packages (from requests->torchtext==0.18.0) (3.4.0)\n",
            "Requirement already satisfied: idna<4,>=2.5 in /usr/local/lib/python3.10/dist-packages (from requests->torchtext==0.18.0) (3.10)\n",
            "Requirement already satisfied: urllib3<3,>=1.21.1 in /usr/local/lib/python3.10/dist-packages (from requests->torchtext==0.18.0) (2.2.3)\n",
            "Requirement already satisfied: certifi>=2017.4.17 in /usr/local/lib/python3.10/dist-packages (from requests->torchtext==0.18.0) (2024.8.30)\n",
            "Requirement already satisfied: mpmath<1.4,>=1.1.0 in /usr/local/lib/python3.10/dist-packages (from sympy->torch==2.3.0) (1.3.0)\n",
            "Downloading torch-2.3.0-cp310-cp310-manylinux1_x86_64.whl (779.1 MB)\n",
            "\u001b[2K   \u001b[90m━━━━━━━━━━━━━━━━━━━━━━━━━━━━━━━━━━━━━━━━\u001b[0m \u001b[32m779.1/779.1 MB\u001b[0m \u001b[31m1.3 MB/s\u001b[0m eta \u001b[36m0:00:00\u001b[0m\n",
            "\u001b[?25hDownloading torchtext-0.18.0-cp310-cp310-manylinux1_x86_64.whl (2.0 MB)\n",
            "\u001b[2K   \u001b[90m━━━━━━━━━━━━━━━━━━━━━━━━━━━━━━━━━━━━━━━━\u001b[0m \u001b[32m2.0/2.0 MB\u001b[0m \u001b[31m51.2 MB/s\u001b[0m eta \u001b[36m0:00:00\u001b[0m\n",
            "\u001b[?25hDownloading nvidia_cublas_cu12-12.1.3.1-py3-none-manylinux1_x86_64.whl (410.6 MB)\n",
            "\u001b[2K   \u001b[90m━━━━━━━━━━━━━━━━━━━━━━━━━━━━━━━━━━━━━━━━\u001b[0m \u001b[32m410.6/410.6 MB\u001b[0m \u001b[31m4.1 MB/s\u001b[0m eta \u001b[36m0:00:00\u001b[0m\n",
            "\u001b[?25hDownloading nvidia_cuda_cupti_cu12-12.1.105-py3-none-manylinux1_x86_64.whl (14.1 MB)\n",
            "\u001b[2K   \u001b[90m━━━━━━━━━━━━━━━━━━━━━━━━━━━━━━━━━━━━━━━━\u001b[0m \u001b[32m14.1/14.1 MB\u001b[0m \u001b[31m56.5 MB/s\u001b[0m eta \u001b[36m0:00:00\u001b[0m\n",
            "\u001b[?25hDownloading nvidia_cuda_nvrtc_cu12-12.1.105-py3-none-manylinux1_x86_64.whl (23.7 MB)\n",
            "\u001b[2K   \u001b[90m━━━━━━━━━━━━━━━━━━━━━━━━━━━━━━━━━━━━━━━━\u001b[0m \u001b[32m23.7/23.7 MB\u001b[0m \u001b[31m35.7 MB/s\u001b[0m eta \u001b[36m0:00:00\u001b[0m\n",
            "\u001b[?25hDownloading nvidia_cuda_runtime_cu12-12.1.105-py3-none-manylinux1_x86_64.whl (823 kB)\n",
            "\u001b[2K   \u001b[90m━━━━━━━━━━━━━━━━━━━━━━━━━━━━━━━━━━━━━━━━\u001b[0m \u001b[32m823.6/823.6 kB\u001b[0m \u001b[31m36.4 MB/s\u001b[0m eta \u001b[36m0:00:00\u001b[0m\n",
            "\u001b[?25hDownloading nvidia_cudnn_cu12-8.9.2.26-py3-none-manylinux1_x86_64.whl (731.7 MB)\n",
            "\u001b[2K   \u001b[90m━━━━━━━━━━━━━━━━━━━━━━━━━━━━━━━━━━━━━━━━\u001b[0m \u001b[32m731.7/731.7 MB\u001b[0m \u001b[31m2.9 MB/s\u001b[0m eta \u001b[36m0:00:00\u001b[0m\n",
            "\u001b[?25hDownloading nvidia_cufft_cu12-11.0.2.54-py3-none-manylinux1_x86_64.whl (121.6 MB)\n",
            "\u001b[2K   \u001b[90m━━━━━━━━━━━━━━━━━━━━━━━━━━━━━━━━━━━━━━━━\u001b[0m \u001b[32m121.6/121.6 MB\u001b[0m \u001b[31m7.5 MB/s\u001b[0m eta \u001b[36m0:00:00\u001b[0m\n",
            "\u001b[?25hDownloading nvidia_curand_cu12-10.3.2.106-py3-none-manylinux1_x86_64.whl (56.5 MB)\n",
            "\u001b[2K   \u001b[90m━━━━━━━━━━━━━━━━━━━━━━━━━━━━━━━━━━━━━━━━\u001b[0m \u001b[32m56.5/56.5 MB\u001b[0m \u001b[31m16.5 MB/s\u001b[0m eta \u001b[36m0:00:00\u001b[0m\n",
            "\u001b[?25hDownloading nvidia_cusolver_cu12-11.4.5.107-py3-none-manylinux1_x86_64.whl (124.2 MB)\n",
            "\u001b[2K   \u001b[90m━━━━━━━━━━━━━━━━━━━━━━━━━━━━━━━━━━━━━━━━\u001b[0m \u001b[32m124.2/124.2 MB\u001b[0m \u001b[31m7.7 MB/s\u001b[0m eta \u001b[36m0:00:00\u001b[0m\n",
            "\u001b[?25hDownloading nvidia_cusparse_cu12-12.1.0.106-py3-none-manylinux1_x86_64.whl (196.0 MB)\n",
            "\u001b[2K   \u001b[90m━━━━━━━━━━━━━━━━━━━━━━━━━━━━━━━━━━━━━━━━\u001b[0m \u001b[32m196.0/196.0 MB\u001b[0m \u001b[31m5.7 MB/s\u001b[0m eta \u001b[36m0:00:00\u001b[0m\n",
            "\u001b[?25hDownloading nvidia_nccl_cu12-2.20.5-py3-none-manylinux2014_x86_64.whl (176.2 MB)\n",
            "\u001b[2K   \u001b[90m━━━━━━━━━━━━━━━━━━━━━━━━━━━━━━━━━━━━━━━━\u001b[0m \u001b[32m176.2/176.2 MB\u001b[0m \u001b[31m6.0 MB/s\u001b[0m eta \u001b[36m0:00:00\u001b[0m\n",
            "\u001b[?25hDownloading nvidia_nvtx_cu12-12.1.105-py3-none-manylinux1_x86_64.whl (99 kB)\n",
            "\u001b[2K   \u001b[90m━━━━━━━━━━━━━━━━━━━━━━━━━━━━━━━━━━━━━━━━\u001b[0m \u001b[32m99.1/99.1 kB\u001b[0m \u001b[31m7.1 MB/s\u001b[0m eta \u001b[36m0:00:00\u001b[0m\n",
            "\u001b[?25hDownloading triton-2.3.0-cp310-cp310-manylinux_2_17_x86_64.manylinux2014_x86_64.whl (168.1 MB)\n",
            "\u001b[2K   \u001b[90m━━━━━━━━━━━━━━━━━━━━━━━━━━━━━━━━━━━━━━━━\u001b[0m \u001b[32m168.1/168.1 MB\u001b[0m \u001b[31m6.7 MB/s\u001b[0m eta \u001b[36m0:00:00\u001b[0m\n",
            "\u001b[?25hInstalling collected packages: triton, nvidia-nvtx-cu12, nvidia-nccl-cu12, nvidia-cusparse-cu12, nvidia-curand-cu12, nvidia-cufft-cu12, nvidia-cuda-runtime-cu12, nvidia-cuda-nvrtc-cu12, nvidia-cuda-cupti-cu12, nvidia-cublas-cu12, nvidia-cusolver-cu12, nvidia-cudnn-cu12, torch, torchtext\n",
            "  Attempting uninstall: nvidia-nccl-cu12\n",
            "    Found existing installation: nvidia-nccl-cu12 2.23.4\n",
            "    Uninstalling nvidia-nccl-cu12-2.23.4:\n",
            "      Successfully uninstalled nvidia-nccl-cu12-2.23.4\n",
            "  Attempting uninstall: nvidia-cusparse-cu12\n",
            "    Found existing installation: nvidia-cusparse-cu12 12.5.4.2\n",
            "    Uninstalling nvidia-cusparse-cu12-12.5.4.2:\n",
            "      Successfully uninstalled nvidia-cusparse-cu12-12.5.4.2\n",
            "  Attempting uninstall: nvidia-curand-cu12\n",
            "    Found existing installation: nvidia-curand-cu12 10.3.7.77\n",
            "    Uninstalling nvidia-curand-cu12-10.3.7.77:\n",
            "      Successfully uninstalled nvidia-curand-cu12-10.3.7.77\n",
            "  Attempting uninstall: nvidia-cufft-cu12\n",
            "    Found existing installation: nvidia-cufft-cu12 11.3.0.4\n",
            "    Uninstalling nvidia-cufft-cu12-11.3.0.4:\n",
            "      Successfully uninstalled nvidia-cufft-cu12-11.3.0.4\n",
            "  Attempting uninstall: nvidia-cuda-runtime-cu12\n",
            "    Found existing installation: nvidia-cuda-runtime-cu12 12.6.77\n",
            "    Uninstalling nvidia-cuda-runtime-cu12-12.6.77:\n",
            "      Successfully uninstalled nvidia-cuda-runtime-cu12-12.6.77\n",
            "  Attempting uninstall: nvidia-cuda-cupti-cu12\n",
            "    Found existing installation: nvidia-cuda-cupti-cu12 12.6.80\n",
            "    Uninstalling nvidia-cuda-cupti-cu12-12.6.80:\n",
            "      Successfully uninstalled nvidia-cuda-cupti-cu12-12.6.80\n",
            "  Attempting uninstall: nvidia-cublas-cu12\n",
            "    Found existing installation: nvidia-cublas-cu12 12.6.3.3\n",
            "    Uninstalling nvidia-cublas-cu12-12.6.3.3:\n",
            "      Successfully uninstalled nvidia-cublas-cu12-12.6.3.3\n",
            "  Attempting uninstall: nvidia-cusolver-cu12\n",
            "    Found existing installation: nvidia-cusolver-cu12 11.7.1.2\n",
            "    Uninstalling nvidia-cusolver-cu12-11.7.1.2:\n",
            "      Successfully uninstalled nvidia-cusolver-cu12-11.7.1.2\n",
            "  Attempting uninstall: nvidia-cudnn-cu12\n",
            "    Found existing installation: nvidia-cudnn-cu12 9.5.1.17\n",
            "    Uninstalling nvidia-cudnn-cu12-9.5.1.17:\n",
            "      Successfully uninstalled nvidia-cudnn-cu12-9.5.1.17\n",
            "  Attempting uninstall: torch\n",
            "    Found existing installation: torch 2.5.1+cu121\n",
            "    Uninstalling torch-2.5.1+cu121:\n",
            "      Successfully uninstalled torch-2.5.1+cu121\n",
            "\u001b[31mERROR: pip's dependency resolver does not currently take into account all the packages that are installed. This behaviour is the source of the following dependency conflicts.\n",
            "torchaudio 2.5.1+cu121 requires torch==2.5.1, but you have torch 2.3.0 which is incompatible.\n",
            "torchvision 0.20.1+cu121 requires torch==2.5.1, but you have torch 2.3.0 which is incompatible.\u001b[0m\u001b[31m\n",
            "\u001b[0mSuccessfully installed nvidia-cublas-cu12-12.1.3.1 nvidia-cuda-cupti-cu12-12.1.105 nvidia-cuda-nvrtc-cu12-12.1.105 nvidia-cuda-runtime-cu12-12.1.105 nvidia-cudnn-cu12-8.9.2.26 nvidia-cufft-cu12-11.0.2.54 nvidia-curand-cu12-10.3.2.106 nvidia-cusolver-cu12-11.4.5.107 nvidia-cusparse-cu12-12.1.0.106 nvidia-nccl-cu12-2.20.5 nvidia-nvtx-cu12-12.1.105 torch-2.3.0 torchtext-0.18.0 triton-2.3.0\n"
          ]
        },
        {
          "output_type": "display_data",
          "data": {
            "application/vnd.colab-display-data+json": {
              "pip_warning": {
                "packages": [
                  "torch",
                  "torchgen"
                ]
              },
              "id": "7b568808b21147f2b5d6c86c44fc2a4f"
            }
          },
          "metadata": {}
        }
      ]
    },
    {
      "cell_type": "markdown",
      "metadata": {
        "id": "3737e3ba-d995-4556-a3dd-3891902fccad"
      },
      "source": [
        "### Importing required libraries\n"
      ]
    },
    {
      "cell_type": "code",
      "metadata": {
        "id": "6f1044ed-7e91-4ce3-9399-21f54e51d8c8"
      },
      "outputs": [],
      "source": [
        "# You can also use this section to suppress warnings generated by your code:\n",
        "def warn(*args, **kwargs):\n",
        "    pass\n",
        "import warnings\n",
        "warnings.warn = warn\n",
        "warnings.filterwarnings('ignore')\n",
        "\n",
        "from tqdm import tqdm\n",
        "import numpy as np\n",
        "import pandas as pd\n",
        "from itertools import accumulate\n",
        "import matplotlib.pyplot as plt\n",
        "import math\n",
        "\n",
        "import torch\n",
        "import torch.nn as nn\n",
        "\n",
        "from sklearn.manifold import TSNE\n",
        "\n",
        "from torch.utils.data import DataLoader\n",
        "import numpy as np\n",
        "from torchtext.datasets import AG_NEWS\n",
        "from IPython.display import Markdown as md\n",
        "from tqdm import tqdm\n",
        "\n",
        "from torchtext.data.utils import get_tokenizer\n",
        "from torchtext.vocab import build_vocab_from_iterator\n",
        "from torchtext.datasets import AG_NEWS\n",
        "from torch.utils.data.dataset import random_split\n",
        "from torchtext.data.functional import to_map_style_dataset\n",
        "from sklearn.manifold import TSNE\n",
        "import plotly.graph_objs as go\n",
        "import pickle\n",
        "\n",
        "from torch.nn.utils.rnn import pad_sequence"
      ],
      "execution_count": 1
    },
    {
      "cell_type": "markdown",
      "metadata": {
        "id": "5f0a646d-7ef1-49db-8e94-ef9173ec425f"
      },
      "source": [
        "### Defining helper functions\n"
      ]
    },
    {
      "cell_type": "code",
      "metadata": {
        "id": "4edf8726-80bf-4063-9806-3e333da601ed"
      },
      "outputs": [],
      "source": [
        "def plot(COST,ACC):\n",
        "\n",
        "    fig, ax1 = plt.subplots()\n",
        "    color = 'tab:red'\n",
        "    ax1.plot(COST, color=color)\n",
        "    ax1.set_xlabel('epoch', color=color)\n",
        "    ax1.set_ylabel('total loss', color=color)\n",
        "    ax1.tick_params(axis='y', color=color)\n",
        "\n",
        "    ax2 = ax1.twinx()\n",
        "    color = 'tab:blue'\n",
        "    ax2.set_ylabel('accuracy', color=color)  # you already handled the x-label with ax1\n",
        "    ax2.plot(ACC, color=color)\n",
        "    ax2.tick_params(axis='y', color=color)\n",
        "    fig.tight_layout()  # otherwise the right y-label is slightly clipped\n",
        "\n",
        "    plt.show()"
      ],
      "execution_count": 2
    },
    {
      "cell_type": "code",
      "metadata": {
        "id": "aa1a4cf5-d993-4079-bb93-99bc29aebe0e"
      },
      "outputs": [],
      "source": [
        "def plot_embdings(my_embdings,name,vocab):\n",
        "\n",
        "  fig = plt.figure()\n",
        "  ax = fig.add_subplot(111, projection='3d')\n",
        "\n",
        "  # Plot the data points\n",
        "  # For X, Y and Z axis\n",
        "  ax.scatter(my_embdings[:,0], my_embdings[:,1], my_embdings[:,2])\n",
        "\n",
        "  # Label the points\n",
        "  for j, label in enumerate(name):\n",
        "      # Get all the words\n",
        "      i = vocab.get_stoi()[label]\n",
        "      ax.text(my_embdings[j,0], my_embdings[j,1], my_embdings[j,2], label)\n",
        "\n",
        "  # Set axis labels\n",
        "  ax.set_xlabel('X Label')\n",
        "  ax.set_ylabel('Y Label')\n",
        "  ax.set_zlabel('Z Label')\n",
        "\n",
        "  # Show the plot\n",
        "  plt.show()"
      ],
      "execution_count": 3
    },
    {
      "cell_type": "code",
      "metadata": {
        "id": "f417bde2-d9cb-40f1-beca-37a52b963cc2"
      },
      "outputs": [],
      "source": [
        "def plot_tras(words, model):\n",
        "    # Tokenize the input words using a tokenizer function\n",
        "    tokens = tokenizer(words)\n",
        "\n",
        "    # Define the model's embedding dimension (d_model)\n",
        "    d_model = 100\n",
        "\n",
        "    # Convert the input words to a PyTorch tensor and move it to the specified device\n",
        "    x = torch.tensor(data=text_pipeline(words)).unsqueeze(dim=0).to(device)\n",
        "\n",
        "    # Apply the model's embedding layer and scale the embeddings by sqrt(d_model)\n",
        "    x_ = model.emb(x) * math.sqrt(d_model)\n",
        "\n",
        "    # Apply the model's positional encoder to the embeddings\n",
        "    x = model.pos_encoder(x_)\n",
        "\n",
        "    # Extract projection weights for query, key, and value from the model's state_dict\n",
        "    q_proj_weight = model.state_dict()['transformer_encoder.layers.0.self_attn.in_proj_weight'][0:embed_dim].t()\n",
        "    k_proj_weight = model.state_dict()['transformer_encoder.layers.0.self_attn.in_proj_weight'][embed_dim:2*embed_dim].t()\n",
        "    v_proj_weight = model.state_dict()['transformer_encoder.layers.0.self_attn.in_proj_weight'][2*embed_dim:3*embed_dim].t()\n",
        "\n",
        "    # Calculate query (Q), key (K), and value (V) matrices\n",
        "    Q = (x @ q_proj_weight).squeeze(0)\n",
        "    K = (x @ k_proj_weight).squeeze(0)\n",
        "    V = (x @ v_proj_weight).squeeze(0)\n",
        "\n",
        "    # Calculate attention scores using dot-product attention\n",
        "    scores = Q @ K.T\n",
        "\n",
        "    # Set row and column labels for the attention matrix\n",
        "    row_labels = tokens\n",
        "    col_labels = row_labels\n",
        "\n",
        "    # Create a heatmap of the attention scores\n",
        "    plt.figure(figsize=(10, 8))\n",
        "    plt.imshow(scores.cpu().detach().numpy())\n",
        "    plt.yticks(range(len(row_labels)), row_labels)\n",
        "    plt.xticks(range(len(col_labels)), col_labels, rotation=90)\n",
        "    plt.title(\"Dot-Product Attention\")\n",
        "    plt.show()\n",
        "\n",
        "    # Apply softmax to the attention scores and create a heatmap\n",
        "    att = nn.Softmax(dim=1)(scores)\n",
        "    plt.figure(figsize=(10, 8))\n",
        "    plt.imshow(att.cpu().detach().numpy())\n",
        "    plt.yticks(range(len(row_labels)), row_labels)\n",
        "    plt.xticks(range(len(col_labels)), col_labels, rotation=90)\n",
        "    plt.title(\"Scaled Dot-Product Attention\")\n",
        "    plt.show()\n",
        "\n",
        "    # Calculate the attention head by multiplying softmax scores with values (V)\n",
        "    head = nn.Softmax(dim=1)(scores) @ V\n",
        "\n",
        "    # Visualize the embeddings and attention heads using t-SNE\n",
        "    tsne(x_, tokens, title=\"Embeddings\")\n",
        "    tsne(head, tokens, title=\"Attention Heads\")\n",
        "\n",
        "\n",
        "def tsne(embeddings, tokens, title=\"Embeddings\"):\n",
        "    # Initialize t-SNE with 2 components and a fixed random state\n",
        "    tsne = TSNE(n_components=2, random_state=0)\n",
        "\n",
        "    # Fit t-SNE to the embeddings (converting from GPU if necessary)\n",
        "    tsne_result = tsne.fit_transform(embeddings.squeeze(0).cpu().detach().numpy())\n",
        "\n",
        "    # Create a scatter plot of the t-SNE results\n",
        "    plt.scatter(tsne_result[:, 0], tsne_result[:, 1])\n",
        "\n",
        "    # Set a title for the plot\n",
        "    plt.title(title)\n",
        "\n",
        "    # Add labels for each point in the scatter plot\n",
        "    for j, label in enumerate(tokens):\n",
        "        # Place the label text at the corresponding t-SNE coordinates\n",
        "        plt.text(tsne_result[j, 0], tsne_result[j, 1], label)\n",
        "\n",
        "    plt.show()"
      ],
      "execution_count": 4
    },
    {
      "cell_type": "code",
      "metadata": {
        "id": "653315d4-6ecc-4006-be5e-a1dabda61c55"
      },
      "outputs": [],
      "source": [
        "def save_list_to_file(lst, filename):\n",
        "    \"\"\"\n",
        "    Save a list to a file using pickle serialization.\n",
        "\n",
        "    Parameters:\n",
        "        lst (list): The list to be saved.\n",
        "        filename (str): The name of the file to save the list to.\n",
        "\n",
        "    Returns:\n",
        "        None\n",
        "    \"\"\"\n",
        "    with open(filename, 'wb') as file:\n",
        "        pickle.dump(lst, file)\n",
        "\n",
        "def load_list_from_file(filename):\n",
        "    \"\"\"\n",
        "    Load a list from a file using pickle deserialization.\n",
        "\n",
        "    Parameters:\n",
        "        filename (str): The name of the file to load the list from.\n",
        "\n",
        "    Returns:\n",
        "        list: The loaded list.\n",
        "    \"\"\"\n",
        "    with open(filename, 'rb') as file:\n",
        "        loaded_list = pickle.load(file)\n",
        "    return loaded_list"
      ],
      "execution_count": 5
    },
    {
      "cell_type": "markdown",
      "metadata": {
        "id": "757e1bd9-de73-4b10-8821-8394be2ba2e8"
      },
      "source": [
        "## Toy dataset\n",
        "These are essentially the same steps that you have done in the previous labs. However, let's have a brief explanation. The code defines a dataset, tokenizes the text data using a basic English tokenizer, creates a vocabulary from the tokenized data, and sets up a default index for handling unknown tokens.\n"
      ]
    },
    {
      "cell_type": "code",
      "metadata": {
        "colab": {
          "base_uri": "https://localhost:8080/"
        },
        "id": "83ef9e79-23b0-4d29-a103-6183c8d37fdf",
        "outputId": "51512020-b741-4457-c362-baaf1adf4640"
      },
      "outputs": [
        {
          "output_type": "stream",
          "name": "stdout",
          "text": [
            "tokenizer = <function _basic_english_normalize at 0x79ac9b0d4dc0>\n",
            "{'vs': 26, 'of': 20, 'basics': 16, 'the': 15, 'introduction': 19, 'painted': 13, 'to': 24, 'he': 12, 'recognition': 21, 'for': 18, 'nlp': 1, 'entity': 4, 'pytorch': 2, 'using': 25, 'classification': 17, 'analysis': 3, 'translation': 8, 'techniques': 22, 'machine': 5, 'red': 14, 'car': 11, 'named': 6, ',': 10, 'text': 23, 'sentiment': 7, '<unk>': 0, 'with': 9}\n"
          ]
        }
      ],
      "source": [
        "dataset = [\n",
        "    (1,\"Introduction to NLP\"),\n",
        "    (2,\"Basics of PyTorch\"),\n",
        "    (1,\"NLP Techniques for Text Classification\"),\n",
        "    (3,\"Named Entity Recognition with PyTorch\"),\n",
        "    (3,\"Sentiment Analysis using PyTorch\"),\n",
        "    (3,\"Machine Translation with PyTorch\"),\n",
        "    (1,\" NLP Named Entity,Sentiment Analysis,Machine Translation \"),\n",
        "    (1,\" Machine Translation with NLP \"),\n",
        "    (1,\" Named Entity vs Sentiment Analysis  NLP \"),\n",
        "    (3,\"he painted the car red\"),\n",
        "    (1,\"he painted the red car\")\n",
        "    ]\n",
        "\n",
        "tokenizer = get_tokenizer(\"basic_english\")\n",
        "print(f\"tokenizer = {tokenizer}\")\n",
        "def yield_tokens(data_iter):\n",
        "    for  _,text in data_iter:\n",
        "        yield tokenizer(text)\n",
        "\n",
        "vocab = build_vocab_from_iterator(yield_tokens(dataset), specials=[\"<unk>\"])\n",
        "vocab.set_default_index(vocab[\"<unk>\"])\n",
        "print(vocab.get_stoi())"
      ],
      "execution_count": 6
    },
    {
      "cell_type": "markdown",
      "metadata": {
        "id": "8e173a5b-1a99-480c-9b3a-cb5e8779d4d7"
      },
      "source": [
        "Prepare the text processing pipeline with the tokenizer and vocabulary. The text and label pipelines will be used to process the raw data strings from the dataset iterators.\n",
        "\n",
        "The function **```text_pipeline```** will tokenize the input text, and **```vocab```** will then be applied to get the token indices.\n",
        "The **```label_pipeline```** will ensure that the labels start at zero.\n",
        "\n",
        "These pipelines are defined here for future use.\n"
      ]
    },
    {
      "cell_type": "code",
      "metadata": {
        "id": "2a4dc3dd-abc2-4a03-aa19-6e52f8610549"
      },
      "outputs": [],
      "source": [
        "def text_pipeline(x):\n",
        "  return vocab(tokenizer(x))\n",
        "\n",
        "def label_pipeline(x):\n",
        "   return int(x) - 1"
      ],
      "execution_count": 7
    },
    {
      "cell_type": "code",
      "source": [
        "# Since 'How' is not in vocab, its <UNK> => 0\n",
        "print(text_pipeline(\"He How painted\"))"
      ],
      "metadata": {
        "colab": {
          "base_uri": "https://localhost:8080/"
        },
        "id": "KR5fblKlMxWV",
        "outputId": "bd67d7c6-b345-4470-b3e0-1958816424af"
      },
      "execution_count": 8,
      "outputs": [
        {
          "output_type": "stream",
          "name": "stdout",
          "text": [
            "[12, 0, 13]\n"
          ]
        }
      ]
    },
    {
      "cell_type": "markdown",
      "metadata": {
        "id": "3594c309-c348-421f-af5f-1a9b79f25236"
      },
      "source": [
        "\n",
        "## Zero padding\n",
        "In numerous PyTorch applications, ensuring consistent batch sizes is a fundamental requirement. This necessitates the use of zero-padding to harmonize varying sequence lengths within each batch, you can do this using ```pad_sequence```, consider the list of tensors of different lengths:\n"
      ]
    },
    {
      "cell_type": "code",
      "metadata": {
        "colab": {
          "base_uri": "https://localhost:8080/"
        },
        "id": "19ba11ca-9277-4ee0-82d1-6f204d27c669",
        "outputId": "13562169-9ddb-4c6c-90fa-7162aa764f22"
      },
      "outputs": [
        {
          "output_type": "execute_result",
          "data": {
            "text/plain": [
              "[tensor([1]),\n",
              " tensor([1, 2]),\n",
              " tensor([1, 2, 3]),\n",
              " tensor([1, 2, 3, 4]),\n",
              " tensor([1, 2, 3, 4, 5]),\n",
              " tensor([1, 2, 3, 4, 5, 6]),\n",
              " tensor([1, 2, 3, 4, 5, 6, 7]),\n",
              " tensor([1, 2, 3, 4, 5, 6, 7, 8])]"
            ]
          },
          "metadata": {},
          "execution_count": 9
        }
      ],
      "source": [
        "sequences = [torch.tensor([j for j in range(1,i)]) for i in range(2,10)]\n",
        "sequences"
      ],
      "execution_count": 9
    },
    {
      "cell_type": "markdown",
      "metadata": {
        "id": "821380af-8273-4505-9ca7-46ef2e3a68ec"
      },
      "source": [
        "The function `pad_sequence` from `torch.nn.utils.rnn` in PyTorch is used to pad a sequence of tensors to the same length along a specified dimension. This function is commonly used when dealing with sequences of variable lengths, such as in natural language processing (NLP) tasks when working with tokenized sentences of different lengths.\n",
        "\n",
        "Here's how it works:\n",
        "\n",
        "1. **Input**: `pad_sequence` takes a list of tensors as input, where each tensor represents a sequence. These sequences can have different lengths.\n",
        "2. **Padding**: The function pads the sequences with zeros (or another specified padding value) to make them all the same length. It pads sequences to match the length of the longest sequence in the list.\n",
        "3. **Output**: The output is a single tensor where all sequences are stacked along the specified dimension (by default, it's the first dimension). The result is a batch of sequences with the same length.\n"
      ]
    },
    {
      "cell_type": "code",
      "metadata": {
        "colab": {
          "base_uri": "https://localhost:8080/"
        },
        "id": "1903e6a1-937f-4ee7-9424-7e140429e3f0",
        "outputId": "48391717-26ad-44bf-eb56-28288199b5e4"
      },
      "outputs": [
        {
          "output_type": "stream",
          "name": "stdout",
          "text": [
            "tensor([[1, 0, 0, 0, 0, 0, 0, 0],\n",
            "        [1, 2, 0, 0, 0, 0, 0, 0],\n",
            "        [1, 2, 3, 0, 0, 0, 0, 0],\n",
            "        [1, 2, 3, 4, 0, 0, 0, 0],\n",
            "        [1, 2, 3, 4, 5, 0, 0, 0],\n",
            "        [1, 2, 3, 4, 5, 6, 0, 0],\n",
            "        [1, 2, 3, 4, 5, 6, 7, 0],\n",
            "        [1, 2, 3, 4, 5, 6, 7, 8]])\n"
          ]
        }
      ],
      "source": [
        "padded_sequences = pad_sequence(sequences=sequences, batch_first=True, padding_value=0)\n",
        "print(padded_sequences)"
      ],
      "execution_count": 10
    },
    {
      "cell_type": "markdown",
      "metadata": {
        "id": "b0a80a82-435d-4978-a120-a4ed90fe8753"
      },
      "source": [
        "---\n"
      ]
    },
    {
      "cell_type": "markdown",
      "metadata": {
        "id": "759842c9-930d-4e10-8cbc-30bd0b56e58e"
      },
      "source": [
        "## Positional encodings\n",
        "\n",
        "Positional encodings play a pivotal role in transformers and various sequence-to-sequence models, aiding in conveying critical information regarding the positions or sequencing of elements within a given sequence. To illustrate, let's examine the sentences: \"He painted the car red\" and \"He painted the red car.\" Despite their distinct meanings, it's worth noting that the embeddings for these sentences remain identical as shown here:\n"
      ]
    },
    {
      "cell_type": "code",
      "metadata": {
        "colab": {
          "base_uri": "https://localhost:8080/"
        },
        "id": "d79b402c-84f0-49d4-b061-80c5f38f11b8",
        "outputId": "e3b179ac-a651-4997-ba93-2f564978b8e4"
      },
      "outputs": [
        {
          "output_type": "stream",
          "name": "stdout",
          "text": [
            "my_index = [12, 13, 15, 11, 14, 12, 13, 15, 14, 11]\n",
            "Vocab size = 27\n"
          ]
        }
      ],
      "source": [
        "my_tokens = \"he painted the car red he painted the red car\"\n",
        "\n",
        "my_index = text_pipeline(my_tokens)\n",
        "print(f\"my_index = {my_index}\")\n",
        "\n",
        "embedding_dim = 3\n",
        "\n",
        "vocab_size = len(vocab)\n",
        "print(f\"Vocab size = {vocab_size}\")\n",
        "\n",
        "embedding = nn.Embedding(vocab_size, embedding_dim)"
      ],
      "execution_count": 11
    },
    {
      "cell_type": "code",
      "metadata": {
        "colab": {
          "base_uri": "https://localhost:8080/",
          "height": 430
        },
        "id": "e6cccb94-df92-49ce-b45b-c06e216f1864",
        "outputId": "d396adae-b67c-4b21-fa96-e37cf42bc71a"
      },
      "outputs": [
        {
          "output_type": "stream",
          "name": "stdout",
          "text": [
            "Embeddings shape = (10, 3)\n"
          ]
        },
        {
          "output_type": "display_data",
          "data": {
            "text/plain": [
              "<Figure size 640x480 with 1 Axes>"
            ],
            "image/png": "[encoded data removed]"
          },
          "metadata": {}
        }
      ],
      "source": [
        "my_embdings = embedding(torch.tensor(my_index)).detach().numpy()\n",
        "print(f\"Embeddings shape = {my_embdings.shape}\")\n",
        "plot_embdings(my_embdings,tokenizer(my_tokens),vocab)"
      ],
      "execution_count": 12
    },
    {
      "cell_type": "markdown",
      "metadata": {
        "id": "c96742df-1a1f-4771-9a75-bf1ac89b35df"
      },
      "source": [
        "You can effectively represent the position of each sample within a sequence by associating it with its corresponding position index, expressing the positional encoding as $p_{n}=n$, where $n$ represents the sample's position in the sequence. To illustrate, you can assign index 0 to the initial encoding, index 1 to the second, and so forth. This approach remains robust even when handling sequences of considerable length, extending as far as your vocabulary permits.\n"
      ]
    },
    {
      "cell_type": "code",
      "metadata": {
        "colab": {
          "base_uri": "https://localhost:8080/"
        },
        "id": "0abcad2a-fe80-401d-a486-893eace03148",
        "outputId": "9be07ad9-4a0f-43b5-9c52-84f2efa63867"
      },
      "outputs": [
        {
          "output_type": "execute_result",
          "data": {
            "text/plain": [
              "tensor([[ 0.],\n",
              "        [ 1.],\n",
              "        [ 2.],\n",
              "        [ 3.],\n",
              "        [ 4.],\n",
              "        [ 5.],\n",
              "        [ 6.],\n",
              "        [ 7.],\n",
              "        [ 8.],\n",
              "        [ 9.],\n",
              "        [10.],\n",
              "        [11.],\n",
              "        [12.],\n",
              "        [13.],\n",
              "        [14.],\n",
              "        [15.],\n",
              "        [16.],\n",
              "        [17.],\n",
              "        [18.],\n",
              "        [19.],\n",
              "        [20.],\n",
              "        [21.],\n",
              "        [22.],\n",
              "        [23.],\n",
              "        [24.],\n",
              "        [25.],\n",
              "        [26.]])"
            ]
          },
          "metadata": {},
          "execution_count": 13
        }
      ],
      "source": [
        "position = torch.arange(0, vocab_size, dtype=torch.float).unsqueeze(1)\n",
        "position"
      ],
      "execution_count": 13
    },
    {
      "cell_type": "markdown",
      "metadata": {
        "id": "d7e0674a-ef0a-40d0-af06-214a26553104"
      },
      "source": [
        "You can assign importance to each dimension \\(d\\) within the embedding, denoting it as $\\textbf{p}_{n,d}$. For instance, in the case of an embedding dimension of three, the positional encodings $\\textbf{p}_{n,d}$ would be represented as $[\\text{ }p_{n,1},\\text{ }p_{n,2},\\text{ }p_{n,3}]$, which, in turn, corresponds to a three-dimensional embedding of each token.\n"
      ]
    },
    {
      "cell_type": "code",
      "metadata": {
        "colab": {
          "base_uri": "https://localhost:8080/"
        },
        "id": "3ace9f29-63f1-4ea0-9ce5-0555afcf4084",
        "outputId": "ad90c767-65ab-4b5f-e591-b8a543f17553"
      },
      "outputs": [
        {
          "output_type": "execute_result",
          "data": {
            "text/plain": [
              "torch.Size([27, 3])"
            ]
          },
          "metadata": {},
          "execution_count": 14
        }
      ],
      "source": [
        "d_model = 3\n",
        "pe = torch.zeros(vocab_size,d_model)\n",
        "pe.shape"
      ],
      "execution_count": 14
    },
    {
      "cell_type": "code",
      "metadata": {
        "colab": {
          "base_uri": "https://localhost:8080/"
        },
        "id": "b986fdd2-e316-4609-afc1-b017515b22ce",
        "outputId": "fc45b928-14d5-4c3b-8af1-d4910daf10d1"
      },
      "outputs": [
        {
          "output_type": "stream",
          "name": "stdout",
          "text": [
            "tensor([[ 0.,  0.,  0.],\n",
            "        [ 1.,  1.,  1.],\n",
            "        [ 2.,  2.,  2.],\n",
            "        [ 3.,  3.,  3.],\n",
            "        [ 4.,  4.,  4.],\n",
            "        [ 5.,  5.,  5.],\n",
            "        [ 6.,  6.,  6.],\n",
            "        [ 7.,  7.,  7.],\n",
            "        [ 8.,  8.,  8.],\n",
            "        [ 9.,  9.,  9.],\n",
            "        [10., 10., 10.],\n",
            "        [11., 11., 11.],\n",
            "        [12., 12., 12.],\n",
            "        [13., 13., 13.],\n",
            "        [14., 14., 14.],\n",
            "        [15., 15., 15.],\n",
            "        [16., 16., 16.],\n",
            "        [17., 17., 17.],\n",
            "        [18., 18., 18.],\n",
            "        [19., 19., 19.],\n",
            "        [20., 20., 20.],\n",
            "        [21., 21., 21.],\n",
            "        [22., 22., 22.],\n",
            "        [23., 23., 23.],\n",
            "        [24., 24., 24.],\n",
            "        [25., 25., 25.],\n",
            "        [26., 26., 26.]])\n",
            "torch.Size([27, 3])\n"
          ]
        }
      ],
      "source": [
        "pe = torch.cat(tensors=(position, position, position), dim=1)\n",
        "print(pe)\n",
        "print(pe.shape)"
      ],
      "execution_count": 15
    },
    {
      "cell_type": "markdown",
      "metadata": {
        "id": "0a7574e6-dc5d-4ac7-9a75-4ebb92a4f181"
      },
      "source": [
        "You only need positional encodings for each sequence of embeddings, and to determine this, simply count the number of embeddings in the sequence.\n"
      ]
    },
    {
      "cell_type": "code",
      "source": [
        "# Obtained for the sentence my_tokens='he painted the car red he painted the red car'\n",
        "my_embdings"
      ],
      "metadata": {
        "colab": {
          "base_uri": "https://localhost:8080/"
        },
        "id": "f0D_57UUWWJv",
        "outputId": "8e15d06d-b8f4-409b-b07a-b3a757d29dd9"
      },
      "execution_count": 16,
      "outputs": [
        {
          "output_type": "execute_result",
          "data": {
            "text/plain": [
              "array([[ 0.55475074,  0.4537132 ,  0.3359564 ],\n",
              "       [-0.11452395,  1.1998359 ,  0.17358409],\n",
              "       [-0.61926407, -1.345389  ,  0.6776685 ],\n",
              "       [ 0.33885077, -1.3107302 ,  0.2968314 ],\n",
              "       [ 1.0551969 , -1.4480604 , -1.5615281 ],\n",
              "       [ 0.55475074,  0.4537132 ,  0.3359564 ],\n",
              "       [-0.11452395,  1.1998359 ,  0.17358409],\n",
              "       [-0.61926407, -1.345389  ,  0.6776685 ],\n",
              "       [ 1.0551969 , -1.4480604 , -1.5615281 ],\n",
              "       [ 0.33885077, -1.3107302 ,  0.2968314 ]], dtype=float32)"
            ]
          },
          "metadata": {},
          "execution_count": 16
        }
      ]
    },
    {
      "cell_type": "code",
      "metadata": {
        "colab": {
          "base_uri": "https://localhost:8080/"
        },
        "id": "7d60d3d5-ef19-436e-883b-0a261f241ea9",
        "outputId": "cb255b83-a8ef-4993-a007-ad88b675fb0e"
      },
      "outputs": [
        {
          "output_type": "execute_result",
          "data": {
            "text/plain": [
              "(10, 3)"
            ]
          },
          "metadata": {},
          "execution_count": 17
        }
      ],
      "source": [
        "samples,dim=my_embdings.shape\n",
        "samples,dim"
      ],
      "execution_count": 17
    },
    {
      "cell_type": "markdown",
      "metadata": {
        "id": "f9ff7e04-57d2-4f0a-b123-6869f99c1c61"
      },
      "source": [
        "Once you add the positional encodings to the embeddings and plot the results; you will observe that they are different.\n"
      ]
    },
    {
      "cell_type": "markdown",
      "source": [
        "`pe` contains embeddings for all 27 tokens but we need only 10 tokens because our sentence is of 10 tokens"
      ],
      "metadata": {
        "id": "iv42geQl6t0m"
      }
    },
    {
      "cell_type": "code",
      "metadata": {
        "id": "65280589-2342-4467-ae1d-4c86781872fb"
      },
      "outputs": [],
      "source": [
        "pos_embding=my_embdings + pe[0:samples,:].numpy()"
      ],
      "execution_count": 18
    },
    {
      "cell_type": "code",
      "metadata": {
        "colab": {
          "base_uri": "https://localhost:8080/",
          "height": 406
        },
        "id": "7323f194-865a-49cc-ad22-4f445a7b49ca",
        "outputId": "a6a1d54a-f345-4a40-bd29-af922b7493ee"
      },
      "outputs": [
        {
          "output_type": "display_data",
          "data": {
            "text/plain": [
              "<Figure size 640x480 with 1 Axes>"
            ],
            "image/png": "[encoded data removed]"
          },
          "metadata": {}
        }
      ],
      "source": [
        "plot_embdings(pos_embding,tokenizer(my_tokens),vocab)"
      ],
      "execution_count": 19
    },
    {
      "cell_type": "markdown",
      "metadata": {
        "id": "604687d2-1295-4abb-9659-808ade70d66e"
      },
      "source": [
        "An issue arising from the integration of linear positional encodings lies in the substantial increase in the magnitude of embeddings for positions further along in the sequence. This phenomenon becomes particularly pronounced when dealing with extensive sequences. For instance, when examining the embeddings for the word \"car\" at indices 3 and 9, you will observe that the embedding at position 9 is notably larger. This disparity intensifies as the sequence length grows. Given that embeddings are meant to represent words, aim to avoid excessive divergence from the original embeddings.\n"
      ]
    },
    {
      "cell_type": "code",
      "metadata": {
        "colab": {
          "base_uri": "https://localhost:8080/"
        },
        "id": "67a271c3-b5de-4c76-bbd3-2aa078dbce79",
        "outputId": "300bfe48-8ffd-4393-8760-b2f75b60012c"
      },
      "outputs": [
        {
          "output_type": "execute_result",
          "data": {
            "text/plain": [
              "array([3.3388507, 1.6892698, 3.2968314], dtype=float32)"
            ]
          },
          "metadata": {},
          "execution_count": 20
        }
      ],
      "source": [
        "pos_embding[3] # add -3 to get original embedding"
      ],
      "execution_count": 20
    },
    {
      "cell_type": "code",
      "metadata": {
        "colab": {
          "base_uri": "https://localhost:8080/"
        },
        "id": "4c47a5c6-df66-40d5-a08b-648407e60458",
        "outputId": "c2427bb9-d326-4d0a-9300-45c55471df72"
      },
      "outputs": [
        {
          "output_type": "execute_result",
          "data": {
            "text/plain": [
              "array([9.338851, 7.68927 , 9.296831], dtype=float32)"
            ]
          },
          "metadata": {},
          "execution_count": 21
        }
      ],
      "source": [
        "pos_embding[-1] # add -9 to get original embedding"
      ],
      "execution_count": 21
    },
    {
      "cell_type": "markdown",
      "metadata": {
        "id": "c914508b-a6ed-43fa-80e8-b20f45dea3a4"
      },
      "source": [
        "You can address this magnitude issue through various approaches. Firstly, you can employ a function that doesn't exhibit such significant amplification. Additionally, you have the option to introduce different functions. For instance, when considering your word positional encodings, the magnitude of the positional encodings $\\textbf{p}_{n,d}$ can be represented as $[p_{n,1}, p_{n,2}, p_{n,3}]$, which, in this case, translates to $[0.1n, -0.1n, 1]$.\n"
      ]
    },
    {
      "cell_type": "code",
      "metadata": {
        "id": "be65c61f-2873-4242-8362-03943d2dc5c1",
        "colab": {
          "base_uri": "https://localhost:8080/"
        },
        "outputId": "4a7f53f0-ac4c-4afe-c0c1-c4ec0ae3df11"
      },
      "outputs": [
        {
          "output_type": "stream",
          "name": "stdout",
          "text": [
            "tensor([[ 0.0000, -0.0000,  0.0000],\n",
            "        [ 0.1000, -0.1000,  0.0000],\n",
            "        [ 0.2000, -0.2000,  0.0000],\n",
            "        [ 0.3000, -0.3000,  0.0000],\n",
            "        [ 0.4000, -0.4000,  0.0000],\n",
            "        [ 0.5000, -0.5000,  0.0000],\n",
            "        [ 0.6000, -0.6000,  0.0000],\n",
            "        [ 0.7000, -0.7000,  0.0000],\n",
            "        [ 0.8000, -0.8000,  0.0000],\n",
            "        [ 0.9000, -0.9000,  0.0000],\n",
            "        [ 1.0000, -1.0000,  0.0000],\n",
            "        [ 1.1000, -1.1000,  0.0000],\n",
            "        [ 1.2000, -1.2000,  0.0000],\n",
            "        [ 1.3000, -1.3000,  0.0000],\n",
            "        [ 1.4000, -1.4000,  0.0000],\n",
            "        [ 1.5000, -1.5000,  0.0000],\n",
            "        [ 1.6000, -1.6000,  0.0000],\n",
            "        [ 1.7000, -1.7000,  0.0000],\n",
            "        [ 1.8000, -1.8000,  0.0000],\n",
            "        [ 1.9000, -1.9000,  0.0000],\n",
            "        [ 2.0000, -2.0000,  0.0000],\n",
            "        [ 2.1000, -2.1000,  0.0000],\n",
            "        [ 2.2000, -2.2000,  0.0000],\n",
            "        [ 2.3000, -2.3000,  0.0000],\n",
            "        [ 2.4000, -2.4000,  0.0000],\n",
            "        [ 2.5000, -2.5000,  0.0000],\n",
            "        [ 2.6000, -2.6000,  0.0000]])\n",
            "torch.Size([27, 3])\n"
          ]
        }
      ],
      "source": [
        "pe = torch.cat(tensors=(0.1*position, -0.1*position, 0*position), dim=1)\n",
        "print(pe)\n",
        "print(pe.shape)"
      ],
      "execution_count": 22
    },
    {
      "cell_type": "markdown",
      "metadata": {
        "id": "dbd705e0-ed6a-47d3-b58b-5133147629c8"
      },
      "source": [
        "You can plot the positional encodings.\n"
      ]
    },
    {
      "cell_type": "code",
      "metadata": {
        "id": "26b8ecb6-fb5e-4aa1-8eba-c584c7a43799",
        "colab": {
          "base_uri": "https://localhost:8080/",
          "height": 449
        },
        "outputId": "8225a5bf-2455-4185-f270-bf6ba12d9b5c"
      },
      "outputs": [
        {
          "output_type": "display_data",
          "data": {
            "text/plain": [
              "<Figure size 640x480 with 1 Axes>"
            ],
            "image/png": "[encoded data removed]"
          },
          "metadata": {}
        }
      ],
      "source": [
        "plt.plot(pe[:, 0].numpy(), label=\"Dimension 1\")\n",
        "plt.plot(pe[:, 1].numpy(), label=\"Dimension 2\")\n",
        "plt.plot(pe[:, 2].numpy(), label=\"Dimension 3\")\n",
        "\n",
        "plt.xlabel(\"Sequence Number\")\n",
        "plt.legend()\n",
        "plt.show()"
      ],
      "execution_count": 23
    },
    {
      "cell_type": "markdown",
      "metadata": {
        "id": "073c21f1-dc8a-45b8-8c64-d972b3cf0b35"
      },
      "source": [
        "You will observe that the words are closer together, but employing a linear function still presents the same drawbacks.\n"
      ]
    },
    {
      "cell_type": "code",
      "metadata": {
        "id": "b0faaa56-69f0-4abe-864a-475da5c84cf8",
        "colab": {
          "base_uri": "https://localhost:8080/",
          "height": 406
        },
        "outputId": "00620a2b-0774-44d7-9f27-f7c580a05b0a"
      },
      "outputs": [
        {
          "output_type": "display_data",
          "data": {
            "text/plain": [
              "<Figure size 640x480 with 1 Axes>"
            ],
            "image/png": "[encoded data removed]"
          },
          "metadata": {}
        }
      ],
      "source": [
        "pos_embding = my_embdings + pe[0:samples,:].numpy()\n",
        "plot_embdings(pos_embding,tokenizer(my_tokens),vocab)"
      ],
      "execution_count": 24
    },
    {
      "cell_type": "markdown",
      "metadata": {
        "id": "00753ba9-2ea2-4e38-9be9-1ac9ecb002b9"
      },
      "source": [
        "When you examine the positional encodings, you will notice that the words appear to be closer together. However, it's important to acknowledge that the use of a linear function introduces similar drawbacks. While the words may seem closer in proximity, you will still encounter certain limitations associated with linear positional encodings. These limitations include the potential for amplifying magnitudes, which can impact the model's ability to effectively capture nuanced positional information. To address these challenges, alternative approaches and functions can be explored to provide more context-aware and adaptive positional encodings.\n",
        "\n",
        "Periodic functions, such as sine and cosine functions, possess the property of periodicity. This means they repeat their values over a regular interval, preventing them from growing too rapidly.\n"
      ]
    },
    {
      "cell_type": "code",
      "metadata": {
        "id": "409d6e4b-5487-424c-8753-b4b667673dd5",
        "colab": {
          "base_uri": "https://localhost:8080/",
          "height": 417
        },
        "outputId": "335c499d-a4c2-4c02-b531-5d5979fbef36"
      },
      "outputs": [
        {
          "output_type": "display_data",
          "data": {
            "text/plain": [
              "<Figure size 640x480 with 1 Axes>"
            ],
            "image/png": "[encoded data removed]"
          },
          "metadata": {}
        }
      ],
      "source": [
        "pe = torch.cat(tensors=(torch.sin(2*3.14*position/6), 0*position+1, 0*position+1), dim=1)\n",
        "pos_embding = my_embdings + pe[0:samples,:].numpy()\n",
        "plot_embdings(pos_embding,tokenizer(my_tokens),vocab)"
      ],
      "execution_count": 25
    },
    {
      "cell_type": "markdown",
      "metadata": {
        "id": "bcb828a2-87d9-4e04-ac61-e9f17b84a114"
      },
      "source": [
        "The first dimension of **$pe$** follows a sine wave pattern, while the 2nd and 3rd dimensions have constant values. This is showcased in the graph below.\n"
      ]
    },
    {
      "cell_type": "code",
      "metadata": {
        "id": "761ee0a7-e8f6-48d1-b6cf-c00be63d7c41",
        "colab": {
          "base_uri": "https://localhost:8080/"
        },
        "outputId": "cad45aaa-95eb-46b4-9248-b20ff670cbf2"
      },
      "outputs": [
        {
          "output_type": "execute_result",
          "data": {
            "text/plain": [
              "tensor([[ 0.0000,  1.0000,  1.0000],\n",
              "        [ 0.8658,  1.0000,  1.0000],\n",
              "        [ 0.8666,  1.0000,  1.0000],\n",
              "        [ 0.0016,  1.0000,  1.0000],\n",
              "        [-0.8650,  1.0000,  1.0000],\n",
              "        [-0.8673,  1.0000,  1.0000],\n",
              "        [-0.0032,  1.0000,  1.0000],\n",
              "        [ 0.8642,  1.0000,  1.0000],\n",
              "        [ 0.8681,  1.0000,  1.0000],\n",
              "        [ 0.0048,  1.0000,  1.0000],\n",
              "        [-0.8634,  1.0000,  1.0000],\n",
              "        [-0.8689,  1.0000,  1.0000],\n",
              "        [-0.0064,  1.0000,  1.0000],\n",
              "        [ 0.8626,  1.0000,  1.0000],\n",
              "        [ 0.8697,  1.0000,  1.0000],\n",
              "        [ 0.0080,  1.0000,  1.0000],\n",
              "        [-0.8617,  1.0000,  1.0000],\n",
              "        [-0.8705,  1.0000,  1.0000],\n",
              "        [-0.0096,  1.0000,  1.0000],\n",
              "        [ 0.8609,  1.0000,  1.0000],\n",
              "        [ 0.8713,  1.0000,  1.0000],\n",
              "        [ 0.0111,  1.0000,  1.0000],\n",
              "        [-0.8601,  1.0000,  1.0000],\n",
              "        [-0.8721,  1.0000,  1.0000],\n",
              "        [-0.0127,  1.0000,  1.0000],\n",
              "        [ 0.8593,  1.0000,  1.0000],\n",
              "        [ 0.8728,  1.0000,  1.0000]])"
            ]
          },
          "metadata": {},
          "execution_count": 26
        }
      ],
      "source": [
        "pe"
      ],
      "execution_count": 26
    },
    {
      "cell_type": "markdown",
      "metadata": {
        "id": "1a953dbd-795a-4574-88bd-97cc35051817"
      },
      "source": [
        "You have observed an intriguing characteristic in the word embeddings: they are positioned closely enough to maintain proximity while remaining sufficiently distinct from each other. However, there is a notable exception when it comes to the embedding for \"car.\" This anomaly arises because the sine wave used in positional encoding is inherently periodic, as illustrated in the image below, where you can observe the repetitive nature of the sine function. Consequently, the positional encoding for \"car\" at different locations within the sequence remains the same.\n"
      ]
    },
    {
      "cell_type": "code",
      "metadata": {
        "id": "5f3ca716-84df-4235-af9c-d9d866fb333d",
        "colab": {
          "base_uri": "https://localhost:8080/",
          "height": 449
        },
        "outputId": "ba9fe855-a378-4054-842c-61e63363e680"
      },
      "outputs": [
        {
          "output_type": "display_data",
          "data": {
            "text/plain": [
              "<Figure size 640x480 with 1 Axes>"
            ],
            "image/png": "[encoded data removed]"
          },
          "metadata": {}
        }
      ],
      "source": [
        "# Plot the positional encodings with different line styles and markers\n",
        "plt.plot(pe[:, 0].numpy(), label=\"Dimension 1\", linestyle='-')\n",
        "plt.plot(pe[:, 1].numpy(), label=\"Dimension 2\", linestyle='--')\n",
        "plt.plot(pe[:, 2].numpy(), label=\"Dimension 3\", linestyle=':')\n",
        "\n",
        "# Adjust the y-axis scale for better visibility\n",
        "plt.ylim([-1, 1.1])\n",
        "\n",
        "plt.xlabel(\"Sequence Number\")\n",
        "plt.legend()\n",
        "plt.show()"
      ],
      "execution_count": 27
    },
    {
      "cell_type": "markdown",
      "metadata": {
        "id": "e7b373a8-a5e6-4e7e-beac-a44061f2de2c"
      },
      "source": [
        "By incorporating sine and cosine functions with varying frequencies, you can effectively encode sequences of differing lengths. As demonstrated here, it becomes evident that these encodings position elements in such a way that they maintain proximity while still preserving their distinctiveness from one another.\n"
      ]
    },
    {
      "cell_type": "code",
      "metadata": {
        "id": "f81a3350-cb0c-4297-9f58-82d448209d66",
        "colab": {
          "base_uri": "https://localhost:8080/",
          "height": 413
        },
        "outputId": "5bd460bf-1b24-43da-ba17-9669060e2cdb"
      },
      "outputs": [
        {
          "output_type": "display_data",
          "data": {
            "text/plain": [
              "<Figure size 640x480 with 1 Axes>"
            ],
            "image/png": "[encoded data removed]"
          },
          "metadata": {}
        }
      ],
      "source": [
        "pe = torch.cat(tensors=(torch.cos(2*3.14*position/25), torch.sin(2*3.14*position/25), torch.sin(2*3.14*position/5)), dim=1)\n",
        "pos_embding = my_embdings + pe[0:samples,:].numpy()\n",
        "plot_embdings(pos_embding,tokenizer(my_tokens),vocab)"
      ],
      "execution_count": 28
    },
    {
      "cell_type": "code",
      "metadata": {
        "id": "489d16a8-9582-49a2-a63b-3097bf137f21",
        "colab": {
          "base_uri": "https://localhost:8080/",
          "height": 449
        },
        "outputId": "0ea65827-4121-4310-df57-177ebad6480e"
      },
      "outputs": [
        {
          "output_type": "display_data",
          "data": {
            "text/plain": [
              "<Figure size 640x480 with 1 Axes>"
            ],
            "image/png": "[encoded data removed]"
          },
          "metadata": {}
        }
      ],
      "source": [
        "plt.plot(pe[:, 0].numpy(), label=\"Dimension 1\")\n",
        "plt.plot(pe[:, 1].numpy(), label=\"Dimension 2\")\n",
        "plt.plot(pe[:, 2].numpy(), label=\"Dimension 3\")\n",
        "\n",
        "plt.xlabel(\"Sequence Number\")\n",
        "plt.legend()\n",
        "plt.show()"
      ],
      "execution_count": 29
    },
    {
      "cell_type": "markdown",
      "metadata": {
        "id": "570190e5-3e6d-44c0-ba6c-a1ab5da7562f"
      },
      "source": [
        "Overall, periodic functions provide a more expressive and adaptable means of encoding positional information in sequences, making them a preferred choice in modern sequence-to-sequence models like transformers. They offer improved capabilities for modeling both short-range and long-range dependencies, which are crucial for tasks in natural language processing and other domains. You can use the following class to apply Positional Encoding. The dropout probability is applied to the positional encodings to prevent overfitting.\n"
      ]
    },
    {
      "cell_type": "markdown",
      "source": [
        "register_buffer => Tensor which is not a parameter, but should be part of the modules state. Used for tensors that need to be on the same device as the module. persistent=False tells PyTorch to not add the buffer to the state dict (e.g. when we save the model)"
      ],
      "metadata": {
        "id": "3F37zjf8FUGO"
      }
    },
    {
      "cell_type": "code",
      "metadata": {
        "id": "46c366f9-11d7-4de3-809a-f068f8a7de47"
      },
      "outputs": [],
      "source": [
        "from torch import nn\n",
        "\n",
        "class PositionalEncoding(nn.Module):\n",
        "    \"\"\"\n",
        "    https://pytorch.org/tutorials/beginner/transformer_tutorial.html\n",
        "    \"\"\"\n",
        "\n",
        "    def __init__(self, d_model, vocab_size=5000, dropout=0.1):\n",
        "        super(PositionalEncoding, self).__init__()\n",
        "        self.dropout = nn.Dropout(p=dropout)\n",
        "\n",
        "        pe = torch.zeros(size=(vocab_size, d_model))\n",
        "        position = torch.arange(start=0, end=vocab_size, dtype=torch.float).unsqueeze(dim=1)\n",
        "        div_term = torch.exp(\n",
        "            input=torch.arange(0, d_model, 2).float()\n",
        "            * (-math.log(10000.0) / d_model)\n",
        "        )\n",
        "        pe[:, 0::2] = torch.sin(position * div_term)\n",
        "        pe[:, 1::2] = torch.cos(position * div_term)\n",
        "        pe = pe.unsqueeze(0)\n",
        "        self.register_buffer(\"pe\", pe)\n",
        "\n",
        "    def forward(self, x):\n",
        "        x = x + self.pe[:, : x.size(1), :]\n",
        "        return self.dropout(x)"
      ],
      "execution_count": 30
    },
    {
      "cell_type": "markdown",
      "metadata": {
        "id": "9b626875-4a9c-4072-be64-0c00bfa55463"
      },
      "source": [
        "## Encoder layer\n"
      ]
    },
    {
      "cell_type": "markdown",
      "metadata": {
        "id": "0985c13f-d844-4f36-9a58-4a4c00a02c22"
      },
      "source": [
        "### What is self-attention?\n",
        "\n",
        "Each word (or token) in a sentence is compared to every other word, including itself, to determine how much attention or importance should be assigned to each word. Three set of vectors - query, key and value are created for the tokens. Let's have a look at an analogy which will paint a better picture for these vectors.\n",
        "\n",
        "- Query: When you enter a search query into a search engine like Google, the text you enter in the search bar serves as the query. For example, if you search for \"best smartphones,\" this is your query.\n",
        "- Key: The search engine has indexed and stored information from web pages all over the internet. Each web page contains a variety of textual information, including titles, headings, content, and metadata. All of this text serves as the keys. In the context of your query, the keys could include words and phrases found in web page titles, headers, and content.\n",
        "- Value: When you submit your query, the search engine's algorithms use the query to find the most relevant web pages from its database. These web pages are the values. The search engine returns a list of web pages (search results) that are considered the best matches for your query based on their content and relevance to the keys associated with your query.\n"
      ]
    },
    {
      "cell_type": "markdown",
      "metadata": {
        "id": "9f2fd929-4be3-4064-a43c-40694c99423f"
      },
      "source": [
        "### nn.TransformerEncoderLayer\n",
        "\n",
        "The Transformer Encoder Layer is a specialized network layer commonly used for processing sequential data. Unlike a standard linear layer, it incorporates a unique set of parameters designed to capture intricate relationships between data samples. In your implementation, you can utilize `nn.TransformerEncoderLayer`. Consider the sequence of embeddings:\n"
      ]
    },
    {
      "cell_type": "code",
      "metadata": {
        "id": "2ea45697-af13-468b-a297-92b79af41466",
        "colab": {
          "base_uri": "https://localhost:8080/"
        },
        "outputId": "f0c91749-f39e-4a31-f611-e438ac6be8d8"
      },
      "outputs": [
        {
          "output_type": "execute_result",
          "data": {
            "text/plain": [
              "tensor([[ 0.5548,  0.4537,  0.3360],\n",
              "        [-0.1145,  1.1998,  0.1736],\n",
              "        [-0.6193, -1.3454,  0.6777],\n",
              "        [ 0.3389, -1.3107,  0.2968],\n",
              "        [ 1.0552, -1.4481, -1.5615],\n",
              "        [ 0.5548,  0.4537,  0.3360],\n",
              "        [-0.1145,  1.1998,  0.1736],\n",
              "        [-0.6193, -1.3454,  0.6777],\n",
              "        [ 1.0552, -1.4481, -1.5615],\n",
              "        [ 0.3389, -1.3107,  0.2968]], grad_fn=<EmbeddingBackward0>)"
            ]
          },
          "metadata": {},
          "execution_count": 31
        }
      ],
      "source": [
        "my_embdings=embedding(torch.tensor(my_index))\n",
        "my_embdings"
      ],
      "execution_count": 31
    },
    {
      "cell_type": "markdown",
      "metadata": {
        "id": "f40bc156-3da7-468d-9cee-1ebd5aa53926"
      },
      "source": [
        "There are ten embeddings, each with three dimensions.\n"
      ]
    },
    {
      "cell_type": "code",
      "metadata": {
        "id": "4bcbd0c0-8c4f-4edb-90d6-546878a3bd1f",
        "colab": {
          "base_uri": "https://localhost:8080/"
        },
        "outputId": "e08b5977-36b8-40fb-a618-e69897c32d0c"
      },
      "outputs": [
        {
          "output_type": "execute_result",
          "data": {
            "text/plain": [
              "torch.Size([10, 3])"
            ]
          },
          "metadata": {},
          "execution_count": 32
        }
      ],
      "source": [
        "my_embdings.shape"
      ],
      "execution_count": 32
    },
    {
      "cell_type": "markdown",
      "metadata": {
        "id": "dee54b32-f295-4a6c-92fd-65f48e480824"
      },
      "source": [
        "This line of code initializes a Transformer Encoder Layer in PyTorch using the nn.TransformerEncoderLayer class. Let's break down its components:\n",
        "\n",
        "- `d_model=3`: This parameter specifies the dimensionality of the model's input and output features. In this case, each input and output vector will have a size of 3. You can think of this as the \"width\" of the model.\n",
        "\n",
        "- `nhead=1`: It defines the number of attention heads in the multi-head self-attention mechanism. In this case, there is only one attention head, meaning that the model will perform single-head self-attention. In the context of transformers, \"n heads\" refer to the number of parallel attention mechanisms used to capture diverse patterns and dependencies in the data simultaneously.\n",
        "\n",
        "- `dim_feedforward=1`: This parameter sets the dimensionality of the feedforward neural network used within the Transformer layer. The feedforward network is responsible for processing the attention output. Here, it has an extremely low dimension of 1, which is unusually small and may not perform well in practice. In practice, this value is typically much larger to capture complex patterns.\n",
        "\n",
        "- `dropout=0`: Dropout is a regularization technique used to prevent overfitting by randomly setting a fraction of input units to zero during training. A dropout rate of 0 means no dropout will be applied in this layer.\n"
      ]
    },
    {
      "cell_type": "code",
      "metadata": {
        "id": "776ec5c2-512d-4e38-a97f-9ca7e284eb09"
      },
      "outputs": [],
      "source": [
        "encoder_layer=nn.TransformerEncoderLayer(\n",
        "            d_model=3,\n",
        "            nhead=1,\n",
        "            dim_feedforward=1,\n",
        "            dropout=0,\n",
        "        )"
      ],
      "execution_count": 33
    },
    {
      "cell_type": "markdown",
      "metadata": {
        "id": "24d5d90f-b0bd-4673-be09-6171994b179b"
      },
      "source": [
        "In the context of transformers, your objective is to train the model to take an input sequence and effectively generate another sequence as its output, a fundamental task that underlies a wide range of natural language processing and sequence-to-sequence tasks.\n"
      ]
    },
    {
      "cell_type": "code",
      "metadata": {
        "id": "792cd8e9-80ad-4649-b27d-b6a562fb49e0",
        "colab": {
          "base_uri": "https://localhost:8080/"
        },
        "outputId": "afe5e512-f386-4e89-a71a-32fddac403c2"
      },
      "outputs": [
        {
          "output_type": "stream",
          "name": "stdout",
          "text": [
            "tensor([[-0.8937,  1.3960, -0.5024],\n",
            "        [-1.2964,  1.1376,  0.1589],\n",
            "        [-0.5248, -0.8749,  1.3997],\n",
            "        [ 0.2394, -1.3267,  1.0874],\n",
            "        [ 1.3500, -1.0399, -0.3100],\n",
            "        [-0.8937,  1.3960, -0.5024],\n",
            "        [-1.2964,  1.1376,  0.1589],\n",
            "        [-0.5248, -0.8749,  1.3997],\n",
            "        [ 1.3500, -1.0399, -0.3100],\n",
            "        [ 0.2394, -1.3267,  1.0874]], grad_fn=<NativeLayerNormBackward0>)\n",
            "torch.Size([10, 3])\n"
          ]
        }
      ],
      "source": [
        "out = encoder_layer(my_embdings)\n",
        "print(out)\n",
        "print(out.shape)"
      ],
      "execution_count": 35
    },
    {
      "cell_type": "markdown",
      "metadata": {
        "id": "98a26ab0-9e64-4116-a0d6-2891caba2d91"
      },
      "source": [
        "In the context of transformers, for tasks such as sequence classification, you aggregate these individual outputs, often by calculating their mean, resulting in a single activation value. Subsequently, standard neural network layers are employed to perform the final sequence classification.\n"
      ]
    },
    {
      "cell_type": "code",
      "metadata": {
        "id": "1395d73b-7d1c-49a6-8b74-9757626aee6a",
        "colab": {
          "base_uri": "https://localhost:8080/"
        },
        "outputId": "b24dc81e-cc80-4fd9-a4b9-defe8e4f695c"
      },
      "outputs": [
        {
          "output_type": "execute_result",
          "data": {
            "text/plain": [
              "tensor([-3.9736e-08, -3.4769e-08, -7.9473e-08,  3.9736e-08, -1.9868e-08,\n",
              "        -3.9736e-08, -3.4769e-08, -7.9473e-08, -1.9868e-08,  3.9736e-08],\n",
              "       grad_fn=<MeanBackward1>)"
            ]
          },
          "metadata": {},
          "execution_count": 36
        }
      ],
      "source": [
        "out.mean(dim=1)"
      ],
      "execution_count": 36
    },
    {
      "cell_type": "markdown",
      "metadata": {
        "id": "818105b0-1c1f-4b98-a1f6-030a2d3daf5c"
      },
      "source": [
        "You can access the parameters of the transformer, which encompass several crucial components. Among these, the key, query, and value parameters are particularly significant, playing pivotal roles in the model's attention mechanism and overall functionality.\n"
      ]
    },
    {
      "cell_type": "code",
      "metadata": {
        "id": "bf347671-aff9-42cf-8125-8206acccc5c7",
        "colab": {
          "base_uri": "https://localhost:8080/"
        },
        "outputId": "2fcf6297-8b15-4497-bd8f-72400e8b6f36"
      },
      "outputs": [
        {
          "output_type": "stream",
          "name": "stdout",
          "text": [
            "self_attn.in_proj_weight torch.Size([9, 3])\n",
            "self_attn.in_proj_bias torch.Size([9])\n",
            "self_attn.out_proj.weight torch.Size([3, 3])\n",
            "self_attn.out_proj.bias torch.Size([3])\n",
            "linear1.weight torch.Size([1, 3])\n",
            "linear1.bias torch.Size([1])\n",
            "linear2.weight torch.Size([3, 1])\n",
            "linear2.bias torch.Size([3])\n",
            "norm1.weight torch.Size([3])\n",
            "norm1.bias torch.Size([3])\n",
            "norm2.weight torch.Size([3])\n",
            "norm2.bias torch.Size([3])\n"
          ]
        }
      ],
      "source": [
        "params_dict = encoder_layer.state_dict()\n",
        "# Print the parameter names and shapes\n",
        "for name, param in params_dict.items():\n",
        "    print(name, param.shape)"
      ],
      "execution_count": 37
    },
    {
      "cell_type": "code",
      "source": [
        " encoder_layer.state_dict()['self_attn.in_proj_weight']"
      ],
      "metadata": {
        "colab": {
          "base_uri": "https://localhost:8080/"
        },
        "id": "z-otYDG7REV8",
        "outputId": "b4c1f80f-e150-41dc-9991-cee375920183"
      },
      "execution_count": 38,
      "outputs": [
        {
          "output_type": "execute_result",
          "data": {
            "text/plain": [
              "tensor([[ 0.3180,  0.5044, -0.5384],\n",
              "        [ 0.2057,  0.3827,  0.4476],\n",
              "        [ 0.4135, -0.5156,  0.5976],\n",
              "        [-0.1685, -0.3177,  0.3887],\n",
              "        [-0.0383, -0.6549, -0.1792],\n",
              "        [ 0.2117, -0.3119, -0.1462],\n",
              "        [ 0.2637,  0.2909,  0.3550],\n",
              "        [-0.0869, -0.5457,  0.2450],\n",
              "        [ 0.1769, -0.0946,  0.3215]])"
            ]
          },
          "metadata": {},
          "execution_count": 38
        }
      ]
    },
    {
      "cell_type": "markdown",
      "metadata": {
        "id": "439bdd0b-e61d-442a-8d98-6258846dcb3f"
      },
      "source": [
        "The key, query, and value parameters are shown here.\n"
      ]
    },
    {
      "cell_type": "code",
      "metadata": {
        "id": "20167d08-6766-448c-a910-66fc7cf57214"
      },
      "outputs": [],
      "source": [
        "embed_dim=3\n",
        "q_proj_weight = encoder_layer.state_dict()['self_attn.in_proj_weight'][0:embed_dim].t()\n",
        "k_proj_weight = encoder_layer.state_dict()['self_attn.in_proj_weight'][embed_dim:2*embed_dim].t()\n",
        "v_proj_weight = encoder_layer.state_dict()['self_attn.in_proj_weight'][2*embed_dim:3*embed_dim].t()"
      ],
      "execution_count": 40
    },
    {
      "cell_type": "markdown",
      "metadata": {
        "id": "6adfc820-0408-4509-859d-ffe3b40aabee"
      },
      "source": [
        "## Query, key, and value\n",
        "\n",
        "In the context of self-attention in a transformer, you can perform the following projections:\n",
        "\n",
        "**Query (Q)**: $Q = XW^Q$\n",
        "\n",
        "**Key (K)**: $K = XW^K$\n",
        "\n",
        "**Value (V)**: $V = XW^V$\n",
        "\n",
        "Here, $X$ represents the embeddings and $W$ represents learnable weights.\n"
      ]
    },
    {
      "cell_type": "code",
      "metadata": {
        "id": "9653437f-6e63-4eb4-bc75-60372e513ce7"
      },
      "outputs": [],
      "source": [
        "Q=my_embdings@q_proj_weight\n",
        "K=my_embdings@k_proj_weight\n",
        "V=my_embdings@v_proj_weight"
      ],
      "execution_count": 41
    },
    {
      "cell_type": "markdown",
      "metadata": {
        "id": "8f6f6278-9aff-43b9-b66f-93cceddcb21a"
      },
      "source": [
        "Attention scores:\n",
        "$\n",
        "   \\text{Scores} = \\frac{QK^T}{\\sqrt{d_k}}\n",
        "$\n"
      ]
    },
    {
      "cell_type": "code",
      "metadata": {
        "id": "9a9ea59b-b847-4109-b5f5-b20df2ba8108",
        "colab": {
          "base_uri": "https://localhost:8080/"
        },
        "outputId": "8639bfcf-4e59-481c-bcb4-2f5e6b22fc95"
      },
      "outputs": [
        {
          "output_type": "execute_result",
          "data": {
            "text/plain": [
              "tensor([[-0.1179, -0.2917,  0.3227,  0.3114,  0.3607, -0.1179, -0.2917,  0.3227,\n",
              "          0.3607,  0.3114],\n",
              "        [-0.1178, -0.1840,  0.3889,  0.2231, -0.0304, -0.1178, -0.1840,  0.3889,\n",
              "         -0.0304,  0.2231],\n",
              "        [ 0.1151,  0.1636, -0.6306, -0.2823,  0.4396,  0.1151,  0.1636, -0.6306,\n",
              "          0.4396, -0.2823],\n",
              "        [ 0.0675,  0.0184, -0.3540, -0.0815,  0.4467,  0.0675,  0.0184, -0.3540,\n",
              "          0.4467, -0.0815],\n",
              "        [ 0.1884,  0.3491, -0.2366, -0.2887, -0.6638,  0.1884,  0.3491, -0.2366,\n",
              "         -0.6638, -0.2887],\n",
              "        [-0.1179, -0.2917,  0.3227,  0.3114,  0.3607, -0.1179, -0.2917,  0.3227,\n",
              "          0.3607,  0.3114],\n",
              "        [-0.1178, -0.1840,  0.3889,  0.2231, -0.0304, -0.1178, -0.1840,  0.3889,\n",
              "         -0.0304,  0.2231],\n",
              "        [ 0.1151,  0.1636, -0.6306, -0.2823,  0.4396,  0.1151,  0.1636, -0.6306,\n",
              "          0.4396, -0.2823],\n",
              "        [ 0.1884,  0.3491, -0.2366, -0.2887, -0.6638,  0.1884,  0.3491, -0.2366,\n",
              "         -0.6638, -0.2887],\n",
              "        [ 0.0675,  0.0184, -0.3540, -0.0815,  0.4467,  0.0675,  0.0184, -0.3540,\n",
              "          0.4467, -0.0815]], grad_fn=<DivBackward0>)"
            ]
          },
          "metadata": {},
          "execution_count": 42
        }
      ],
      "source": [
        "scores=Q@K.T/np. sqrt(embed_dim)\n",
        "scores"
      ],
      "execution_count": 42
    },
    {
      "cell_type": "markdown",
      "metadata": {
        "id": "633d1ea0-d662-470d-a34a-52fd40a23c12"
      },
      "source": [
        "You can calculate the attention weights using the softmax function applied to the Scores and then multiply them by the values:\n",
        "\n",
        "$O = \\text{softmax}(\\text{Scores})\\cdot V$\n"
      ]
    },
    {
      "cell_type": "code",
      "metadata": {
        "id": "be361ef5-23f7-4a4c-8208-55178c042eca",
        "colab": {
          "base_uri": "https://localhost:8080/"
        },
        "outputId": "58d39bd2-b715-40ee-f06b-1b180b068e2e"
      },
      "outputs": [
        {
          "output_type": "execute_result",
          "data": {
            "text/plain": [
              "tensor([[-0.1807,  0.3725,  0.0925],\n",
              "        [-0.1298,  0.3640,  0.1115],\n",
              "        [-0.0965,  0.1209,  0.0293],\n",
              "        [-0.1269,  0.1935,  0.0454],\n",
              "        [ 0.0583,  0.0796,  0.0833],\n",
              "        [-0.1807,  0.3725,  0.0925],\n",
              "        [-0.1298,  0.3640,  0.1115],\n",
              "        [-0.0965,  0.1209,  0.0293],\n",
              "        [ 0.0583,  0.0796,  0.0833],\n",
              "        [-0.1269,  0.1935,  0.0454]], grad_fn=<MmBackward0>)"
            ]
          },
          "metadata": {},
          "execution_count": 43
        }
      ],
      "source": [
        "head=nn.Softmax(dim=1)(scores)@V\n",
        "head"
      ],
      "execution_count": 43
    },
    {
      "cell_type": "markdown",
      "metadata": {
        "id": "81611c9c-93a1-4358-a877-81a213c07bae"
      },
      "source": [
        "In the context of multi-head attention, you can partition the embedding dimension into $h$ subspaces, each with a dimension of $d/h$, and independently apply the attention mechanism to these smaller components. Following the attention operation, you can collect the outputs and continue with the subsequent matrix operations.\n"
      ]
    },
    {
      "cell_type": "markdown",
      "metadata": {
        "id": "d38ab8ca-e0ff-43e2-b579-f20be5098fdd"
      },
      "source": [
        "## Attention weights and linear transformation\n",
        "\n",
        "### Softmax attention weights\n",
        "\n",
        "After calculating the attention scores, you can proceed with linear transformations as follows:\n",
        "\n",
        "1. **Concatenated output**: You can concatenate the individual output vectors as follows:\n",
        "\n",
        "   $$\n",
        "   O_{\\text{concat}} = [O_1, O_2, \\ldots, O_h]\n",
        "   $$\n",
        "\n",
        "2. **Final output**: The final output is obtained by applying a linear transformation to the concatenated output:\n",
        "\n",
        "   $$\n",
        "   O_{\\text{final}} = O_{\\text{concat}}W^O + b^O\n",
        "   $$\n",
        "\n",
        "Here, $W^O$ represents the weight matrix, and $b^O$ represents the bias vector for the linear transformation.\n"
      ]
    },
    {
      "cell_type": "markdown",
      "metadata": {
        "id": "1af404f7-60a3-4608-8d66-587c16c1f419"
      },
      "source": [
        "These equations depict the fundamental elements of multi-head self-attention in a transformer. While there are several additional considerations, these pertain more to optimizing training and are akin to common practices in standard neural networks.\n",
        "\n",
        "### Multiple attention layers:\n",
        "Similar to deep neural networks that can have multiple hidden layers, transformers can also be configured with multiple attention layers.\n",
        "\n",
        "**`nn.TransformerEncoder`** is a module that represents a stack of multiple transformer encoder layers. Let's break down the parameters you've provided:\n",
        "\n",
        "**encoder_layer**: This parameter specifies the type of transformer encoder layer that you want to use within the stack. In your case, you've defined an encoder layer using `nn.TransformerEncoderLayer` with specific configurations. The encoder_layer will be repeated multiple times in the stack.\n",
        "\n",
        "**num_layers=2**: This parameter indicates the number of encoder layers to stack on top of each other within the `nn.TransformerEncoder`. In your example, you've chosen to stack 2 encoder layers.\n"
      ]
    },
    {
      "cell_type": "code",
      "metadata": {
        "id": "36214a1e-7e2d-4a94-a755-7adcff757576"
      },
      "outputs": [],
      "source": [
        "transformer_encoder = nn.TransformerEncoder(\n",
        "            encoder_layer,\n",
        "            num_layers=2)"
      ],
      "execution_count": 44
    },
    {
      "cell_type": "markdown",
      "metadata": {
        "id": "9fe7c556-cdab-4e99-a6b7-bc55fe14f061"
      },
      "source": [
        "You can display the other layer.\n"
      ]
    },
    {
      "cell_type": "code",
      "metadata": {
        "id": "1b02af15-97ba-4798-9ceb-17ab6f902e22",
        "colab": {
          "base_uri": "https://localhost:8080/"
        },
        "outputId": "956fab13-5f8d-4a8d-9e13-b51cb48c9b79"
      },
      "outputs": [
        {
          "output_type": "stream",
          "name": "stdout",
          "text": [
            "layers.0.self_attn.in_proj_weight torch.Size([9, 3])\n",
            "layers.0.self_attn.in_proj_bias torch.Size([9])\n",
            "layers.0.self_attn.out_proj.weight torch.Size([3, 3])\n",
            "layers.0.self_attn.out_proj.bias torch.Size([3])\n",
            "layers.0.linear1.weight torch.Size([1, 3])\n",
            "layers.0.linear1.bias torch.Size([1])\n",
            "layers.0.linear2.weight torch.Size([3, 1])\n",
            "layers.0.linear2.bias torch.Size([3])\n",
            "layers.0.norm1.weight torch.Size([3])\n",
            "layers.0.norm1.bias torch.Size([3])\n",
            "layers.0.norm2.weight torch.Size([3])\n",
            "layers.0.norm2.bias torch.Size([3])\n",
            "layers.1.self_attn.in_proj_weight torch.Size([9, 3])\n",
            "layers.1.self_attn.in_proj_bias torch.Size([9])\n",
            "layers.1.self_attn.out_proj.weight torch.Size([3, 3])\n",
            "layers.1.self_attn.out_proj.bias torch.Size([3])\n",
            "layers.1.linear1.weight torch.Size([1, 3])\n",
            "layers.1.linear1.bias torch.Size([1])\n",
            "layers.1.linear2.weight torch.Size([3, 1])\n",
            "layers.1.linear2.bias torch.Size([3])\n",
            "layers.1.norm1.weight torch.Size([3])\n",
            "layers.1.norm1.bias torch.Size([3])\n",
            "layers.1.norm2.weight torch.Size([3])\n",
            "layers.1.norm2.bias torch.Size([3])\n"
          ]
        }
      ],
      "source": [
        "params_dict = transformer_encoder.state_dict()\n",
        "for name, param in params_dict.items():\n",
        "    print(name, param.shape)"
      ],
      "execution_count": 45
    },
    {
      "cell_type": "markdown",
      "metadata": {
        "id": "1e6cd98e-e84f-43a9-8ef2-b7a3e9fd33d0"
      },
      "source": [
        "---\n"
      ]
    },
    {
      "cell_type": "markdown",
      "metadata": {
        "id": "398d3575-7a8e-4757-bff6-44984f980e2f"
      },
      "source": [
        "## Text classification\n",
        "Let's build a text classification model using PyTorch and torchtext to classify news articles into one of the four categories: World, Sports, Business, and Sci/Tech.\n"
      ]
    },
    {
      "cell_type": "markdown",
      "metadata": {
        "id": "993e5761-de4e-4f04-9302-6a0a253f9092"
      },
      "source": [
        "### Import bank dataset\n",
        "\n",
        "Load the AG_NEWS dataset for the train split and split it into input text and corresponding labels:\n"
      ]
    },
    {
      "cell_type": "code",
      "metadata": {
        "id": "8aa74435-e81e-4c6d-bd36-ad334e31de62"
      },
      "outputs": [],
      "source": [
        "train_iter= AG_NEWS(split=\"train\")"
      ],
      "execution_count": 46
    },
    {
      "cell_type": "markdown",
      "metadata": {
        "id": "3f9fb2b6-4364-4b16-bffd-e2432d0ca3a9"
      },
      "source": [
        "The AG_NEWS dataset in torchtext does not support direct indexing like a list or tuple. It is not a random access dataset but rather an iterable dataset that needs to be used with an iterator. This approach is more effective for text data.\n"
      ]
    },
    {
      "cell_type": "code",
      "metadata": {
        "id": "b6df9edd-6527-4eb1-946e-95354e6bbded",
        "colab": {
          "base_uri": "https://localhost:8080/"
        },
        "outputId": "b3b4c04d-299d-4057-9f40-18d0fbc71f59"
      },
      "outputs": [
        {
          "output_type": "stream",
          "name": "stdout",
          "text": [
            "3 Wall St. Bears Claw Back Into the Black (Reuters) Reuters - Short-sellers, Wall Street's dwindling\\band of ultra-cynics, are seeing green again.\n"
          ]
        }
      ],
      "source": [
        "y,text = next(iter(train_iter))\n",
        "print(y,text)"
      ],
      "execution_count": 48
    },
    {
      "cell_type": "markdown",
      "metadata": {
        "id": "d4342fcd-be81-4c8c-af5c-3585597c2257"
      },
      "source": [
        "You can find the label of the sample.\n"
      ]
    },
    {
      "cell_type": "code",
      "metadata": {
        "id": "9d0c49e8-6dc8-4bde-a51e-63c68d6f32cc",
        "colab": {
          "base_uri": "https://localhost:8080/",
          "height": 35
        },
        "outputId": "23d771fc-9fb1-4308-8126-f5bab3e46588"
      },
      "outputs": [
        {
          "output_type": "execute_result",
          "data": {
            "text/plain": [
              "'Business'"
            ],
            "application/vnd.google.colaboratory.intrinsic+json": {
              "type": "string"
            }
          },
          "metadata": {},
          "execution_count": 49
        }
      ],
      "source": [
        "ag_news_label = {1: \"World\", 2: \"Sports\", 3: \"Business\", 4: \"Sci/Tec\"}\n",
        "ag_news_label[y]"
      ],
      "execution_count": 49
    },
    {
      "cell_type": "markdown",
      "metadata": {
        "id": "84ed98a3-cd4c-443d-953f-4d4590b5a23b"
      },
      "source": [
        "You can also use the dataset to find all the classes.\n"
      ]
    },
    {
      "cell_type": "code",
      "metadata": {
        "id": "d715cada-2c6d-4e5d-9f56-f40a24411610",
        "colab": {
          "base_uri": "https://localhost:8080/"
        },
        "outputId": "663ca8cf-604e-49a1-b3b7-9c0c8798f3f6"
      },
      "outputs": [
        {
          "output_type": "execute_result",
          "data": {
            "text/plain": [
              "4"
            ]
          },
          "metadata": {},
          "execution_count": 50
        }
      ],
      "source": [
        "num_class = len(set([label for (label, text) in train_iter ]))\n",
        "num_class"
      ],
      "execution_count": 50
    },
    {
      "cell_type": "markdown",
      "metadata": {
        "id": "3530fd17-0d8d-4e2b-9f33-56a4b4ffccd8"
      },
      "source": [
        "You can build the vocabulary as before, just using the AG dataset to obtain token indices\n"
      ]
    },
    {
      "cell_type": "code",
      "metadata": {
        "id": "e4d0edad-4603-48a0-acff-66bf86a25cd9"
      },
      "outputs": [],
      "source": [
        "vocab = build_vocab_from_iterator(yield_tokens(train_iter), specials=[\"<unk>\"])\n",
        "vocab.set_default_index(vocab[\"<unk>\"])"
      ],
      "execution_count": 51
    },
    {
      "cell_type": "markdown",
      "metadata": {
        "id": "56be71ae-385e-4f95-bea0-aa4b9f4d93e3"
      },
      "source": [
        "Here are some token indices:\n"
      ]
    },
    {
      "cell_type": "code",
      "metadata": {
        "id": "1afba5d9-1b18-4bd1-b047-c1c6f7c6da68",
        "colab": {
          "base_uri": "https://localhost:8080/"
        },
        "outputId": "4a7d9a41-1233-4ec7-81b1-3a9704a21b00"
      },
      "outputs": [
        {
          "output_type": "execute_result",
          "data": {
            "text/plain": [
              "[2120, 12544]"
            ]
          },
          "metadata": {},
          "execution_count": 52
        }
      ],
      "source": [
        "vocab([\"age\",\"hello\"])"
      ],
      "execution_count": 52
    },
    {
      "cell_type": "markdown",
      "metadata": {
        "id": "fd113253-a9ba-41db-8037-dc180d57f64b"
      },
      "source": [
        "### Dataset\n"
      ]
    },
    {
      "cell_type": "markdown",
      "metadata": {
        "id": "93783a45-5995-433b-9881-94373cf9da78"
      },
      "source": [
        "You can convert the dataset into map-style datasets and then perform a random split to create separate training and validation datasets. The training dataset will contain 95% of the samples, while the validation dataset will contain the remaining 5%. These datasets can be used for training and evaluating a machine learning model for text classification on the AG_NEWS dataset.\n"
      ]
    },
    {
      "cell_type": "code",
      "metadata": {
        "id": "e69f18ca-5fab-4764-9a84-b1b7cd8f9426"
      },
      "outputs": [],
      "source": [
        "# Split the dataset into training and testing iterators.\n",
        "train_iter, test_iter = AG_NEWS()\n",
        "\n",
        "# Convert the training and testing iterators to map-style datasets.\n",
        "train_dataset = to_map_style_dataset(train_iter)\n",
        "test_dataset = to_map_style_dataset(test_iter)\n",
        "\n",
        "# Determine the number of samples to be used for training and validation (5% for validation).\n",
        "num_train = int(len(train_dataset) * 0.95)\n",
        "\n",
        "# Randomly split the training dataset into training and validation datasets using `random_split`.\n",
        "# The training dataset will contain 95% of the samples, and the validation dataset will contain the remaining 5%.\n",
        "split_train_, split_valid_ = random_split(train_dataset, [num_train, len(train_dataset) - num_train])"
      ],
      "execution_count": 53
    },
    {
      "cell_type": "markdown",
      "metadata": {
        "id": "505b9cf4-2d2a-470c-b9d3-e0ac7cce7cf0"
      },
      "source": [
        "The code checks if a CUDA-compatible GPU is available in the system using PyTorch, a popular deep learning framework. If a GPU is available, it assigns the device variable to \"cuda\" (which stands for CUDA, the parallel computing platform and application programming interface model developed by NVIDIA). If a GPU is not available, it assigns the device variable to \"cpu\" (which means the code will run on the CPU instead).\n"
      ]
    },
    {
      "cell_type": "code",
      "metadata": {
        "id": "88548456-6fe5-4495-a74e-33172278dd38",
        "colab": {
          "base_uri": "https://localhost:8080/"
        },
        "outputId": "34ca3a2e-568a-4681-a33b-adc4bf294664"
      },
      "outputs": [
        {
          "output_type": "execute_result",
          "data": {
            "text/plain": [
              "device(type='cpu')"
            ]
          },
          "metadata": {},
          "execution_count": 54
        }
      ],
      "source": [
        "device = torch.device(\"cuda\" if torch.cuda.is_available() else \"cpu\")\n",
        "device"
      ],
      "execution_count": 54
    },
    {
      "cell_type": "markdown",
      "metadata": {
        "id": "dcc1fe77-6f25-4dfe-9965-c90948edb9df"
      },
      "source": [
        "### Data loader\n"
      ]
    },
    {
      "cell_type": "markdown",
      "metadata": {
        "id": "82f475cc-18ab-4cc8-a8ad-d511ded7b9ad"
      },
      "source": [
        "In PyTorch, the **`collate_fn`** function is used in conjunction with data loaders to customize the way batches are created from individual samples. The provided code defines a `collate_batch` function in PyTorch, which is used with data loaders to customize batch creation from individual samples. It processes a batch of data, including labels and text sequences. It applies the `label_pipeline` and `text_pipeline` functions to preprocess the labels and texts, respectively. The processed data is then converted into PyTorch tensors and returned as a tuple containing the label tensor, text tensor, and offsets tensor representing the starting positions of each text sequence in the combined tensor. The function also ensures that the returned tensors are moved to the specified device (e.g., GPU) for efficient computation.\n"
      ]
    },
    {
      "cell_type": "code",
      "metadata": {
        "id": "f8411c40-6c97-41cd-96ef-261da60fa958"
      },
      "outputs": [],
      "source": [
        "from torch.nn.utils.rnn import pad_sequence\n",
        "\n",
        "def collate_batch(batch):\n",
        "    label_list, text_list = [], []\n",
        "    for _label, _text in batch:\n",
        "        label_list.append(label_pipeline(_label))\n",
        "        text_list.append(torch.tensor(text_pipeline(_text), dtype=torch.int64))\n",
        "\n",
        "\n",
        "    label_list = torch.tensor(label_list, dtype=torch.int64)\n",
        "    text_list = pad_sequence(text_list, batch_first=True)\n",
        "\n",
        "\n",
        "    return label_list.to(device), text_list.to(device)"
      ],
      "execution_count": 55
    },
    {
      "cell_type": "markdown",
      "metadata": {
        "id": "5f3247ce-faf3-45f8-979e-263e1367d69a"
      },
      "source": [
        "You can convert the dataset objects to a data loader by applying the collate function.\n"
      ]
    },
    {
      "cell_type": "code",
      "metadata": {
        "id": "28cc7c1b-1b39-4392-a3a1-aa715bf7eb1c"
      },
      "outputs": [],
      "source": [
        "BATCH_SIZE = 64\n",
        "\n",
        "train_dataloader = DataLoader(\n",
        "    split_train_, batch_size=BATCH_SIZE, shuffle=True, collate_fn=collate_batch\n",
        ")\n",
        "valid_dataloader = DataLoader(\n",
        "    split_valid_, batch_size=BATCH_SIZE, shuffle=True, collate_fn=collate_batch\n",
        ")\n",
        "test_dataloader = DataLoader(\n",
        "    test_dataset, batch_size=BATCH_SIZE, shuffle=True, collate_fn=collate_batch\n",
        ")"
      ],
      "execution_count": 56
    },
    {
      "cell_type": "markdown",
      "metadata": {
        "id": "e569a4d8-8353-4b8a-9706-30ca7afc5684"
      },
      "source": [
        "You can see the output sequence when you have the label, text, and offsets for each batch.\n"
      ]
    },
    {
      "cell_type": "code",
      "metadata": {
        "id": "a0d7cd9e-46fb-48e5-b025-2f67db4e7787"
      },
      "outputs": [],
      "source": [
        "label,seqence=next(iter(valid_dataloader ))"
      ],
      "execution_count": 57
    },
    {
      "cell_type": "markdown",
      "metadata": {
        "id": "f950733e-de77-4609-8068-a37d0b070f5e"
      },
      "source": [
        "### Neural network\n"
      ]
    },
    {
      "cell_type": "markdown",
      "metadata": {
        "id": "ad0189e8-91fb-4adf-8d13-df2a627db5a0"
      },
      "source": [
        "You have created a neural network for a text classification model using an `EmbeddingBag` layer, followed by a softmax output layer. Additionally, you have initialized the model using a specific method.\n"
      ]
    },
    {
      "cell_type": "code",
      "metadata": {
        "id": "0e5bcefb-1508-42ed-97c4-3cd1eac85393"
      },
      "outputs": [],
      "source": [
        "class Net(nn.Module):\n",
        "    \"\"\"\n",
        "    Text classifier based on a pytorch TransformerEncoder.\n",
        "    \"\"\"\n",
        "\n",
        "    def __init__(\n",
        "\n",
        "        self,\n",
        "        vocab_size,\n",
        "        num_class,\n",
        "        embedding_dim=100,\n",
        "        nhead=5,\n",
        "        dim_feedforward=2048,\n",
        "        num_layers=6,\n",
        "        dropout=0.1,\n",
        "        activation=\"relu\",\n",
        "        classifier_dropout=0.1):\n",
        "\n",
        "        super().__init__()\n",
        "\n",
        "        self.emb = nn.Embedding(vocab_size,embedding_dim)\n",
        "\n",
        "        self.pos_encoder = PositionalEncoding(\n",
        "            d_model=embedding_dim,\n",
        "            dropout=dropout,\n",
        "            vocab_size=vocab_size,\n",
        "        )\n",
        "\n",
        "        encoder_layer = nn.TransformerEncoderLayer(\n",
        "            d_model=embedding_dim,\n",
        "            nhead=nhead,\n",
        "            dim_feedforward=dim_feedforward,\n",
        "            dropout=dropout,\n",
        "        )\n",
        "        self.transformer_encoder = nn.TransformerEncoder(\n",
        "            encoder_layer,\n",
        "            num_layers=num_layers,\n",
        "        )\n",
        "        self.classifier = nn.Linear(embedding_dim, num_class)\n",
        "        self.d_model = embedding_dim\n",
        "\n",
        "    def forward(self, x):\n",
        "        x = self.emb(x) * math.sqrt(self.d_model)\n",
        "        x = self.pos_encoder(x)\n",
        "        x = self.transformer_encoder(x)\n",
        "        x = x.mean(dim=1)\n",
        "        x = self.classifier(x)\n",
        "\n",
        "        return x"
      ],
      "execution_count": 58
    },
    {
      "cell_type": "code",
      "metadata": {
        "id": "ce55d8b8-00b8-44b7-8a4c-ddd1deb5a9b3"
      },
      "outputs": [],
      "source": [
        "y,x=next(iter(train_dataloader))"
      ],
      "execution_count": 59
    },
    {
      "cell_type": "code",
      "metadata": {
        "id": "19a52588-33c5-4312-80d4-9fb0ab1cd93f",
        "colab": {
          "base_uri": "https://localhost:8080/"
        },
        "outputId": "893657a8-b6d9-44ec-a5ba-32a80cae5b66"
      },
      "outputs": [
        {
          "output_type": "execute_result",
          "data": {
            "text/plain": [
              "(torch.Size([64, 97]), torch.Size([64]))"
            ]
          },
          "metadata": {},
          "execution_count": 61
        }
      ],
      "source": [
        "x.shape, y.shape"
      ],
      "execution_count": 61
    },
    {
      "cell_type": "markdown",
      "metadata": {
        "id": "3074d52d-136f-4cb2-98df-263cb8dd6459"
      },
      "source": [
        "You have created the model, and the embedding dimension size is a free parameter.\n"
      ]
    },
    {
      "cell_type": "code",
      "metadata": {
        "id": "4c503b7a-081a-4419-a8ad-a1ceb85e3b4f"
      },
      "outputs": [],
      "source": [
        "emsize=64"
      ],
      "execution_count": 62
    },
    {
      "cell_type": "markdown",
      "metadata": {
        "id": "3990ea5f-fe09-4d45-8324-4691cb749614"
      },
      "source": [
        "You need the vocabulary size to determine the number of embeddings.\n"
      ]
    },
    {
      "cell_type": "code",
      "metadata": {
        "id": "d87d07f1-9c44-4088-aed3-7a7d2bbdcc43",
        "colab": {
          "base_uri": "https://localhost:8080/"
        },
        "outputId": "4eb2a621-437e-4188-90ab-71b45ad49fca"
      },
      "outputs": [
        {
          "output_type": "execute_result",
          "data": {
            "text/plain": [
              "95811"
            ]
          },
          "metadata": {},
          "execution_count": 63
        }
      ],
      "source": [
        "vocab_size=len(vocab)\n",
        "vocab_size"
      ],
      "execution_count": 63
    },
    {
      "cell_type": "markdown",
      "metadata": {
        "id": "b7bf1987-3b59-4fbf-aee5-92856e605cd9"
      },
      "source": [
        "You have also determined the number of classes for the output layer.\n"
      ]
    },
    {
      "cell_type": "code",
      "metadata": {
        "id": "eac1ea71-27d2-41a2-90b3-010491065d24",
        "colab": {
          "base_uri": "https://localhost:8080/"
        },
        "outputId": "4147bf53-67a6-4671-af17-7056fc2efd3d"
      },
      "outputs": [
        {
          "output_type": "execute_result",
          "data": {
            "text/plain": [
              "4"
            ]
          },
          "metadata": {},
          "execution_count": 64
        }
      ],
      "source": [
        "num_class"
      ],
      "execution_count": 64
    },
    {
      "cell_type": "markdown",
      "metadata": {
        "id": "a63b07d0-094b-41eb-9fdb-e0c22ba25c38"
      },
      "source": [
        "Creating the model:\n"
      ]
    },
    {
      "cell_type": "code",
      "metadata": {
        "id": "05f5e7d3-f45f-4907-a825-07b000b9a860",
        "colab": {
          "base_uri": "https://localhost:8080/"
        },
        "outputId": "1e90922a-7f54-4b10-c0d0-ed1aa6c8a26b"
      },
      "outputs": [
        {
          "output_type": "execute_result",
          "data": {
            "text/plain": [
              "Net(\n",
              "  (emb): Embedding(95811, 100)\n",
              "  (pos_encoder): PositionalEncoding(\n",
              "    (dropout): Dropout(p=0.1, inplace=False)\n",
              "  )\n",
              "  (transformer_encoder): TransformerEncoder(\n",
              "    (layers): ModuleList(\n",
              "      (0-5): 6 x TransformerEncoderLayer(\n",
              "        (self_attn): MultiheadAttention(\n",
              "          (out_proj): NonDynamicallyQuantizableLinear(in_features=100, out_features=100, bias=True)\n",
              "        )\n",
              "        (linear1): Linear(in_features=100, out_features=2048, bias=True)\n",
              "        (dropout): Dropout(p=0.1, inplace=False)\n",
              "        (linear2): Linear(in_features=2048, out_features=100, bias=True)\n",
              "        (norm1): LayerNorm((100,), eps=1e-05, elementwise_affine=True)\n",
              "        (norm2): LayerNorm((100,), eps=1e-05, elementwise_affine=True)\n",
              "        (dropout1): Dropout(p=0.1, inplace=False)\n",
              "        (dropout2): Dropout(p=0.1, inplace=False)\n",
              "      )\n",
              "    )\n",
              "  )\n",
              "  (classifier): Linear(in_features=100, out_features=4, bias=True)\n",
              ")"
            ]
          },
          "metadata": {},
          "execution_count": 65
        }
      ],
      "source": [
        "model = Net(vocab_size=vocab_size,num_class=4).to(device)\n",
        "model"
      ],
      "execution_count": 65
    },
    {
      "cell_type": "markdown",
      "metadata": {
        "id": "6a06c350-c241-4b18-bfbe-ae28147339ec"
      },
      "source": [
        "The code line `predicted_label=model(text, offsets)` is used to obtain predicted labels from a machine learning model for a given input text and its corresponding offsets. The `model` is the machine learning model being used for text classification or similar tasks.\n"
      ]
    },
    {
      "cell_type": "code",
      "metadata": {
        "id": "42f1ec47-0511-4321-91a3-e000d2d8ba6d"
      },
      "outputs": [],
      "source": [
        "predicted_label=model(x)"
      ],
      "execution_count": 66
    },
    {
      "cell_type": "markdown",
      "metadata": {
        "id": "ca7e68e6-dc95-4d06-95f8-51dd434e8295"
      },
      "source": [
        "You can verify the output shape of your model. In this case, the model is trained with a mini-batch size of 64 samples. The output layer of the model produces 4 logits for each neuron, corresponding to the four classes in the classification task. You can also create a function to find the accuracy given a dataset.\n"
      ]
    },
    {
      "cell_type": "code",
      "metadata": {
        "id": "c37f16ca-e2bd-48bd-8904-8e10d23923f9",
        "colab": {
          "base_uri": "https://localhost:8080/"
        },
        "outputId": "5968196f-736a-4404-befe-a63a0fbf1d0f"
      },
      "outputs": [
        {
          "output_type": "execute_result",
          "data": {
            "text/plain": [
              "torch.Size([64, 4])"
            ]
          },
          "metadata": {},
          "execution_count": 67
        }
      ],
      "source": [
        "predicted_label.shape"
      ],
      "execution_count": 67
    },
    {
      "cell_type": "code",
      "metadata": {
        "id": "3c0be8d0-9a6f-4c84-b97d-7a81c53c94c8",
        "colab": {
          "base_uri": "https://localhost:8080/"
        },
        "outputId": "479ba2a2-1736-435a-e5be-ec9d4b198fae"
      },
      "outputs": [
        {
          "output_type": "execute_result",
          "data": {
            "text/plain": [
              "torch.Size([64, 97])"
            ]
          },
          "metadata": {},
          "execution_count": 68
        }
      ],
      "source": [
        "x.shape"
      ],
      "execution_count": 68
    },
    {
      "cell_type": "markdown",
      "metadata": {
        "id": "7a47f767-30cd-4d4d-bd66-11b5e3ec0b90"
      },
      "source": [
        "Function **`predict`** takes in a text and a text pipeline, which preprocesses the text for machine learning. It uses a pre-trained model to predict the label of the text for text classification on the AG_NEWS dataset. The function returns the predicted label as a result.\n"
      ]
    },
    {
      "cell_type": "code",
      "metadata": {
        "id": "da3068fb-76cc-4c97-8372-eaf7f703a20e"
      },
      "outputs": [],
      "source": [
        "def predict(text, text_pipeline):\n",
        "    with torch.no_grad():\n",
        "        text = torch.unsqueeze(torch.tensor(text_pipeline(text)),0).to(device)\n",
        "\n",
        "        output = model(text)\n",
        "        return ag_news_label[output.argmax(1).item() + 1]"
      ],
      "execution_count": 69
    },
    {
      "cell_type": "code",
      "metadata": {
        "id": "c49dd7e1-84b4-42f6-b3c9-7aea70330e0a",
        "colab": {
          "base_uri": "https://localhost:8080/",
          "height": 35
        },
        "outputId": "0f5016cd-3c3c-4e9a-8f15-2e8877eb21a3"
      },
      "outputs": [
        {
          "output_type": "execute_result",
          "data": {
            "text/plain": [
              "'Business'"
            ],
            "application/vnd.google.colaboratory.intrinsic+json": {
              "type": "string"
            }
          },
          "metadata": {},
          "execution_count": 70
        }
      ],
      "source": [
        "predict(\"I like sports and stuff\",text_pipeline )"
      ],
      "execution_count": 70
    },
    {
      "cell_type": "markdown",
      "metadata": {
        "id": "c76f390b-a5fe-46a9-91c0-18f6f96c5ed7"
      },
      "source": [
        "You can create a function to evaluate the model's accuracy on a dataset.\n"
      ]
    },
    {
      "cell_type": "code",
      "metadata": {
        "id": "6c09d27e-ff7a-4948-9104-ac22fa473bec"
      },
      "outputs": [],
      "source": [
        "def evaluate(dataloader, model_eval):\n",
        "    model_eval.eval()\n",
        "    total_acc, total_count= 0, 0\n",
        "\n",
        "    with torch.no_grad():\n",
        "        for idx, (label, text) in enumerate(dataloader):\n",
        "            predicted_label = model_eval(text.to(device))\n",
        "\n",
        "            total_acc += (predicted_label.argmax(1) == label).sum().item()\n",
        "            total_count += label.size(0)\n",
        "    return total_acc / total_count"
      ],
      "execution_count": 71
    },
    {
      "cell_type": "markdown",
      "metadata": {
        "id": "27ebfc7d-1cd6-46a3-81fa-b6a4ad55e11f"
      },
      "source": [
        "You proceed to evaluate the model, and upon observation, found that its performance is no better than average. This outcome is expected, considering that the model has not undergone any training yet.\n"
      ]
    },
    {
      "cell_type": "code",
      "metadata": {
        "id": "0586d14e-c543-4a17-ab77-b7bedf3edfcd",
        "colab": {
          "base_uri": "https://localhost:8080/"
        },
        "outputId": "8b12dbab-00c7-4463-dd3e-ed43bc459e6a"
      },
      "outputs": [
        {
          "output_type": "execute_result",
          "data": {
            "text/plain": [
              "0.25"
            ]
          },
          "metadata": {},
          "execution_count": 72
        }
      ],
      "source": [
        "evaluate(test_dataloader, model)"
      ],
      "execution_count": 72
    },
    {
      "cell_type": "markdown",
      "metadata": {
        "id": "20604f7b-6bc6-4047-9c63-64420fca4295"
      },
      "source": [
        "Let's train your model.\n"
      ]
    },
    {
      "cell_type": "markdown",
      "metadata": {
        "id": "98a1bb11-e850-483b-826e-0efe1996fff4"
      },
      "source": [
        "---\n"
      ]
    },
    {
      "cell_type": "markdown",
      "metadata": {
        "id": "b6383677-14c9-42a7-9385-18eb3f417897"
      },
      "source": [
        "## Training\n",
        "\n",
        "You set the learning rate (LR) to 0.1, which determines the step size at which the optimizer updates the model's parameters during training. The CrossEntropyLoss criterion is used to calculate the loss between the model's predicted outputs and the ground truth labels. This loss function is commonly employed for multi-class classification tasks.\n",
        "\n",
        "The chosen optimizer is Stochastic Gradient Descent (SGD), which optimizes the model's parameters based on the computed gradients with respect to the loss function. The SGD optimizer uses the specified learning rate to control the size of the weight updates.\n",
        "\n",
        "Additionally, a learning rate scheduler is defined using StepLR. This scheduler adjusts the learning rate during training, reducing it by a factor (gamma) of 0.1 after every epoch (step) to improve convergence and fine-tune the model's performance. These components together form the essential setup for training a neural network using the specified learning rate, loss criterion, optimizer, and learning rate scheduler.\n",
        "\n",
        "**Note: The training takes a lot of time with CPU. The Skills Network lab environment provides only CPU. If you have access to GPU, you can uncomment the code below and run it to train the model. Else you can directly jump to the next section where you have been provided with a trained model and saved it for you to explore it.**\n"
      ]
    },
    {
      "cell_type": "code",
      "metadata": {
        "id": "4dea6611-db11-4ba1-beac-aa68bb7082ce"
      },
      "outputs": [],
      "source": [
        "# LR=0.1\n",
        "\n",
        "# criterion = torch.nn.CrossEntropyLoss()\n",
        "# optimizer = torch.optim.SGD(model.parameters(), lr=LR)\n",
        "# scheduler = torch.optim.lr_scheduler.StepLR(optimizer, 1.0, gamma=0.1)"
      ],
      "execution_count": null
    },
    {
      "cell_type": "markdown",
      "metadata": {
        "id": "fafcd1d6-3a3d-4529-ab90-ca14b10eca1d"
      },
      "source": [
        "Training the model for 10 epochs.\n",
        "\n",
        ">Please skip this step if you don't have GPU. Retrieve and use the model has been trained for 100 epochs and saved, in the next step.\n"
      ]
    },
    {
      "cell_type": "code",
      "metadata": {
        "id": "9cd363d4-10e3-4d99-a626-636083d6f062"
      },
      "outputs": [],
      "source": [
        "# EPOCHS = 10\n",
        "# cum_loss_list=[]\n",
        "# acc_epoch=[]\n",
        "# acc_old=0\n",
        "\n",
        "# for epoch in tqdm(range(1, EPOCHS + 1)):\n",
        "#     model.train()\n",
        "#     cum_loss=0\n",
        "#     for idx, (label, text) in enumerate(train_dataloader):\n",
        "#         optimizer.zero_grad()\n",
        "#         label, text=label.to(device), text.to(device)\n",
        "\n",
        "\n",
        "#         predicted_label = model(text)\n",
        "#         loss = criterion(predicted_label, label)\n",
        "#         loss.backward()\n",
        "#         torch.nn.utils.clip_grad_norm_(model.parameters(), 0.1)\n",
        "#         optimizer.step()\n",
        "#         cum_loss+=loss.item()\n",
        "#     print(\"Loss\",cum_loss)\n",
        "\n",
        "#     cum_loss_list.append(cum_loss)\n",
        "#     accu_val = evaluate(valid_dataloader)\n",
        "#     acc_epoch.append(accu_val)\n",
        "\n",
        "#     if accu_val > acc_old:\n",
        "#       acc_old= accu_val\n",
        "#       torch.save(model.state_dict(), 'my_model.pth')\n",
        "\n",
        "# save_list_to_file(lst=cum_loss_list, filename=\"loss.pkl\")\n",
        "# save_list_to_file(lst=acc_epoch, filename=\"acc.pkl\")"
      ],
      "execution_count": null
    },
    {
      "cell_type": "markdown",
      "metadata": {
        "id": "30110046-44ec-4368-bde6-fead68333f92"
      },
      "source": [
        "You have the capability to upload the trained model along with comprehensive data on cumulative loss and average accuracy at each epoch.\n"
      ]
    },
    {
      "cell_type": "code",
      "metadata": {
        "id": "a3219923-d6ff-4359-a3e5-cbd1b431896e"
      },
      "outputs": [],
      "source": [
        "! wget https://cf-courses-data.s3.us.cloud-object-storage.appdomain.cloud/IBMSkillsNetwork-GPXX05RNEN/my_model.pth\n",
        "! wget https://cf-courses-data.s3.us.cloud-object-storage.appdomain.cloud/IBMSkillsNetwork-GPXX05RNEN/acc.pkl\n",
        "! wget https://cf-courses-data.s3.us.cloud-object-storage.appdomain.cloud/IBMSkillsNetwork-GPXX05RNEN/loss.pkl"
      ],
      "execution_count": null
    },
    {
      "cell_type": "code",
      "metadata": {
        "id": "848ee3f2-0348-4789-95be-02c1ff1b442f"
      },
      "outputs": [],
      "source": [
        "cum_loss_list=load_list_from_file(\"loss.pkl\")\n",
        "acc_epoch=load_list_from_file(\"acc.pkl\")"
      ],
      "execution_count": null
    },
    {
      "cell_type": "code",
      "metadata": {
        "id": "edecf8fb-8fec-4bda-98b3-6ee45dc6f87d"
      },
      "outputs": [],
      "source": [
        "pretrained_model_path = 'my_model.pth'\n",
        "model_ = Net(vocab_size=vocab_size, num_class=4).to(device)\n",
        "model_.load_state_dict(torch.load(pretrained_model_path, map_location=torch.device('cpu')))"
      ],
      "execution_count": null
    },
    {
      "cell_type": "code",
      "metadata": {
        "id": "9a880ded-32d8-4ff8-9cdd-daa21bb9405e"
      },
      "outputs": [],
      "source": [
        "plot(cum_loss_list,acc_epoch)"
      ],
      "execution_count": null
    },
    {
      "cell_type": "markdown",
      "metadata": {
        "id": "0f10e6a6-e5c9-4bac-82af-9713a1b023d4"
      },
      "source": [
        "You can evaluate the results on the test data; you achieve over 80%.\n"
      ]
    },
    {
      "cell_type": "code",
      "metadata": {
        "id": "0e483128-0077-4edc-b2c8-3e53f1f8aa30"
      },
      "outputs": [],
      "source": [
        "evaluate(test_dataloader, model_)"
      ],
      "execution_count": null
    },
    {
      "cell_type": "markdown",
      "metadata": {
        "id": "7b64e938-d095-4ea4-8ab7-601899513841"
      },
      "source": [
        "The `plot_tras` function takes input words and a transformer model as arguments. It tokenizes the input words, applies the model's embedding and positional encoding layers, and extracts projection weights for query, key, and value from the model's state_dict. Using dot-product attention, it computes and visualizes attention scores as a heatmap. The softmax of these scores is also visualized as a separate heatmap. The function calculates the attention head by multiplying softmax scores with values and employs t-SNE to visualize both the embeddings and attention heads, offering insights into the attention mechanisms within the transformer model.\n"
      ]
    },
    {
      "cell_type": "code",
      "metadata": {
        "id": "b5e40c19-d300-41fa-b2f4-ba1dfb65942b"
      },
      "outputs": [],
      "source": [
        "sample=15\n",
        "\n",
        "words=train_dataset[sample][1]\n",
        "print(words)\n",
        "plot_tras(words, model)"
      ],
      "execution_count": null
    },
    {
      "cell_type": "markdown",
      "metadata": {
        "id": "63f9147c-6917-402c-ac6a-fe0ec186b540"
      },
      "source": [
        "In scaled dot-product attention, if you look from x-axis, rescuing is important with words like soon, don, their, help and an.\n"
      ]
    },
    {
      "cell_type": "code",
      "metadata": {
        "id": "a1fd760d-bb24-43c2-99d9-056c9313ec38"
      },
      "outputs": [],
      "source": [
        "sample=1\n",
        "\n",
        "words=train_dataset[sample][1]\n",
        "print(words)\n",
        "plot_tras(words, model)"
      ],
      "execution_count": null
    },
    {
      "cell_type": "markdown",
      "metadata": {
        "id": "022c0f8b-7302-4294-a0fe-c27b8175492d"
      },
      "source": [
        "# Exercise\n"
      ]
    },
    {
      "cell_type": "markdown",
      "metadata": {
        "id": "56340507-7b1b-4b5b-9217-23784bbad65e"
      },
      "source": [
        "You can make a prediction on the following article using the function **`predict`**.\n"
      ]
    },
    {
      "cell_type": "code",
      "metadata": {
        "id": "1557f24f-6d3e-41d8-97d5-534bb52dbc0e"
      },
      "outputs": [],
      "source": [
        "article=\"\"\"Canada navigated a stiff test against the Republic of Ireland on a rain soaked evening in Perth, coming from behind to claim a vital 2-1 victory at the Women’s World Cup.\n",
        "Katie McCabe opened the scoring with an incredible Olimpico goal – scoring straight from a corner kick – as her corner flew straight over the despairing Canada goalkeeper Kailen Sheridan at Perth Rectangular Stadium in Australia.\n",
        "Just when Ireland thought it had safely navigated itself to half time with a lead, Megan Connolly failed to get a clean connection on a clearance with the resulting contact squirming into her own net to level the score.\n",
        "Minutes into the second half, Adriana Leon completed the turnaround for the Olympic champion, slotting home from the edge of the area to seal the three points.\"\"\""
      ],
      "execution_count": null
    },
    {
      "cell_type": "markdown",
      "metadata": {
        "id": "d0ca1205-091a-4d52-86da-1c70441471ec"
      },
      "source": [
        "This markdown content generates a styled box with light gray background and padding. It contains an `<h3>` header displaying the content of the `article` variable, and an `<h4>` header indicating the predicted category of the news article which is provided by the `result` variable. The placeholders `{article}` and `{result}` will be dynamically replaced with actual values when this markdown is rendered.\n"
      ]
    },
    {
      "cell_type": "code",
      "metadata": {
        "id": "5b4ab777-e6f0-4307-9f3b-1591dc8d8d1b"
      },
      "outputs": [],
      "source": [
        "result = #Call predict() for the article to see the result\n",
        "\n",
        "markdown_content = f'''\n",
        "<div style=\"background-color: gray; padding: 10px;\">\n",
        "    <h3>{article}</h3>\n",
        "    <h4>The category of the news article: {result}</h4>\n",
        "</div>\n",
        "'''\n",
        "\n",
        "md(markdown_content)"
      ],
      "execution_count": null
    },
    {
      "cell_type": "markdown",
      "metadata": {
        "id": "7576b083-bf37-4d5b-820f-83eb49d61ef1"
      },
      "source": [
        "<details>\n",
        "    <summary>Click here for Solution</summary>\n",
        "\n",
        "```python\n",
        "result = predict(article, text_pipeline)\n",
        "\n",
        "markdown_content = f'''\n",
        "<div style=\"background-color: gray; padding: 10px;\">\n",
        "    <h3>{article}</h3>\n",
        "    <h4>The category of the news article: {result}</h4>\n",
        "</div>\n",
        "'''\n",
        "\n",
        "md(markdown_content)\n",
        "```\n",
        "\n",
        "</details>\n"
      ]
    },
    {
      "cell_type": "markdown",
      "metadata": {
        "id": "39608d90-cbbd-4c7e-9cef-772e195e4709"
      },
      "source": [
        "Looks good!\n"
      ]
    },
    {
      "cell_type": "markdown",
      "metadata": {
        "id": "c34a271c-4c9f-4bfe-a62c-c1b73df24a08"
      },
      "source": [
        "---\n"
      ]
    },
    {
      "cell_type": "markdown",
      "metadata": {
        "id": "f4a15079-6dde-48bd-8b1a-74534525b6d6"
      },
      "source": [
        "## Congratulations! You have completed the lab\n"
      ]
    },
    {
      "cell_type": "markdown",
      "metadata": {
        "id": "7e71b3ed-8dc2-4618-b917-905a9219f8dc"
      },
      "source": [
        "## Authors\n"
      ]
    },
    {
      "cell_type": "markdown",
      "metadata": {
        "id": "fb8d142e-11eb-499e-92af-f2bac163d907"
      },
      "source": [
        "[Roodra Kanwar](https://www.linkedin.com/in/roodrakanwar/) is completing his MS in CS specializing in big data from Simon Fraser University. He has previous experience working with machine learning and as a data engineer.\n"
      ]
    },
    {
      "cell_type": "markdown",
      "metadata": {
        "id": "533bacc1-af18-46cf-897a-d94e4ea15cbe"
      },
      "source": [
        "## Contributors\n"
      ]
    },
    {
      "cell_type": "markdown",
      "metadata": {
        "id": "14921d9e-9b30-4864-bd68-45f489d446e0"
      },
      "source": [
        "[Joseph Santarcangelo](https://author.skills.network/instructors/joseph_santarcangelo)\n",
        "\n",
        "Joseph has a Ph.D. in Electrical Engineering, his research focused on using machine learning, signal processing, and computer vision to determine how videos impact human cognition. Joseph has been working for IBM since he completed his PhD.\n",
        "\n",
        "[Ashutosh Sagar](https://www.linkedin.com/in/ashutoshsagar/) is completing his MS in CS from Dalhousie University. He has previous experience working with Natural Language Processing and as a Data Scientist.\n"
      ]
    },
    {
      "cell_type": "markdown",
      "metadata": {
        "id": "af690d48-8e9d-4565-a70b-5ebad1e1fade"
      },
      "source": [
        "## References\n",
        "\n",
        "\n",
        "[TEXT CLASSIFICATION WITH THE TORCHTEXT LIBRARY](https://pytorch.org/tutorials/beginner/text_sentiment_ngrams_tutorial.html)\n"
      ]
    },
    {
      "cell_type": "markdown",
      "metadata": {
        "id": "3efd8279-4df9-43bc-8c0e-18358e6606f5"
      },
      "source": [
        "© Copyright IBM Corporation. All rights reserved.\n"
      ]
    }
  ],
  "metadata": {
    "kernelspec": {
      "display_name": "Python",
      "language": "python",
      "name": "conda-env-python-py"
    },
    "language_info": {
      "codemirror_mode": {
        "name": "ipython",
        "version": 3
      },
      "file_extension": ".py",
      "mimetype": "text/x-python",
      "name": "python",
      "nbconvert_exporter": "python",
      "pygments_lexer": "ipython3",
      "version": "3.7.12"
    },
    "prev_pub_hash": "a2b858645f1fcfb4f2d8b8e240d3758016f850dbb407f7fa587cddfb1598bb11",
    "colab": {
      "provenance": []
    }
  },
  "nbformat": 4,
  "nbformat_minor": 0
}