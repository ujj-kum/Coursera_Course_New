{
 "cells": [
  {
   "cell_type": "markdown",
   "metadata": {},
   "source": [
    "<p style=\"text-align:center\">\n",
    "    <a href=\"https://skills.network\" target=\"_blank\">\n",
    "    <img src=\"https://cf-courses-data.s3.us.cloud-object-storage.appdomain.cloud/assets/logos/SN_web_lightmode.png\" width=\"200\" alt=\"Skills Network Logo\">\n",
    "    </a>\n",
    "</p>\n"
   ]
  },
  {
   "cell_type": "markdown",
   "metadata": {},
   "source": [
    "# **Building and Training a Simple Language Model with a Neural Network**\n",
    "\n",
    "This project serves as an introduction to the field of language modeling, focusing on creating a text generator tailored for composing 90s rap songs. You will utilize histogram N-gram models, implemented through the Natural Language Toolkit (NLTK). This approach allows us to construct revealing histograms, shedding light on nuanced cadences of word frequencies and distributions.\n",
    "\n",
    "These initial steps lay the foundation for understanding the intricacies of linguistic patterns. Progressing forward, you will delve into the domain of neural networks within the PyTorch framework. Within this realm, you will engineer a feedforward neural network, immersing ourselves in concepts such as embedding layers. You will also refine the output layer, tailoring it for optimal performance in language modeling tasks.\n",
    "\n",
    "Throughout this journey, you are going explore various training strategies and embrace fundamental Natural Language Processing (NLP) tasks, including tokenization and sequence analysis. As you traverse this enriching path, you will gain profound insights into the art of generating text, culminating in the ability to craft 90s rap lyrics that resonate with the era's unique style and rhythm.\n",
    "\n",
    "<div style=\"text-align:center;\">\n",
    "    <img src=\"https://cf-courses-data.s3.us.cloud-object-storage.appdomain.cloud/IBM-GPXX0WSVEN/song%20%281%29.png\" alt=\"Image Description\">\n",
    "</div>\n"
   ]
  },
  {
   "cell_type": "markdown",
   "metadata": {},
   "source": [
    "# __Table of Contents__\n",
    "\n",
    "<ol>\n",
    "    <li><a href=\"#Objectives\">Objectives</a></li>\n",
    "    <li>\n",
    "        <a href=\"#Setup\">Setup</a>\n",
    "        <ol>\n",
    "            <li><a href=\"#Installing-required-libraries\">Installing required libraries</a></li>\n",
    "            <li><a href=\"#Importing-required-libraries\">Importing required libraries</a></li>\n",
    "            <li><a href=\"#Defining-helper-functions\">Defining helper functions</a></li>\n",
    "        </ol>\n",
    "    </li>\n",
    "        <li><a href=\"#Language-modeling\">Language modeling</a></li>\n",
    "        <ol>\n",
    "            <li><a href=\"#Tokenization\">Tokenization</a></li>\n",
    "            <li><a href=\"#Unigram-model\">Unigram model</a></li>\n",
    "            <li><a href=\"#Bigram-model\">Bigram model</a></li>\n",
    "            <li><a href=\"#Trigram-Model\">Trigram model</a></li>\n",
    "        </ol>\n",
    "    </li>\n",
    "    <li><a href=\"#Feedforward-Neural-Networks-(FNNs)-for-language-models\">Feedforward Neural Networks (FNNs) for language models</a></li>\n",
    "        <ol>\n",
    "            <li><a href=\"#Tokenization-for-FNN\">Tokenization for FNN</a></li>\n",
    "            <li><a href=\"#Indexing\">Indexing</a></li>\n",
    "            <li><a href=\"#Embedding-layers\">Embedding layers</a></li>\n",
    "        </ol>\n",
    "    <li><a href=\"#Generating-context-target-pairs-(n-grams)\">Generating context-target pairs (n-grams)</a></li>\n",
    "    <ol>\n",
    "        <li><a href=\"#Batch-function\">Batch function</a></li>\n",
    "        <li><a href=\"#Multi-class-neural-network\">Multi-class neural network</a></li>\n",
    "    </ol>\n",
    "    <li><a href=\"#Training\">Training</a></li>\n",
    "    </li>\n",
    "    <li><a href=\"#Exercises\">Exercises</a></li>\n",
    "    </li>\n",
    "</ol>\n"
   ]
  },
  {
   "cell_type": "markdown",
   "metadata": {},
   "source": [
    "---\n"
   ]
  },
  {
   "cell_type": "markdown",
   "metadata": {},
   "source": [
    "# Objectives\n",
    "\n",
    "After completing this lab, you will be able to:\n",
    "\n",
    " - Utilize histogram N-gram models, implemented through the Natural Language Toolkit (NLTK), to analyze and understand word frequencies and distributions.\n",
    " - Implement a feedforward neural network using the PyTorch framework, including embedding layers, for language modeling tasks.\n",
    " - Fine-tune the output layer of the neural network for optimal performance in text generation.\n",
    " - Apply various training strategies and fundamental Natural Language Processing (NLP) techniques, such as tokenization and sequence analysis, to improve text generation.\n"
   ]
  },
  {
   "cell_type": "markdown",
   "metadata": {},
   "source": [
    "---\n"
   ]
  },
  {
   "cell_type": "markdown",
   "metadata": {},
   "source": [
    "# Setup\n"
   ]
  },
  {
   "cell_type": "markdown",
   "metadata": {},
   "source": [
    "For this lab, you will use the following libraries:\n",
    "\n",
    "*   [`pandas`](https://pandas.pydata.org/?utm_medium=Exinfluencer&utm_source=Exinfluencer&utm_content=000026UJ&utm_term=10006555&utm_id=NA-SkillsNetwork-Channel-SkillsNetworkCoursesIBMML0187ENSkillsNetwork31430127-2021-01-01) for managing the data.\n",
    "*   [`numpy`](https://numpy.org/?utm_medium=Exinfluencer&utm_source=Exinfluencer&utm_content=000026UJ&utm_term=10006555&utm_id=NA-SkillsNetwork-Channel-SkillsNetworkCoursesIBMML0187ENSkillsNetwork31430127-2021-01-01) for mathematical operations.\n",
    "*   [`sklearn`](https://scikit-learn.org/stable/?utm_medium=Exinfluencer&utm_source=Exinfluencer&utm_content=000026UJ&utm_term=10006555&utm_id=NA-SkillsNetwork-Channel-SkillsNetworkCoursesIBMML0187ENSkillsNetwork31430127-2021-01-01) for machine learning and machine-learning-pipeline related functions.\n",
    "*   [`seaborn`](https://seaborn.pydata.org/?utm_medium=Exinfluencer&utm_source=Exinfluencer&utm_content=000026UJ&utm_term=10006555&utm_id=NA-SkillsNetwork-Channel-SkillsNetworkCoursesIBMML0187ENSkillsNetwork31430127-2021-01-01) for visualizing the data.\n",
    "*   [`matplotlib`](https://matplotlib.org/?utm_medium=Exinfluencer&utm_source=Exinfluencer&utm_content=000026UJ&utm_term=10006555&utm_id=NA-SkillsNetwork-Channel-SkillsNetworkCoursesIBMML0187ENSkillsNetwork31430127-2021-01-01) for additional plotting tools.\n"
   ]
  },
  {
   "cell_type": "markdown",
   "metadata": {},
   "source": [
    "### Installing required libraries\n",
    "\n",
    "All the required libraries are pre-installed in the Skills Network Labs environment. However, if you run this notebook commands in a different Jupyter environment (e.g. Watson Studio or Ananconda), you will need to install these libraries using the code cell below.\n",
    "\n",
    "<h2 style=\"color:red;\">After installing the libraries below please RESTART THE KERNEL and run all cells.</h2>\n"
   ]
  },
  {
   "cell_type": "code",
   "execution_count": 1,
   "metadata": {
    "tags": []
   },
   "outputs": [],
   "source": [
    "%%capture\n",
    "\n",
    "!mamba install -y nltk\n",
    "!pip install torchtext -qqq"
   ]
  },
  {
   "cell_type": "markdown",
   "metadata": {},
   "source": [
    "__Note__: The following required libraries are __not__ pre-installed in the Skills Network Labs environment. __You will need to run the following cell__ to install them:\n"
   ]
  },
  {
   "cell_type": "markdown",
   "metadata": {},
   "source": [
    "### Importing required libraries\n",
    "\n",
    "_It is recommended that you import all required libraries in one place (here):_\n"
   ]
  },
  {
   "cell_type": "code",
   "execution_count": 2,
   "metadata": {
    "tags": []
   },
   "outputs": [],
   "source": [
    "%%capture\n",
    "import warnings\n",
    "from tqdm import tqdm\n",
    "\n",
    "warnings.simplefilter('ignore')\n",
    "import time\n",
    "from collections import OrderedDict\n",
    "\n",
    "import re\n",
    "\n",
    "import numpy as np\n",
    "import matplotlib.pyplot as plt\n",
    "import pandas as pd\n",
    "\n",
    "\n",
    "import nltk\n",
    "nltk.download('punkt')\n",
    "\n",
    "import torch\n",
    "import torch.nn as nn\n",
    "import torch.nn.functional as F\n",
    "import torch.optim as optim\n",
    "import string\n",
    "import time\n",
    "\n",
    "import matplotlib.pyplot as plt\n",
    "from sklearn.manifold import TSNE\n",
    "\n",
    "# You can also use this section to suppress warnings generated by your code:\n",
    "def warn(*args, **kwargs):\n",
    "    pass\n",
    "import warnings\n",
    "warnings.warn = warn\n",
    "%capture"
   ]
  },
  {
   "cell_type": "markdown",
   "metadata": {},
   "source": [
    "### Defining helper functions\n",
    "\n",
    "Remove all non-word characters (everything except numbers and letters)\n"
   ]
  },
  {
   "cell_type": "code",
   "execution_count": 3,
   "metadata": {
    "tags": []
   },
   "outputs": [],
   "source": [
    "def preprocess_string(s):\n",
    "    # Remove all non-word characters (everything except numbers and letters)\n",
    "    s = re.sub(pattern=r\"[^\\w\\s]\", repl='', string=s)\n",
    "    # Replace all runs of whitespaces with no space\n",
    "    s = re.sub(pattern=r\"\\s+\", repl='', string=s)\n",
    "    # replace digits with no space\n",
    "    s = re.sub(pattern=r\"\\d\", repl='', string=s)\n",
    "\n",
    "    return s"
   ]
  },
  {
   "cell_type": "markdown",
   "metadata": {},
   "source": [
    "---\n"
   ]
  },
  {
   "cell_type": "markdown",
   "metadata": {},
   "source": [
    "## Language modeling\n",
    "\n",
    "Language modeling is a foundational concept within the field of natural language processing (NLP) and artificial intelligence. It involves the prediction of the likelihood of a sequence of words within a given language. This method is statistical in nature and seeks to capture the patterns, structures, and relationships that exist between words in a given text corpus.\n",
    "\n",
    "At its essence, a language model strives to comprehend the probabilities associated with sequences of words. This comprehension can be leveraged for a multitude of NLP tasks, including but not limited to text generation, machine translation, speech recognition, sentiment analysis, and more.\n",
    "\n",
    "Let's consider the following song lyrics to determine if you can generate similar output using a given word.\n"
   ]
  },
  {
   "cell_type": "code",
   "execution_count": 4,
   "metadata": {
    "tags": []
   },
   "outputs": [],
   "source": [
    "song= \"\"\"We are no strangers to love\n",
    "You know the rules and so do I\n",
    "A full commitments what Im thinking of\n",
    "You wouldnt get this from any other guy\n",
    "I just wanna tell you how Im feeling\n",
    "Gotta make you understand\n",
    "Never gonna give you up\n",
    "Never gonna let you down\n",
    "Never gonna run around and desert you\n",
    "Never gonna make you cry\n",
    "Never gonna say goodbye\n",
    "Never gonna tell a lie and hurt you\n",
    "Weve known each other for so long\n",
    "Your hearts been aching but youre too shy to say it\n",
    "Inside we both know whats been going on\n",
    "We know the game and were gonna play it\n",
    "And if you ask me how Im feeling\n",
    "Dont tell me youre too blind to see\n",
    "Never gonna give you up\n",
    "Never gonna let you down\n",
    "Never gonna run around and desert you\n",
    "Never gonna make you cry\n",
    "Never gonna say goodbye\n",
    "Never gonna tell a lie and hurt you\n",
    "Never gonna give you up\n",
    "Never gonna let you down\n",
    "Never gonna run around and desert you\n",
    "Never gonna make you cry\n",
    "Never gonna say goodbye\n",
    "Never gonna tell a lie and hurt you\n",
    "Weve known each other for so long\n",
    "Your hearts been aching but youre too shy to say it\n",
    "Inside we both know whats been going on\n",
    "We know the game and were gonna play it\n",
    "I just wanna tell you how Im feeling\n",
    "Gotta make you understand\n",
    "Never gonna give you up\n",
    "Never gonna let you down\n",
    "Never gonna run around and desert you\n",
    "Never gonna make you cry\n",
    "Never gonna say goodbye\n",
    "Never gonna tell a lie and hurt you\n",
    "Never gonna give you up\n",
    "Never gonna let you down\n",
    "Never gonna run around and desert you\n",
    "Never gonna make you cry\n",
    "Never gonna say goodbye\n",
    "Never gonna tell a lie and hurt you\n",
    "Never gonna give you up\n",
    "Never gonna let you down\n",
    "Never gonna run around and desert you\n",
    "Never gonna make you cry\n",
    "Never gonna say goodbye\n",
    "Never gonna tell a lie and hurt you\"\"\""
   ]
  },
  {
   "cell_type": "markdown",
   "metadata": {},
   "source": [
    "### Natural Language Toolkit (NLTK)\n"
   ]
  },
  {
   "cell_type": "markdown",
   "metadata": {},
   "source": [
    "NLTK is indeed a widely-used open-source library in Python that is specifically designed for various natural language processing (NLP) tasks. It provides a comprehensive set of tools, resources, and algorithms that aid in the analysis and manipulation of human language data. \n"
   ]
  },
  {
   "cell_type": "markdown",
   "metadata": {},
   "source": [
    "### Tokenization\n",
    "\n",
    "Tokenization, a fundamental concept within the realm of natural language processing (NLP), involves the intricate process of breaking down a body of text into discrete units known as tokens. These tokens can encompass words, phrases, sentences, or even individual characters, adapting based on the desired level of granularity for analysis. For the purpose of this project, you will focus on Word Tokenization, a prevalent technique. This technique treats each word in the text as an independent entity. Words, typically separated by spaces or punctuation marks, serve as the tokens in this approach. It's important to note that Word Tokenization exhibits versatile characteristics, including capitalization, symbols, and punctuation marks.\n",
    "\n",
    "To achieve the goal, you will utilize the```word_tokenize```function. During this process, you will remove punctuation, symbols, and capital letters.\n"
   ]
  },
  {
   "cell_type": "code",
   "execution_count": 5,
   "metadata": {
    "tags": []
   },
   "outputs": [],
   "source": [
    "from nltk.tokenize import word_tokenize\n",
    "\n",
    "\n",
    "def preprocess(words):\n",
    "    tokens = word_tokenize(text=words)\n",
    "    tokens = [preprocess_string(w) for w in tokens]\n",
    "    return [w.lower() for w in tokens if len(w)!=0 or not(w in string.punctuation)]\n",
    "\n",
    "\n",
    "tokens = preprocess(song)"
   ]
  },
  {
   "cell_type": "markdown",
   "metadata": {},
   "source": [
    "The outcome is a collection of tokens, wherein each element of the```tokens```pertains to the lyrics of the song, arranged in sequential order.\n"
   ]
  },
  {
   "cell_type": "code",
   "execution_count": 6,
   "metadata": {
    "tags": []
   },
   "outputs": [
    {
     "data": {
      "text/plain": [
       "['we', 'are', 'no', 'strangers', 'to', 'love', 'you', 'know', 'the', 'rules']"
      ]
     },
     "execution_count": 6,
     "metadata": {},
     "output_type": "execute_result"
    }
   ],
   "source": [
    "tokens[0:10]"
   ]
  },
  {
   "cell_type": "markdown",
   "metadata": {},
   "source": [
    "The frequency distribution of words in a sentence represents how often each word appears in that particular sentence. It provides a count of the occurrences of individual words, allowing you to understand which words are more common or frequent within the given sentence. Let's work with the following toy example:\n",
    "\n",
    "```Text```: **I like dogs and I kinda like cats**\n",
    "\n",
    "```Tokens```: **[I like, dogs, and, I, kinda, like, cats]**\n",
    "\n",
    "The function```Count```will tally the occurrences of words in the input text.\n"
   ]
  },
  {
   "cell_type": "markdown",
   "metadata": {},
   "source": [
    "$Count(\"I\")=2$\n",
    "\n",
    "$Count(\"like\")= 2$\n",
    "\n",
    "$Count(\"dogs\")=1$\n",
    "\n",
    "$Count(\"and\")=1$\n",
    "\n",
    "$Count(\"kinda\")=1$\n",
    "\n",
    "$Count(\"cats\")=1$\n",
    "\n",
    "$\\text{Total words} =8$\n"
   ]
  },
  {
   "cell_type": "markdown",
   "metadata": {},
   "source": [
    "Utilize```NLTK's FreqDist```to transform a frequency distribution of words. The outcome is a Python dictionary where the keys correspond to words, and the values indicate the frequency of each word's appearance. Please consider the provided example below.\n"
   ]
  },
  {
   "cell_type": "code",
   "execution_count": 7,
   "metadata": {
    "tags": []
   },
   "outputs": [
    {
     "name": "stdout",
     "output_type": "stream",
     "text": [
      "Tokens = dict_keys(['we', 'are', 'no', 'strangers', 'to', 'love', 'you', 'know', 'the', 'rules', 'and', 'so', 'do', 'i', 'a', 'full', 'commitments', 'what', 'im', 'thinking', 'of', 'wouldnt', 'get', 'this', 'from', 'any', 'other', 'guy', 'just', 'wan', 'na', 'tell', 'how', 'feeling', 'got', 'ta', 'make', 'understand', 'never', 'gon', 'give', 'up', 'let', 'down', 'run', 'around', 'desert', 'cry', 'say', 'goodbye', 'lie', 'hurt', 'weve', 'known', 'each', 'for', 'long', 'your', 'hearts', 'been', 'aching', 'but', 'youre', 'too', 'shy', 'it', 'inside', 'both', 'whats', 'going', 'on', 'game', 'were', 'play', 'if', 'ask', 'me', 'dont', 'blind', 'see'])\n",
      "No. of tokens = 80\n"
     ]
    }
   ],
   "source": [
    "# Create a frequency distribution of words\n",
    "fdist = nltk.FreqDist(samples=tokens)\n",
    "print(f\"Tokens = {fdist.keys()}\")\n",
    "print(f\"No. of tokens = {len(fdist.keys())}\")"
   ]
  },
  {
   "cell_type": "markdown",
   "metadata": {},
   "source": [
    " Plot the words with the top ten frequencies.\n"
   ]
  },
  {
   "cell_type": "code",
   "execution_count": 8,
   "metadata": {
    "tags": []
   },
   "outputs": [
    {
     "data": {
      "image/png": "[encoded data removed]",
      "text/plain": [
       "<Figure size 640x480 with 1 Axes>"
      ]
     },
     "metadata": {},
     "output_type": "display_data"
    }
   ],
   "source": [
    "plt.bar(list(fdist.keys())[0:10], list(fdist.values())[0:10])\n",
    "plt.xlabel(\"Words\")\n",
    "plt.ylabel(\"Frequency\")\n",
    "plt.show()"
   ]
  },
  {
   "cell_type": "markdown",
   "metadata": {},
   "source": [
    "### Unigram model\n",
    "\n",
    "An unigram model is a simple type of language model that considers each word in a sequence independently, without taking into account the previous words. In other words, it models the probability of each word occurring in the text, regardless of what came before it. Unigram models can be seen as a special case of n-gram models, where n is 1.\n"
   ]
  },
  {
   "cell_type": "markdown",
   "metadata": {},
   "source": [
    "You can think that text follows patterns, and probabilities are used to measure how likely a sequence of words is. In a unigram model, each word is considered independent and doesn't rely on others. Let's calculate the probability of **'I like tiramisu but I love cheesecake more'**.\n",
    "\n",
    "$  P(\\text{\"I\"}) = \\frac{\\text{Count}(\\text{\"I\"})}{\\text{Total words}}=\\frac{2}{8} = 0.250  $\n",
    "\n",
    "$  P(\\text{\"like\"}) = \\frac{\\text{Count}(\\text{\"like\"})}{\\text{Total words}}=\\frac{1}{8} = 0.125  $\n",
    "\n",
    "$  P(\\text{\"tiramisu\"}) = \\frac{\\text{Count}(\\text{\"tiramisu\"})}{\\text{Total words}}=\\frac{1}{8} = 0.125  $\n",
    "\n",
    "$  P(\\text{\"but\"}) = \\frac{\\text{Count}(\\text{\"but\"})}{\\text{Total words}}=\\frac{1}{8} = 0.125  $\n",
    "\n",
    "$  P(\\text{\"I\"}) = \\frac{\\text{Count}(\\text{\"I\"})}{\\text{Total words}}=\\frac{2}{8} = 0.250  $\n",
    "\n",
    "$  P(\\text{\"love\"}) = \\frac{\\text{Count}(\\text{\"love\"})}{\\text{Total words}}=\\frac{1}{8} = 0.125  $\n",
    "\n",
    "$  P(\\text{\"cheesecake\"}) = \\frac{\\text{Count}(\\text{\"cheesecake\"})}{\\text{Total words}}=\\frac{1}{8} = 0.125  $\n",
    "\n",
    "$  P(\\text{\"more\"}) = \\frac{\\text{Count}(\\text{\"more\"})}{\\text{Total words}}=\\frac{1}{8} = 0.125  $\n",
    "\n",
    "$P(\\text{\"I\"}, \\text{\"like\"}, \\text{\"tiramisu\"}, \\text{\"but\"}, \\text{\"I\"}, \\text{\"love\"}, \\text{\"cheesecake\"}, \\text{\"more\"}) = P(\\text{\"I\"}) \\cdot P(\\text{\"like\"}) \\cdot P(\\text{\"tiramisu\"}) \\cdot P(\\text{\"but\"}) \\cdot P(\\text{\"I\"}) \\cdot P(\\text{\"love\"}) \\cdot P(\\text{\"cheesecake\"}) \\cdot P(\\text{\"more\"}) = 0.250 \\times 0.125 \\times 0.125 \\times 0.125 \\times 0.250 \\times 0.125 \\times 0.125 \\times 0.125$\n",
    "\n",
    "In general, language models boil down to predicting a sequence of length $t$: $P(W_t, W_{t-1}, ..., W_0)$. In this eight-word sequence, you have:\n",
    "\n",
    "$P(W_7=\\text{\"more\"}, W_6=\\text{\"cheesecake\"}, W_5=\\text{\"love\"}, W_4=\\text{\"I\"}, W_3=\\text{\"but\"}, W_2=\\text{\"tiramisu\"}, W_1=\\text{\"like\"}, W_0=\\text{\"I\"})$\n",
    "\n",
    "The subscript serves as a positional indicator in the sequence and does not impact the nature of $P(\\bullet)$. When formally expressing the sequence, the last word is positioned at the leftmost side, gradually descending as you move through the sequence.\n"
   ]
  },
  {
   "cell_type": "markdown",
   "metadata": {},
   "source": [
    "Using NLTK you can normalize the frequency values by dividing them by the total count of each word to get a probability function. Now you will find the probability of each word.\n"
   ]
  },
  {
   "cell_type": "code",
   "execution_count": 9,
   "metadata": {
    "tags": []
   },
   "outputs": [
    {
     "data": {
      "text/plain": [
       "385"
      ]
     },
     "execution_count": 9,
     "metadata": {},
     "output_type": "execute_result"
    }
   ],
   "source": [
    "# total count of each word \n",
    "C = sum(fdist.values())\n",
    "C"
   ]
  },
  {
   "cell_type": "markdown",
   "metadata": {},
   "source": [
    "Find the probability of the word wish  i.w $P(strangers)$.\n"
   ]
  },
  {
   "cell_type": "code",
   "execution_count": 10,
   "metadata": {
    "tags": []
   },
   "outputs": [
    {
     "data": {
      "text/plain": [
       "0.0025974025974025974"
      ]
     },
     "execution_count": 10,
     "metadata": {},
     "output_type": "execute_result"
    }
   ],
   "source": [
    "fdist['strangers']/C"
   ]
  },
  {
   "cell_type": "markdown",
   "metadata": {},
   "source": [
    "Also, find each individual word by converting the tokens to a set.\n"
   ]
  },
  {
   "cell_type": "code",
   "execution_count": 11,
   "metadata": {
    "tags": []
   },
   "outputs": [],
   "source": [
    "vocabulary = set(tokens)"
   ]
  },
  {
   "cell_type": "markdown",
   "metadata": {},
   "source": [
    "#### How unigram model predicts the next likely word\n",
    "\n",
    "Let's consider a scenario from the above example **'I like tiramisu but I love cheesecake more'** where the unigram model is asked to predict the next word following the sequence **'I like'**.\n",
    "\n",
    "If the highest probability among all words is **\"I\"** with a probability  0.25, then according to the model, the most likely next word after **'I like'** would be **'I'**. However, this prediction doesn't make sense at all. This highlights a significant limitation of the unigram model—it lacks context, and its predictions are entirely dependent on the word with the highest probability \"I\" in this case \n",
    "\n",
    "Even if multiple words have the same highest probabilities, it will randomly choose any one word out of all the options.\n"
   ]
  },
  {
   "cell_type": "markdown",
   "metadata": {},
   "source": [
    "### Bigram model\n",
    "\n",
    "Bigrams represent pairs of consecutive words in the given phrase, i.e., $(w_{t-1},w_t)$. Consider the following words from your example: \"I like dogs and I kinda like cats.\"\n",
    "\n",
    "The correct sequence of bigrams is:\n",
    "\n",
    "$(I, like)$\n",
    "\n",
    "$(like, dogs)$\n",
    "\n",
    "$(dogs, and)$\n",
    "\n",
    "$(and, I)$\n",
    "\n",
    "$(I, kinda)$\n",
    "\n",
    "$(kinda, like)$\n",
    "\n",
    "$(like, cats)$\n"
   ]
  },
  {
   "cell_type": "markdown",
   "metadata": {},
   "source": [
    "**2-Gram models**: Bigram models use conditional probability. The probability of a word depends only on the previous word, i.e., the conditional probability $(W_{t}, W_{t-1})$ is used to predict the likelihood of word $(W_t)$ following word $W_{t-1}$ in a sequence. You can calculate the conditional probability for a bigram model using the following steps.\n"
   ]
  },
  {
   "cell_type": "markdown",
   "metadata": {},
   "source": [
    "Perform the bigram word count for each bigram: $Count(W_{t-1}, W_{t})$\n",
    "\n",
    "$Count(\\text{I, like}) = 1$\n",
    "\n",
    "$Count(\\text{like, dogs}) = 1$\n",
    "\n",
    "$Count(\\text{dogs, and}) = 1$\n",
    "\n",
    "$Count(\\text{and, I}) = 1$\n",
    "\n",
    "$Count(\\text{I, kinda}) = 1$\n",
    "\n",
    "$Count(\\text{kinda, like}) = 1$\n",
    "\n",
    "$Count(\\text{like, cats}) = 1$\n"
   ]
  },
  {
   "cell_type": "markdown",
   "metadata": {},
   "source": [
    "Now, let's calculate the conditional probability for each bigram in the form of $P(w_{t} | w_{t-1})$, where $w_{t-1}$ is the **context**, and the context size is one.\n",
    "\n",
    "$P(\\text{\"like\"} | \\text{\"I\"}) = \\frac{\\text{Count}(\\text{\"I, like\"})}{\\text{Total count of \"I\"}} = \\frac{1}{2} = 0.5$\n",
    "\n",
    "$P(\\text{\"dogs\"} | \\text{\"like\"}) = \\frac{\\text{Count}(\\text{\"like, dogs\"})}{\\text{Total count of \"like\"}} = \\frac{1}{2} = 0.5$\n",
    "\n",
    "$:$\n",
    "\n",
    "$P(\\text{\"like\"} | \\text{\"kinda\"}) = \\frac{\\text{Count}(\\text{\"kinda, like\"})}{\\text{Total count of \"kinda\"}} = \\frac{1}{1} = 1$\n",
    "\n",
    "$P(\\text{\"cats\"} | \\text{\"like\"}) = \\frac{\\text{Count}(\\text{\"like, cats\"})}{\\text{Total count of \"like\"}} = \\frac{1}{2} = 0.5$\n",
    "\n",
    "These probabilities represent the likelihood of encountering the second word in a bigram, given the presence of the first word.\n"
   ]
  },
  {
   "cell_type": "markdown",
   "metadata": {},
   "source": [
    "This approach is, in fact, an approximation used to determine the most likely word $W_t$, given the words $W_{t-1}, W_{t-2}, \\ldots, W_1$ in the sequence.\n",
    "\n",
    "$P(W_t | W_{t-1}, W_{t-2}, \\ldots, W_1) \\approx P(W_t | W_{t-1})$\n",
    "\n",
    "The conditional probability $P(W_t | W_{t-1})$ signifies the likelihood of encountering the word $W_t$, based on the context provided by the preceding word $W_{t-1}$. By employing this approximation, simplify the modeling process by assuming that the occurrence of the current word is mainly influenced by the most recent word in the sequence. In general, you have the capability to identify the most likely word.\n",
    "\n",
    "$\\hat{W_t} = \\arg\\max_{W_t} \\left( P(W_t | W_{t-1}) \\right)$\n"
   ]
  },
  {
   "cell_type": "markdown",
   "metadata": {},
   "source": [
    "```bigrams``` is a function provided by the Natural Language Toolkit (NLTK) library in Python. This function takes a sequence of tokens as input and returns an iterator over consecutive pairs of tokens, forming bigrams.\n"
   ]
  },
  {
   "cell_type": "code",
   "execution_count": 12,
   "metadata": {
    "tags": []
   },
   "outputs": [
    {
     "data": {
      "text/plain": [
       "<generator object bigrams at 0x7ffabbb77a50>"
      ]
     },
     "execution_count": 12,
     "metadata": {},
     "output_type": "execute_result"
    }
   ],
   "source": [
    "bigrams = nltk.bigrams(sequence=tokens)\n",
    "bigrams"
   ]
  },
  {
   "cell_type": "markdown",
   "metadata": {},
   "source": [
    "Convert a generator into a list, where each element of the list is a bigram.\n"
   ]
  },
  {
   "cell_type": "code",
   "execution_count": 13,
   "metadata": {
    "tags": []
   },
   "outputs": [],
   "source": [
    "my_bigrams = list(nltk.bigrams(tokens))"
   ]
  },
  {
   "cell_type": "markdown",
   "metadata": {},
   "source": [
    "You can see the first 10 bigrams.\n"
   ]
  },
  {
   "cell_type": "code",
   "execution_count": 14,
   "metadata": {
    "tags": []
   },
   "outputs": [
    {
     "data": {
      "text/plain": [
       "[('we', 'are'),\n",
       " ('are', 'no'),\n",
       " ('no', 'strangers'),\n",
       " ('strangers', 'to'),\n",
       " ('to', 'love'),\n",
       " ('love', 'you'),\n",
       " ('you', 'know'),\n",
       " ('know', 'the'),\n",
       " ('the', 'rules'),\n",
       " ('rules', 'and')]"
      ]
     },
     "execution_count": 14,
     "metadata": {},
     "output_type": "execute_result"
    }
   ],
   "source": [
    "my_bigrams[0:10]"
   ]
  },
  {
   "cell_type": "markdown",
   "metadata": {},
   "source": [
    "Compute the frequency distribution of the bigram $C(w_{t},w_{t-1})$ using the NLTK function```bigrams```.\n"
   ]
  },
  {
   "cell_type": "code",
   "execution_count": 15,
   "metadata": {
    "tags": []
   },
   "outputs": [
    {
     "data": {
      "text/plain": [
       "FreqDist({('gon', 'na'): 38, ('never', 'gon'): 36, ('you', 'never'): 9, ('na', 'tell'): 8, ('make', 'you'): 8, ('na', 'give'): 6, ('give', 'you'): 6, ('you', 'up'): 6, ('up', 'never'): 6, ('na', 'let'): 6, ...})"
      ]
     },
     "execution_count": 15,
     "metadata": {},
     "output_type": "execute_result"
    }
   ],
   "source": [
    "freq_bigrams = nltk.FreqDist(samples=nltk.bigrams(tokens))\n",
    "freq_bigrams"
   ]
  },
  {
   "cell_type": "markdown",
   "metadata": {},
   "source": [
    "The result is akin to a dictionary, where the key is a tuple containing the bigram.\n"
   ]
  },
  {
   "cell_type": "code",
   "execution_count": 16,
   "metadata": {
    "tags": []
   },
   "outputs": [
    {
     "data": {
      "text/plain": [
       "1"
      ]
     },
     "execution_count": 16,
     "metadata": {},
     "output_type": "execute_result"
    }
   ],
   "source": [
    "freq_bigrams[('we', 'are')]"
   ]
  },
  {
   "cell_type": "markdown",
   "metadata": {},
   "source": [
    "It is possible to provide you with the first 10 values of the frequency distribution.\n"
   ]
  },
  {
   "cell_type": "code",
   "execution_count": 17,
   "metadata": {
    "tags": []
   },
   "outputs": [
    {
     "name": "stdout",
     "output_type": "stream",
     "text": [
      "('we', 'are')\n",
      "1\n",
      "('are', 'no')\n",
      "1\n",
      "('no', 'strangers')\n",
      "1\n",
      "('strangers', 'to')\n",
      "1\n",
      "('to', 'love')\n",
      "1\n",
      "('love', 'you')\n",
      "1\n",
      "('you', 'know')\n",
      "1\n",
      "('know', 'the')\n",
      "3\n",
      "('the', 'rules')\n",
      "1\n",
      "('rules', 'and')\n",
      "1\n"
     ]
    }
   ],
   "source": [
    "for my_bigram in my_bigrams[0:10]:\n",
    "    print(my_bigram)\n",
    "    print(freq_bigrams[my_bigram])"
   ]
  },
  {
   "cell_type": "markdown",
   "metadata": {},
   "source": [
    "Here, you can generate the conditional distribution by normalizing the frequency distribution of unigrams. In this case, you are doing it for the word 'strangers' and then sorting the results:\n"
   ]
  },
  {
   "cell_type": "code",
   "execution_count": 18,
   "metadata": {
    "tags": []
   },
   "outputs": [],
   "source": [
    "word = \"strangers\"\n",
    "vocab_probabilities = {}\n",
    "for next_word in vocabulary:\n",
    "    vocab_probabilities[next_word] = freq_bigrams[(word, next_word)]/fdist[word]\n",
    "\n",
    "vocab_probabilities = sorted(vocab_probabilities.items(), key=lambda x:x[1], reverse=True)"
   ]
  },
  {
   "cell_type": "markdown",
   "metadata": {},
   "source": [
    "Print out the words that are more likely to occur.\n"
   ]
  },
  {
   "cell_type": "code",
   "execution_count": 19,
   "metadata": {
    "tags": []
   },
   "outputs": [
    {
     "data": {
      "text/plain": [
       "[('to', 1.0), ('we', 0.0), ('how', 0.0), ('for', 0.0)]"
      ]
     },
     "execution_count": 19,
     "metadata": {},
     "output_type": "execute_result"
    }
   ],
   "source": [
    "vocab_probabilities[0:4]"
   ]
  },
  {
   "cell_type": "markdown",
   "metadata": {},
   "source": [
    "Create a function to calculate the conditional probability of $W_t$ given $W_{t-1}$, sort the results, and output them as a list.\n"
   ]
  },
  {
   "cell_type": "code",
   "execution_count": 20,
   "metadata": {
    "tags": []
   },
   "outputs": [],
   "source": [
    "def make_predictions(my_words, freq_grams, normlize=1, vocabulary=vocabulary):\n",
    "    \"\"\"\n",
    "    Generate predictions for the conditional probability of the next word given a sequence.\n",
    "\n",
    "    Args:\n",
    "        my_words (list): A list of words in the input sequence.\n",
    "        freq_grams (dict): A dictionary containing frequency of n-grams.\n",
    "        normlize (int): A normalization factor for calculating probabilities.\n",
    "        vocabulary (list): A list of words in the vocabulary.\n",
    "\n",
    "    Returns:\n",
    "        list: A list of predicted words along with their probabilities, sorted in descending order.\n",
    "    \"\"\"\n",
    "\n",
    "    vocab_probabilities = {}  # Initialize a dictionary to store predicted word probabilities\n",
    "\n",
    "    context_size = len(list(freq_grams.keys())[0])  # Determine the context size from n-grams keys\n",
    "\n",
    "    # Preprocess input words and take only the relevant context words\n",
    "    my_tokens = preprocess(my_words)[0:context_size - 1]\n",
    "\n",
    "    # Calculate probabilities for each word in the vocabulary given the context\n",
    "    for next_word in vocabulary:\n",
    "        temp = my_tokens.copy()\n",
    "        temp.append(next_word)  # Add the next word to the context\n",
    "\n",
    "        # Calculate the conditional probability using the frequency information\n",
    "        if normlize!=0:\n",
    "            vocab_probabilities[next_word] = freq_grams[tuple(temp)] / normlize\n",
    "        else:\n",
    "            vocab_probabilities[next_word] = freq_grams[tuple(temp)] \n",
    "    # Sort the predicted words based on their probabilities in descending order\n",
    "    vocab_probabilities = sorted(vocab_probabilities.items(), key=lambda x: x[1], reverse=True)\n",
    "\n",
    "    return vocab_probabilities  # Return the sorted list of predicted words and their probabilities"
   ]
  },
  {
   "cell_type": "markdown",
   "metadata": {},
   "source": [
    "Set $W_{t-1}$ to 'i' and then calculate all the values of $P(W_t | W_{t-1}=i)$.\n"
   ]
  },
  {
   "cell_type": "code",
   "execution_count": 21,
   "metadata": {
    "tags": []
   },
   "outputs": [],
   "source": [
    "my_words=\"are\"\n",
    "\n",
    "vocab_probabilities = make_predictions(my_words, freq_bigrams, normlize=fdist['i'])"
   ]
  },
  {
   "cell_type": "code",
   "execution_count": 22,
   "metadata": {
    "tags": []
   },
   "outputs": [
    {
     "data": {
      "text/plain": [
       "[('no', 0.3333333333333333),\n",
       " ('we', 0.0),\n",
       " ('how', 0.0),\n",
       " ('for', 0.0),\n",
       " ('ta', 0.0),\n",
       " ('both', 0.0),\n",
       " ('so', 0.0),\n",
       " ('hurt', 0.0),\n",
       " ('any', 0.0),\n",
       " ('you', 0.0)]"
      ]
     },
     "execution_count": 22,
     "metadata": {},
     "output_type": "execute_result"
    }
   ],
   "source": [
    "vocab_probabilities[0:10]"
   ]
  },
  {
   "cell_type": "markdown",
   "metadata": {},
   "source": [
    "The word with the highest probability, denoted as $\\hat{W}_t$, is given by the first element of the list, this can be used as a simple autocomplete:\n"
   ]
  },
  {
   "cell_type": "code",
   "execution_count": 23,
   "metadata": {
    "tags": []
   },
   "outputs": [
    {
     "data": {
      "text/plain": [
       "'no'"
      ]
     },
     "execution_count": 23,
     "metadata": {},
     "output_type": "execute_result"
    }
   ],
   "source": [
    "vocab_probabilities[0][0]"
   ]
  },
  {
   "cell_type": "markdown",
   "metadata": {},
   "source": [
    "Generate a sequence using the bigram model by leveraging the preceding word (t-1) to predict and generate the subsequent word in the sequence.\n"
   ]
  },
  {
   "cell_type": "code",
   "execution_count": 24,
   "metadata": {
    "tags": []
   },
   "outputs": [],
   "source": [
    "my_song = \"\"\n",
    "for w in tokens[0:100]:\n",
    "    my_word = make_predictions(w, freq_bigrams)[0][0]\n",
    "    my_song += \" \" + my_word"
   ]
  },
  {
   "cell_type": "code",
   "execution_count": 25,
   "metadata": {
    "tags": []
   },
   "outputs": [
    {
     "data": {
      "text/plain": [
       "' both no strangers to say you never the game and hurt long i just lie commitments what im feeling of you never get this from any other for i just wan na tell a never im feeling got ta make you never never gon na tell you never never gon na tell you never never gon na tell around and hurt you never gon na tell you never never gon na tell goodbye never gon na tell a lie and hurt you never known each other for so long your hearts been aching but youre too shy to say goodbye'"
      ]
     },
     "execution_count": 25,
     "metadata": {},
     "output_type": "execute_result"
    }
   ],
   "source": [
    " my_song"
   ]
  },
  {
   "cell_type": "markdown",
   "metadata": {},
   "source": [
    "Create a sequence using the n-gram model by initiating the process with the first word in the sequence and producing an initial output. Subsequently, utilize this output as the basis for generating the next word in the sequence, i.e., you will give your model a word, then use the output to predict the next word and repeat.\n"
   ]
  },
  {
   "cell_type": "code",
   "execution_count": 26,
   "metadata": {
    "tags": []
   },
   "outputs": [],
   "source": [
    "my_song = \"i\"\n",
    "\n",
    "for i in range(100):\n",
    "    my_word=make_predictions(my_word,freq_bigrams)[0][0]\n",
    "    my_song+=\" \"+my_word"
   ]
  },
  {
   "cell_type": "code",
   "execution_count": 27,
   "metadata": {
    "tags": []
   },
   "outputs": [
    {
     "data": {
      "text/plain": [
       "'i never gon na tell a lie and hurt you never gon na tell a lie and hurt you never gon na tell a lie and hurt you never gon na tell a lie and hurt you never gon na tell a lie and hurt you never gon na tell a lie and hurt you never gon na tell a lie and hurt you never gon na tell a lie and hurt you never gon na tell a lie and hurt you never gon na tell a lie and hurt you never gon na tell a lie and hurt you never'"
      ]
     },
     "execution_count": 27,
     "metadata": {},
     "output_type": "execute_result"
    }
   ],
   "source": [
    "my_song"
   ]
  },
  {
   "cell_type": "markdown",
   "metadata": {},
   "source": [
    "This method may not yield optimal results; consider the following:\n",
    "\n",
    "$\\hat{W_1}=\\arg\\max{W_1} \\left( P(W_1 | W_{0}=\\text{like})\\right)$.\n",
    "\n",
    "Upon evaluation, observe that the result for $\\hat{W}_1$ includes both \"dogs\" and \"cats\" with equal likelihood.\n"
   ]
  },
  {
   "cell_type": "markdown",
   "metadata": {},
   "source": [
    "## Trigram model\n",
    "For the given example sentence: 'I like dogs and I kinda like cats'\n",
    "\n",
    "$ (I, like, dogs) $\n",
    "\n",
    "$(like, dogs, and) $\n",
    "\n",
    "$(dogs, and, I)$\n",
    "\n",
    "$(and, I, kinda)$\n",
    "\n",
    "$(I, kinda, like)$\n",
    "\n",
    "$(kinda, like, cats)$\n",
    "\n",
    "Trigram models incorporate conditional probability as well. The probability of a word depends on the two preceding words. The conditional probability $P(W_t | W_{t-2}, W_{t-1})$ is utilized to predict the likelihood of word $W_t$ following the two previous words in a sequence. The context is $W_{t-2}, W_{t-1}$ and is of length 2. Let's compute the conditional probability for each trigram:\n",
    "\n",
    "Calculate the trigram frequencies for each trigram: $Count(W_{t-2}, W_{t-1}, W_t)$\n",
    "\n",
    "### Trigram frequency counts\n",
    "\n",
    "$ \\text{Count(I, like, dogs)} = 1 $\n",
    "\n",
    "$ \\text{Count(like, dogs, and)} = 1 $\n",
    "\n",
    "$\\text{Count(dogs, and, I)} = 1$\n",
    "\n",
    "$ \\text{Count(and, I, kinda)} = 1$\n",
    "\n",
    "$ \\text{Count(I, kinda, like)} = 1 $\n",
    "\n",
    "$ \\text{Count(kinda, like, cats)} = 1 $\n",
    "\n",
    "The conditional probability $ P(w_{t} | w_{t-1}, w_{t-2})$ where $w_{t-1}$ and $w_{t-2}$ form the context, and the context size is 2.\n",
    "\n",
    "To better understand how this outperforms the bigram model, let's compute the conditional probabilities with the context \"I like\":\n",
    "\n",
    "$\\hat{W_2}=\\arg\\max{W_2} \\left( P(W_2 | W_{1}=like,W_{0}=I)\\right)$\n",
    "\n",
    "and for the words \"cats\" and \"dogs\":\n",
    "\n",
    "$ P(\"dogs\" | \"like\", \"I\") = \\frac{Count(I, like, dogs)}{Total \\ count \\ of \\ \"I\", \"like\"} = \\frac{1}{1} = 1 $\n",
    "\n",
    "$ P(\"cats\" | \"like\", \"I\") = \\frac{Count(I, like, cats)}{Total \\ count \\ of \\ \"I\", \"like\"} = 0$\n",
    "\n",
    "These probabilities signify the likelihood of encountering the third word in a trigram. Notably, the result $\\hat{W}_2$ is \"dogs,\" which seems to align better with the sequence.\n",
    "\n",
    "The trigrams function is provided by the Natural Language Toolkit (NLTK) library in Python. This function takes a sequence of tokens as input, returns an iterator over consecutive token triplets, generating trigrams, and converts them into a frequency distribution.\n"
   ]
  },
  {
   "cell_type": "code",
   "execution_count": 28,
   "metadata": {
    "tags": []
   },
   "outputs": [
    {
     "data": {
      "text/plain": [
       "FreqDist({('never', 'gon', 'na'): 36, ('you', 'never', 'gon'): 9, ('gon', 'na', 'give'): 6, ('na', 'give', 'you'): 6, ('give', 'you', 'up'): 6, ('you', 'up', 'never'): 6, ('up', 'never', 'gon'): 6, ('gon', 'na', 'let'): 6, ('na', 'let', 'you'): 6, ('let', 'you', 'down'): 6, ...})"
      ]
     },
     "execution_count": 28,
     "metadata": {},
     "output_type": "execute_result"
    }
   ],
   "source": [
    "freq_trigrams  = nltk.FreqDist(nltk.trigrams(tokens))\n",
    "freq_trigrams"
   ]
  },
  {
   "cell_type": "markdown",
   "metadata": {},
   "source": [
    "Find the probability for each of the next words.\n"
   ]
  },
  {
   "cell_type": "code",
   "execution_count": 29,
   "metadata": {
    "tags": []
   },
   "outputs": [
    {
     "data": {
      "text/plain": [
       "[('i', 1.0),\n",
       " ('we', 0.0),\n",
       " ('how', 0.0),\n",
       " ('for', 0.0),\n",
       " ('ta', 0.0),\n",
       " ('both', 0.0),\n",
       " ('so', 0.0),\n",
       " ('hurt', 0.0),\n",
       " ('any', 0.0),\n",
       " ('you', 0.0)]"
      ]
     },
     "execution_count": 29,
     "metadata": {},
     "output_type": "execute_result"
    }
   ],
   "source": [
    "make_predictions(\"so do\",freq_trigrams,normlize=freq_bigrams[('do','i')] )[0:10]"
   ]
  },
  {
   "cell_type": "markdown",
   "metadata": {},
   "source": [
    "Find the probability for each of the next words.\n"
   ]
  },
  {
   "cell_type": "code",
   "execution_count": 30,
   "metadata": {
    "tags": []
   },
   "outputs": [],
   "source": [
    "my_song=\"\"\n",
    "\n",
    "w1=tokens[0]\n",
    "for w2 in tokens[0:100]:\n",
    "    gram=w1+' '+w2\n",
    "    my_word=make_predictions(gram,freq_trigrams )[0][0]\n",
    "    my_song+=\" \"+my_word\n",
    "    w1=w2"
   ]
  },
  {
   "cell_type": "code",
   "execution_count": 31,
   "metadata": {
    "tags": []
   },
   "outputs": [
    {
     "data": {
      "text/plain": [
       "' we no strangers to love you know the game and so do i a full commitments what im thinking of you wouldnt get this from any other guy i just wan na tell a how im feeling got ta make you cry never gon na make you up never gon na make you down never gon na make around and desert you never gon na make you cry never gon na make goodbye never gon na make a lie and hurt you never known each other for so long your hearts been aching but youre too shy to say it'"
      ]
     },
     "execution_count": 31,
     "metadata": {},
     "output_type": "execute_result"
    }
   ],
   "source": [
    "my_song"
   ]
  },
  {
   "cell_type": "markdown",
   "metadata": {},
   "source": [
    "There are various challenges associated with Histogram-Based Methods, some of which are quite straightforward. For instance, when considering the case of having N words in your vocabulary, a Unigram model would entail $N$ bins, while a Bigram model would result in $N^2$ bins and so forth.\n",
    "\n",
    "N-gram models also encounter limitations in terms of contextual understanding and their ability to capture intricate word relationships. For instance, let's consider the phrases `I hate dogs`, `I don’t like dogs`, and **don’t like** means **dislike**. Within this context, a histogram-based approach would fail to grasp the significance of the phrase **don’t like** means **dislike**, thereby missing out on the essential semantic relationship it encapsulates.\n"
   ]
  },
  {
   "cell_type": "markdown",
   "metadata": {},
   "source": [
    "## Feedforward Neural Networks (FNNs) for language models\n",
    "\n",
    "FNNs, or Multi-Layer Perceptrons, serve as the foundational components for comprehending neural networks in natural language processing (NLP). In NLP tasks, FNNs process textual data by transforming it into numerical vectors known as embeddings. Subsequently, these embeddings are input to the network to predict language facets, such as the upcoming word in a sentence or the sentiment of a text.\n"
   ]
  },
  {
   "cell_type": "code",
   "execution_count": 32,
   "metadata": {
    "tags": []
   },
   "outputs": [],
   "source": [
    "from torchtext.data.utils import get_tokenizer\n",
    "from torchtext.vocab import build_vocab_from_iterator"
   ]
  },
  {
   "cell_type": "markdown",
   "metadata": {},
   "source": [
    " ### Tokenization for FNN\n"
   ]
  },
  {
   "cell_type": "markdown",
   "metadata": {},
   "source": [
    " This PyTorch function is used to obtain a tokenizer for text.\n"
   ]
  },
  {
   "cell_type": "code",
   "execution_count": 33,
   "metadata": {
    "tags": []
   },
   "outputs": [
    {
     "data": {
      "text/plain": [
       "['we', 'are', 'no', 'strangers', 'to', 'love', 'you', 'know', 'the', 'rules']"
      ]
     },
     "execution_count": 33,
     "metadata": {},
     "output_type": "execute_result"
    }
   ],
   "source": [
    "tokenizer = get_tokenizer(tokenizer=\"basic_english\")\n",
    "tokens = tokenizer(song)\n",
    "tokens[:10]"
   ]
  },
  {
   "cell_type": "markdown",
   "metadata": {},
   "source": [
    "### Indexing\n",
    "\n",
    "TorchText provides tools to tokenize text into individual words (tokens) and build a vocabulary, which maps tokens to unique integer indexes. This is a crucial step in preparing text data for  machine learning models that require numerical input.\n"
   ]
  },
  {
   "cell_type": "code",
   "execution_count": 34,
   "metadata": {
    "tags": []
   },
   "outputs": [],
   "source": [
    "# Create a vocabulary from text tokens\n",
    "\n",
    "# tokenize the 'song' text using the provided tokenizer.\n",
    "# The map function applies the tokenizer to each word in the 'song' after splitting it.\n",
    "# The result is a list of tokens representing the words in the 'song'.\n",
    "tokenized_song = map(tokenizer, song.split())\n",
    "\n",
    "# Step 2: Vocabulary Building\n",
    "# The build_vocab_from_iterator function constructs a vocabulary from the tokenized text.\n",
    "# In this case, add a special token \"<unk>\" (unknown token) to handle out-of-vocabulary words.\n",
    "vocab = build_vocab_from_iterator(iterator=tokenized_song, specials=[\"<unk>\"])\n",
    "\n",
    "# Step 3: Set Default Index\n",
    "# Set the default index for the vocabulary to the index corresponding to the \"<unk>\" token.\n",
    "# This ensures that any unknown tokens in the future will be mapped to this index.\n",
    "vocab.set_default_index(vocab[\"<unk>\"])"
   ]
  },
  {
   "cell_type": "markdown",
   "metadata": {},
   "source": [
    "Convert the tokens to indices by applying the function as shown here:\n"
   ]
  },
  {
   "cell_type": "code",
   "execution_count": 35,
   "metadata": {
    "tags": []
   },
   "outputs": [
    {
     "data": {
      "text/plain": [
       "[21, 58, 70, 74, 25, 69, 2, 20, 31, 72]"
      ]
     },
     "execution_count": 35,
     "metadata": {},
     "output_type": "execute_result"
    }
   ],
   "source": [
    "vocab(tokens[0:10])"
   ]
  },
  {
   "cell_type": "markdown",
   "metadata": {},
   "source": [
    "Write a text function that converts raw text into indexes.\n"
   ]
  },
  {
   "cell_type": "code",
   "execution_count": 36,
   "metadata": {
    "tags": []
   },
   "outputs": [
    {
     "data": {
      "text/plain": [
       "[21, 58, 70, 74, 25, 69, 2, 20, 31, 72]"
      ]
     },
     "execution_count": 36,
     "metadata": {},
     "output_type": "execute_result"
    }
   ],
   "source": [
    "text_pipeline = lambda x: vocab(tokenizer(x))\n",
    "text_pipeline(song)[0:10]"
   ]
  },
  {
   "cell_type": "markdown",
   "metadata": {},
   "source": [
    "Find the word corresponding to an index using the```get_itos()```method. The result is a list where the index of the list corresponds to a word.\n"
   ]
  },
  {
   "cell_type": "code",
   "execution_count": 37,
   "metadata": {
    "tags": []
   },
   "outputs": [
    {
     "data": {
      "text/plain": [
       "['<unk>', 'gonna', 'you', 'never', 'and', 'tell', 'make', 'say', 'a', 'around']"
      ]
     },
     "execution_count": 37,
     "metadata": {},
     "output_type": "execute_result"
    }
   ],
   "source": [
    "index_to_token = vocab.get_itos()\n",
    "index_to_token[0:10]"
   ]
  },
  {
   "cell_type": "markdown",
   "metadata": {},
   "source": [
    "## Embedding layers\n",
    "\n",
    "An embedding layer is a crucial element in natural language processing (NLP) and neural networks designed for sequential data. It serves to convert categorical variables, like words or discrete indexes representing tokens, into continuous vectors. This transformation facilitates training and enables the network to learn meaningful relationships among words.\n",
    "\n",
    "Let's consider a simple example involving a vocabulary of words \n",
    "- **Vocabulary**: {apple, banana, orange, pear}\n",
    "\n",
    "Each word in your vocabulary has a unique index assigned to it: \n",
    "- **Indices**: {0, 1, 2, 3}\n",
    "\n",
    "When using an embedding layer, you will initialize random continuous vectors for each index. For instance, the embedding vectors might look like:\n",
    "\n",
    "- Vector for index 0 (apple): [0.2, 0.8]\n",
    "- Vector for index 1 (banana): [0.6, -0.5]\n",
    "- Vector for index 2 (orange): [-0.3, 0.7]\n",
    "- Vector for index 3 (pear): [0.1, 0.4]\n",
    "In PyTorch, you can create an embedding layer.\n"
   ]
  },
  {
   "cell_type": "code",
   "execution_count": 38,
   "metadata": {
    "tags": []
   },
   "outputs": [],
   "source": [
    "embedding_dim = 20\n",
    "vocab_size = len(vocab)\n",
    "embeddings = nn.Embedding(num_embeddings=vocab_size, embedding_dim=embedding_dim)"
   ]
  },
  {
   "cell_type": "markdown",
   "metadata": {},
   "source": [
    "**Embeddings**: Obtain the embedding for the first word with index 0 or 1. Don't forget that you have to convert the input into a tensor. The embeddings are initially initialized randomly, but as the model undergoes training, words with similar meanings gradually come to cluster closer together\n"
   ]
  },
  {
   "cell_type": "code",
   "execution_count": 39,
   "metadata": {
    "tags": []
   },
   "outputs": [
    {
     "name": "stdout",
     "output_type": "stream",
     "text": [
      "word <unk>\n",
      "index 0\n",
      "embedding tensor([-1.1324, -2.1568,  2.1271,  0.9222, -0.0475, -0.3898,  1.2867, -0.4932,\n",
      "        -0.2241,  0.3193,  2.0257,  0.1278,  0.8476,  0.8350, -0.8070, -0.9424,\n",
      "         1.1352,  1.2618,  0.5952, -0.1269], grad_fn=<EmbeddingBackward0>)\n",
      "embedding shape torch.Size([20])\n",
      "word gonna\n",
      "index 1\n",
      "embedding tensor([-0.5435,  0.0602, -0.4524, -0.5496,  2.0064,  1.6008, -1.3044, -0.3341,\n",
      "         0.1028, -0.0969,  0.1426, -0.7173,  0.4861,  0.1639,  0.3880,  0.2027,\n",
      "        -0.2265, -0.1676, -2.4439, -0.9922], grad_fn=<EmbeddingBackward0>)\n",
      "embedding shape torch.Size([20])\n"
     ]
    }
   ],
   "source": [
    "for n in range(2): \n",
    "    embedding = embeddings(torch.tensor(n))\n",
    "    print(\"word\",index_to_token[n])\n",
    "    print(\"index\",n)\n",
    "    print( \"embedding\", embedding)\n",
    "    print(\"embedding shape\", embedding.shape)"
   ]
  },
  {
   "cell_type": "markdown",
   "metadata": {},
   "source": [
    "These vectors will serve as inputs for the next layer.\n"
   ]
  },
  {
   "cell_type": "markdown",
   "metadata": {},
   "source": [
    "### Generating context-target pairs (n-grams)\n",
    "\n",
    "Organize words within a variable-size context using the following approach: Each word is denoted by 'i'. \n",
    "To establish the context, simply subtract 'j'. The size of the context is determined by the value of``CONTEXT_SIZE``.\n"
   ]
  },
  {
   "cell_type": "code",
   "execution_count": 40,
   "metadata": {
    "tags": []
   },
   "outputs": [],
   "source": [
    "CONTEXT_SIZE=2\n",
    "\n",
    "ngrams = [\n",
    "    (\n",
    "        [tokens[i - j - 1] for j in range(CONTEXT_SIZE)],\n",
    "        tokens[i]\n",
    "    )\n",
    "    for i in range(CONTEXT_SIZE, len(tokens))\n",
    "]"
   ]
  },
  {
   "cell_type": "code",
   "execution_count": 41,
   "metadata": {
    "tags": []
   },
   "outputs": [
    {
     "name": "stdout",
     "output_type": "stream",
     "text": [
      "341\n"
     ]
    },
    {
     "data": {
      "text/plain": [
       "[(['are', 'we'], 'no'),\n",
       " (['no', 'are'], 'strangers'),\n",
       " (['strangers', 'no'], 'to'),\n",
       " (['to', 'strangers'], 'love'),\n",
       " (['love', 'to'], 'you'),\n",
       " (['you', 'love'], 'know'),\n",
       " (['know', 'you'], 'the'),\n",
       " (['the', 'know'], 'rules'),\n",
       " (['rules', 'the'], 'and'),\n",
       " (['and', 'rules'], 'so')]"
      ]
     },
     "execution_count": 41,
     "metadata": {},
     "output_type": "execute_result"
    }
   ],
   "source": [
    "print(len(ngrams))\n",
    "ngrams[:10]"
   ]
  },
  {
   "cell_type": "markdown",
   "metadata": {},
   "source": [
    "Output the first element, which results in a tuple. The initial element represents the context, and the index indicates the following word.\n"
   ]
  },
  {
   "cell_type": "code",
   "execution_count": 43,
   "metadata": {
    "tags": []
   },
   "outputs": [
    {
     "name": "stdout",
     "output_type": "stream",
     "text": [
      "context= ['are', 'we'] target= no\n",
      "context index [58, 21] target index [70]\n"
     ]
    }
   ],
   "source": [
    "context, target = ngrams[0]\n",
    "print(\"context=\",context, \"target=\",target)\n",
    "print(\"context index\",vocab(context),\"target index\",vocab([target]))"
   ]
  },
  {
   "cell_type": "markdown",
   "metadata": {},
   "source": [
    "In this context, there are multiple words. Aggregate the embeddings of each of these words and then adjust the input size of the subsequent layer accordingly. Then, create the next layer.\n"
   ]
  },
  {
   "cell_type": "code",
   "execution_count": 45,
   "metadata": {
    "tags": []
   },
   "outputs": [],
   "source": [
    "linear = nn.Linear(in_features=embedding_dim*CONTEXT_SIZE, out_features=128)"
   ]
  },
  {
   "cell_type": "markdown",
   "metadata": {},
   "source": [
    "You have the two embeddings.\n"
   ]
  },
  {
   "cell_type": "code",
   "execution_count": 46,
   "metadata": {
    "tags": []
   },
   "outputs": [
    {
     "data": {
      "text/plain": [
       "torch.Size([2, 20])"
      ]
     },
     "execution_count": 46,
     "metadata": {},
     "output_type": "execute_result"
    }
   ],
   "source": [
    "my_embeddings=embeddings(torch.tensor(vocab(context)))\n",
    "my_embeddings.shape"
   ]
  },
  {
   "cell_type": "markdown",
   "metadata": {},
   "source": [
    "Reshape the embeddings.\n"
   ]
  },
  {
   "cell_type": "code",
   "execution_count": 47,
   "metadata": {
    "tags": []
   },
   "outputs": [
    {
     "data": {
      "text/plain": [
       "torch.Size([1, 40])"
      ]
     },
     "execution_count": 47,
     "metadata": {},
     "output_type": "execute_result"
    }
   ],
   "source": [
    "my_embeddings=my_embeddings.reshape(1,-1)\n",
    "my_embeddings.shape"
   ]
  },
  {
   "cell_type": "markdown",
   "metadata": {},
   "source": [
    "They can now be used as inputs in the next layer.\n"
   ]
  },
  {
   "cell_type": "code",
   "execution_count": 48,
   "metadata": {
    "tags": []
   },
   "outputs": [
    {
     "data": {
      "text/plain": [
       "tensor([[-0.9529, -0.8297,  0.8883, -0.8861, -0.2397,  0.4964,  0.2251,  0.5843,\n",
       "         -0.0149, -0.2478,  0.6483, -0.0388,  0.0314,  0.1175, -0.7217, -0.2455,\n",
       "         -0.0736, -1.2223, -0.0953, -0.3595, -0.6755, -0.4140,  0.5114,  0.1235,\n",
       "         -0.2317, -0.1751, -1.3106,  0.8909, -0.7470, -0.0615,  0.1339, -0.3331,\n",
       "          0.5681, -0.2854, -0.6711, -0.0559,  0.2008, -0.4283, -0.2919, -1.1321,\n",
       "         -0.5494,  0.2605,  0.6689,  0.3449, -0.5427, -0.7891,  1.1189, -1.1734,\n",
       "         -0.1308,  0.3514, -1.1737, -1.3009,  0.2469, -0.5893, -0.1503,  0.6858,\n",
       "          0.4126, -0.5883,  0.8534, -0.0528, -0.3239, -1.5950, -0.1013,  0.2697,\n",
       "         -0.6297, -0.8582, -1.1702, -1.9147, -0.0133,  0.8883, -0.2366, -1.0486,\n",
       "         -0.2771,  1.1288,  0.1439, -0.8206, -0.2904,  0.0914,  1.1694,  0.4809,\n",
       "          0.4066, -0.2581, -0.1339,  0.1800,  0.3694,  0.0378,  0.1255, -0.1268,\n",
       "         -0.6786,  0.7756, -0.4103,  0.4571, -1.3669, -0.1614, -1.3183, -0.2141,\n",
       "          0.8601, -1.1591, -0.3989, -0.3366,  0.2190,  0.3628,  0.2048,  1.0353,\n",
       "          0.0277, -0.7169, -0.3975,  0.1127,  0.2948,  0.2451, -0.0598, -0.5728,\n",
       "          0.2783, -0.1808, -0.3487,  1.0474,  0.0273,  0.0735, -0.4810,  0.7488,\n",
       "         -0.3947, -0.4156, -0.9800,  0.5288,  0.2750, -0.7686,  0.3932,  0.5262]],\n",
       "       grad_fn=<AddmmBackward0>)"
      ]
     },
     "execution_count": 48,
     "metadata": {},
     "output_type": "execute_result"
    }
   ],
   "source": [
    "linear(my_embeddings)"
   ]
  },
  {
   "cell_type": "markdown",
   "metadata": {},
   "source": [
    "## Batch function\n",
    "\n",
    "Create a Batch function to interface with the data loader. Several adjustments are necessary to handle words that are part of a context in one batch and a predicted word in the following batch.\n"
   ]
  },
  {
   "cell_type": "code",
   "execution_count": 106,
   "metadata": {
    "tags": []
   },
   "outputs": [],
   "source": [
    "from torch.utils.data import DataLoader\n",
    "\n",
    "device = torch.device(\"cuda\" if torch.cuda.is_available() else \"cpu\")\n",
    "CONTEXT_SIZE=3\n",
    "BATCH_SIZE=10\n",
    "EMBEDDING_DIM = 10\n",
    "\n",
    "\n",
    "def collate_batch(batch):\n",
    "    batch_size = len(batch)\n",
    "    context, target = [], []\n",
    "    for i in range(CONTEXT_SIZE, batch_size):\n",
    "        target.append(vocab([batch[i]]))\n",
    "        context.append(vocab([batch[i-j-1] for j in range(CONTEXT_SIZE)]))\n",
    "\n",
    "    return torch.tensor(context).to(device),  torch.tensor(target).to(device).reshape(-1)"
   ]
  },
  {
   "cell_type": "markdown",
   "metadata": {},
   "source": [
    "Similarly, it's important to highlight that the size of the last batch could deviate from that of the earlier batches. To tackle this, the approach involves adjusting the final batch to conform to the specified batch size, ensuring it becomes a multiple of the predetermined size. When necessary, you'll employ padding techniques to achieve this harmonization. One approach you'll use is appending the beginning of the song to the end of the batch.\n"
   ]
  },
  {
   "cell_type": "code",
   "execution_count": 107,
   "metadata": {
    "tags": []
   },
   "outputs": [],
   "source": [
    "Padding = BATCH_SIZE-len(tokens)%BATCH_SIZE\n",
    "tokens_pad = tokens+tokens[0:Padding]"
   ]
  },
  {
   "cell_type": "markdown",
   "metadata": {},
   "source": [
    "Create the`DataLoader`.\n"
   ]
  },
  {
   "cell_type": "code",
   "execution_count": 108,
   "metadata": {
    "tags": []
   },
   "outputs": [],
   "source": [
    "dataloader = DataLoader(\n",
    "     tokens_pad, batch_size=BATCH_SIZE, shuffle=False, collate_fn=collate_batch\n",
    ")"
   ]
  },
  {
   "cell_type": "markdown",
   "metadata": {},
   "source": [
    "Batch size is 10 but output shape is 7,3 instead of 10,3. This is because in `collate_fn`, we are using for loop from `CONTEXT_SIZE to BATCH_SIZE` and CONTEXT_SIZE=3"
   ]
  },
  {
   "cell_type": "code",
   "execution_count": 109,
   "metadata": {
    "tags": []
   },
   "outputs": [
    {
     "data": {
      "text/plain": [
       "(torch.Size([7, 3]), torch.Size([7]))"
      ]
     },
     "execution_count": 109,
     "metadata": {},
     "output_type": "execute_result"
    }
   ],
   "source": [
    "context, target = next(iter(dataloader))\n",
    "context.shape, target.shape"
   ]
  },
  {
   "cell_type": "markdown",
   "metadata": {},
   "source": [
    "## Multi-class neural network\n",
    "\n",
    "You have developed a PyTorch class for a multi-class neural network. The network's output is the probability of the next word within a given context. Therefore, the number of classes corresponds to the count of distinct words. The initial layer consists of embeddings, and in addition to the final layer, an extra hidden layer is incorporated.\n"
   ]
  },
  {
   "cell_type": "markdown",
   "metadata": {},
   "source": [
    "`nn.Embedding` layer initializes a lookup table of size `(num_embeddings, embedding_dim)`\n",
    "\n",
    "`num_embeddings` defines how many unique embeddings the layer will maintain, corresponding to the tokens in the vocabulary."
   ]
  },
  {
   "cell_type": "code",
   "execution_count": 110,
   "metadata": {
    "tags": []
   },
   "outputs": [],
   "source": [
    "class NGramLanguageModeler(nn.Module):\n",
    "    def __init__(self, vocab_size, embedding_dim, context_size):\n",
    "        super(NGramLanguageModeler, self).__init__()\n",
    "        self.context_size = context_size\n",
    "        self.embedding_dim = embedding_dim\n",
    "        self.embeddings = nn.Embedding(num_embeddings=vocab_size, embedding_dim=embedding_dim)\n",
    "        self.linear1 = nn.Linear(in_features=context_size * embedding_dim, out_features=128)\n",
    "        self.linear2 = nn.Linear(in_features=128, out_features=vocab_size)\n",
    "\n",
    "    def forward(self, inputs):\n",
    "        # print(f\"Inputs Shape = {inputs.shape}\")\n",
    "        # torch.Size([7, 3]) torch.Size([7])\n",
    "        embeds = self.embeddings(inputs)\n",
    "        # print(f\"After embedding layer = {embeds.shape}\")\n",
    "        # After embedding layer = torch.Size([7, 3, 10])\n",
    "        embeds = torch.reshape(input=embeds, shape=(-1, self.context_size * self.embedding_dim))\n",
    "        # print(f\"After reshaping = {embeds.shape}\")\n",
    "        # After reshaping = torch.Size([7, 30])\n",
    "        out = F.relu(self.linear1(embeds))\n",
    "        # print(f\"After 1st linear layer = {out.shape}\")\n",
    "        # After 1st linear layer = torch.Size([7, 128])\n",
    "        out = self.linear2(out)\n",
    "        # print(f\"After 1st linear layer = {out.shape}\")\n",
    "        # After 1st linear layer = torch.Size([7, 79])\n",
    "\n",
    "        return out"
   ]
  },
  {
   "cell_type": "markdown",
   "metadata": {},
   "source": [
    "Create a model.\n"
   ]
  },
  {
   "cell_type": "code",
   "execution_count": 111,
   "metadata": {
    "tags": []
   },
   "outputs": [],
   "source": [
    "model = NGramLanguageModeler(vocab_size=len(vocab), embedding_dim=EMBEDDING_DIM, context_size=CONTEXT_SIZE).to(device)"
   ]
  },
  {
   "cell_type": "markdown",
   "metadata": {},
   "source": [
    "Retrieve samples from the data loader object and input them into the neural network.\n"
   ]
  },
  {
   "cell_type": "code",
   "execution_count": 112,
   "metadata": {
    "tags": []
   },
   "outputs": [
    {
     "name": "stdout",
     "output_type": "stream",
     "text": [
      "torch.Size([7, 3]) torch.Size([7])\n"
     ]
    }
   ],
   "source": [
    "context, target = next(iter(dataloader))\n",
    "print(context.shape, target.shape)\n",
    "out = model(context)"
   ]
  },
  {
   "cell_type": "markdown",
   "metadata": {},
   "source": [
    "While the model remains untrained, analyzing the output can provide us with a clearer understanding. In the output, the first dimension corresponds to the batch size, while the second dimension represents the probability associated with each class.\n"
   ]
  },
  {
   "cell_type": "code",
   "execution_count": 113,
   "metadata": {
    "tags": []
   },
   "outputs": [
    {
     "data": {
      "text/plain": [
       "torch.Size([7, 79])"
      ]
     },
     "execution_count": 113,
     "metadata": {},
     "output_type": "execute_result"
    }
   ],
   "source": [
    "out.shape"
   ]
  },
  {
   "cell_type": "markdown",
   "metadata": {},
   "source": [
    "Find the index with the highest probability.\n"
   ]
  },
  {
   "cell_type": "code",
   "execution_count": 114,
   "metadata": {
    "tags": []
   },
   "outputs": [
    {
     "data": {
      "text/plain": [
       "tensor([23, 52, 54, 70, 23, 44, 44])"
      ]
     },
     "execution_count": 114,
     "metadata": {},
     "output_type": "execute_result"
    }
   ],
   "source": [
    "predicted_index = torch.argmax(input=out, dim=1)\n",
    "predicted_index"
   ]
  },
  {
   "cell_type": "markdown",
   "metadata": {},
   "source": [
    "Find the corresponding token.\n"
   ]
  },
  {
   "cell_type": "code",
   "execution_count": 115,
   "metadata": {
    "tags": []
   },
   "outputs": [
    {
     "data": {
      "text/plain": [
       "['im', 'wanna', 'weve', 'no', 'im', 'just', 'just']"
      ]
     },
     "execution_count": 115,
     "metadata": {},
     "output_type": "execute_result"
    }
   ],
   "source": [
    "[index_to_token[i.item()] for i in  predicted_index]"
   ]
  },
  {
   "cell_type": "markdown",
   "metadata": {},
   "source": [
    "Create a function that accomplishes the same task for the tokens.\n"
   ]
  },
  {
   "cell_type": "code",
   "execution_count": 116,
   "metadata": {
    "tags": []
   },
   "outputs": [],
   "source": [
    "def write_song(model,number_of_words=100):\n",
    "    my_song=\"\"\n",
    "    for i in range(number_of_words):\n",
    "        with torch.no_grad():\n",
    "            context=torch.tensor(vocab([tokens[i-j-1] for j in range(CONTEXT_SIZE)])).to(device)\n",
    "            word_inx=torch.argmax(model(context))\n",
    "            my_song+=\" \"+index_to_token[word_inx.detach().item()]\n",
    "\n",
    "    return my_song"
   ]
  },
  {
   "cell_type": "code",
   "execution_count": 117,
   "metadata": {
    "tags": []
   },
   "outputs": [
    {
     "data": {
      "text/plain": [
       "' are inside just im wanna weve no im just just guy going know no just blind other im each any no going whats wanna weve gonna just each love a no no shy wanna im are are both each gonna im and each any <unk> a wanna each any any are wanna each any any each im im full each any <unk> im and any any guy are each any guy are are what are are and are lie me a wanna just a weve make just if full im im just hearts both aching going just just each gotta'"
      ]
     },
     "execution_count": 117,
     "metadata": {},
     "output_type": "execute_result"
    }
   ],
   "source": [
    "write_song(model)"
   ]
  },
  {
   "cell_type": "markdown",
   "metadata": {},
   "source": [
    "## Training\n",
    "\n",
    "Training a language model involves a multi-step process that leverages training and testing data to optimize model performance. In the realm of Natural Language Processing (NLP), this process often employs various metrics to gauge a model's accuracy, such as perplexity or accuracy on unseen data. However, in the context of your current exploration, you will embark on a slightly different journey. Instead of relying solely on conventional NLP metrics, the focus shifts to manual inspection of the results. \n",
    "\n",
    "You have the cross entropy loss between input logits and target:\n"
   ]
  },
  {
   "cell_type": "code",
   "execution_count": 118,
   "metadata": {
    "tags": []
   },
   "outputs": [],
   "source": [
    "criterion = torch.nn.CrossEntropyLoss()"
   ]
  },
  {
   "cell_type": "markdown",
   "metadata": {},
   "source": [
    "You have developed a function dedicated to training the model using the supplied data loader. In addition to training the model, the function's output includes predictions for each epoch, spanning context for the next 100 words.\n"
   ]
  },
  {
   "cell_type": "code",
   "execution_count": 119,
   "metadata": {
    "tags": []
   },
   "outputs": [],
   "source": [
    "def train(dataloader, model, number_of_epochs=100, show=10):\n",
    "    \"\"\"\n",
    "    Args:\n",
    "        dataloader (DataLoader): DataLoader containing training data.\n",
    "        model (nn.Module): Neural network model to be trained.\n",
    "        number_of_epochs (int, optional): Number of epochs for training. Default is 100.\n",
    "        show (int, optional): Interval for displaying progress. Default is 10.\n",
    "\n",
    "    Returns:\n",
    "        list: List containing loss values for each epoch.\n",
    "    \"\"\"\n",
    "\n",
    "    MY_LOSS = []  # List to store loss values for each epoch\n",
    "\n",
    "    # Iterate over the specified number of epochs\n",
    "    for epoch in tqdm(range(number_of_epochs)):\n",
    "        total_loss = 0  # Initialize total loss for the current epoch\n",
    "        my_song = \"\"    # Initialize a string to store the generated song\n",
    "\n",
    "        # Iterate over batches in the dataloader\n",
    "        for context, target in dataloader:\n",
    "            model.zero_grad()          # Zero the gradients to avoid accumulation\n",
    "            predicted = model(context)  # Forward pass through the model to get predictions\n",
    "            loss = criterion(predicted, target.reshape(-1))  # Calculate the loss\n",
    "            total_loss += loss.item()   # Accumulate the loss\n",
    "\n",
    "            loss.backward()    # Backpropagation to compute gradients\n",
    "            optimizer.step()   # Update model parameters using the optimizer\n",
    "\n",
    "        # Display progress and generate song at specified intervals\n",
    "        if epoch % show == 0:\n",
    "            my_song += write_song(model)  # Generate song using the model\n",
    "\n",
    "            print(\"Generated Song:\")\n",
    "            print(\"\\n\")\n",
    "            print(my_song)\n",
    "\n",
    "        MY_LOSS.append(total_loss/len(dataloader))  # Append the total loss for the epoch to MY_LOSS list\n",
    "\n",
    "    return MY_LOSS  # Return the list of  mean loss values for each epoch"
   ]
  },
  {
   "cell_type": "markdown",
   "metadata": {},
   "source": [
    "The following list will be used to store the loss for each model.\n"
   ]
  },
  {
   "cell_type": "code",
   "execution_count": 120,
   "metadata": {
    "tags": []
   },
   "outputs": [],
   "source": [
    "my_loss_list=[]"
   ]
  },
  {
   "cell_type": "markdown",
   "metadata": {},
   "source": [
    "This code segment initializes an n-gram language model with a context size of 2. The model, named `model_2`, is configured based on the provided vocabulary size, embedding dimension, and context size. The Stochastic Gradient Descent (SGD) optimizer is employed with a learning rate of 0.01 to manage model parameter updates. A learning rate scheduler, using a step-wise approach with a reduction factor of 0.1 per epoch, is set up to adapt the learning rate during the training process. These settings collectively establish the framework for training the n-gram language model with tailored optimization and learning rate adjustment.\n"
   ]
  },
  {
   "cell_type": "code",
   "execution_count": 121,
   "metadata": {
    "tags": []
   },
   "outputs": [],
   "source": [
    "# Define the context size for the n-gram model\n",
    "CONTEXT_SIZE = 2\n",
    "\n",
    "# Create an instance of the NGramLanguageModeler class with specified parameters\n",
    "model_2 = NGramLanguageModeler(len(vocab), EMBEDDING_DIM, CONTEXT_SIZE).to(device)\n",
    "\n",
    "# Define the optimizer for training the model, using stochastic gradient descent (SGD)\n",
    "optimizer = optim.SGD(model_2.parameters(), lr=0.01)\n",
    "\n",
    "# Set up a learning rate scheduler using StepLR to adjust the learning rate during training\n",
    "scheduler = torch.optim.lr_scheduler.StepLR(optimizer, step_size=1.0, gamma=0.1)"
   ]
  },
  {
   "cell_type": "markdown",
   "metadata": {},
   "source": [
    "Now, you will train the model.\n"
   ]
  },
  {
   "cell_type": "code",
   "execution_count": 122,
   "metadata": {
    "tags": []
   },
   "outputs": [
    {
     "name": "stderr",
     "output_type": "stream",
     "text": [
      "  2%|▏         | 2/100 [00:00<00:13,  7.14it/s]"
     ]
    },
    {
     "name": "stdout",
     "output_type": "stream",
     "text": [
      "Generated Song:\n",
      "\n",
      "\n",
      " wouldnt we never never never from you never never never wouldnt never you never never you never never too never never feeling never going give never you give you you never you give never never going thinking never you give never thinking gonna see give never never wouldnt see you never never wouldnt see both give never you never going see give never never gonna see run never never see never you going just and wouldnt we from you thinking never wouldnt never from give give get never and give give and see never give never thinking never never give\n"
     ]
    },
    {
     "name": "stderr",
     "output_type": "stream",
     "text": [
      " 12%|█▏        | 12/100 [00:01<00:12,  6.84it/s]"
     ]
    },
    {
     "name": "stdout",
     "output_type": "stream",
     "text": [
      "Generated Song:\n",
      "\n",
      "\n",
      " never gonna gonna never never you you never never never never never you never never you never never you never never never never gonna you you never gonna you you never you gonna never never you you gonna you you never never gonna gonna you never never gonna gonna you never never gonna gonna around and never you never gonna gonna you never never gonna gonna goodbye never gonna gonna you you and gonna you never never you you you gonna gonna never never and gonna you gonna you never gonna gonna never never never gonna you never never gonna\n"
     ]
    },
    {
     "name": "stderr",
     "output_type": "stream",
     "text": [
      " 22%|██▏       | 22/100 [00:03<00:13,  5.84it/s]"
     ]
    },
    {
     "name": "stdout",
     "output_type": "stream",
     "text": [
      "Generated Song:\n",
      "\n",
      "\n",
      " never gonna hurt never never you you never never never never never you never never you and never you never never never never gonna you you never never you you never you gonna never never im you gonna you you cry never gonna tell you never never gonna tell you down never gonna tell around and desert you never gonna tell you cry never gonna tell goodbye never gonna tell you you and hurt you never never you you you gonna gonna never never been gonna you gonna you never gonna gonna goodbye never never gonna tell never never gonna\n"
     ]
    },
    {
     "name": "stderr",
     "output_type": "stream",
     "text": [
      " 32%|███▏      | 32/100 [00:05<00:10,  6.61it/s]"
     ]
    },
    {
     "name": "stdout",
     "output_type": "stream",
     "text": [
      "Generated Song:\n",
      "\n",
      "\n",
      " never gonna say never never you you never never never a desert you desert a you and never im never never im never gonna you tell never never you you never you gonna never never im feeling gonna you you cry never gonna tell you up never gonna tell you down never gonna tell around and desert you never gonna tell you cry never gonna tell goodbye never gonna tell a you and hurt you never never you you you gonna gonna never never been gonna you let too never gonna tell goodbye never we gonna tell never never gonna\n"
     ]
    },
    {
     "name": "stderr",
     "output_type": "stream",
     "text": [
      " 42%|████▏     | 42/100 [00:06<00:08,  6.86it/s]"
     ]
    },
    {
     "name": "stdout",
     "output_type": "stream",
     "text": [
      "Generated Song:\n",
      "\n",
      "\n",
      " never gonna say never to love you never never game a desert you desert a you and been im never never im never gonna you feeling never never never i never you tell never never im feeling gonna make you cry never gonna tell you up never gonna tell you down never gonna tell around and desert you never gonna tell you cry never gonna tell goodbye never gonna tell a lie and hurt you never never you you you gonna gonna never hearts been gonna you youre too never gonna tell goodbye inside we gonna tell never never gonna\n"
     ]
    },
    {
     "name": "stderr",
     "output_type": "stream",
     "text": [
      " 52%|█████▏    | 52/100 [00:08<00:07,  6.63it/s]"
     ]
    },
    {
     "name": "stdout",
     "output_type": "stream",
     "text": [
      "Generated Song:\n",
      "\n",
      "\n",
      " never gonna no strangers to love you never never game a desert you i a lie and been im never never im how known you feeling never never never i never you tell you never im feeling gonna make you cry never gonna tell you up never gonna tell you down never gonna tell around and desert you never gonna tell you cry never gonna tell goodbye never gonna tell a lie and hurt you never known im you feeling gonna desert never hearts been aching but youre too shy gonna tell goodbye inside we both know never been gonna\n"
     ]
    },
    {
     "name": "stderr",
     "output_type": "stream",
     "text": [
      " 62%|██████▏   | 62/100 [00:09<00:05,  6.34it/s]"
     ]
    },
    {
     "name": "stdout",
     "output_type": "stream",
     "text": [
      "Generated Song:\n",
      "\n",
      "\n",
      " never never no strangers to love you never the game a desert you i a lie and been im been never im how known you tell never other never i know you tell you how im feeling gonna make you cry never gonna tell you up never gonna tell you down never gonna tell around and desert you never gonna tell you cry never gonna tell goodbye never gonna tell a lie and hurt you never known im other feeling gonna desert your hearts been aching but youre too shy to tell goodbye inside we both know whats been going\n"
     ]
    },
    {
     "name": "stderr",
     "output_type": "stream",
     "text": [
      " 72%|███████▏  | 72/100 [00:11<00:04,  5.81it/s]"
     ]
    },
    {
     "name": "stdout",
     "output_type": "stream",
     "text": [
      "Generated Song:\n",
      "\n",
      "\n",
      " never never no strangers to love you never the game a desert you i a lie and been im been never im how known you tell never other never i know you tell you how im feeling gotta make you cry never gonna tell you up never gonna tell you down never gonna tell around and desert you never gonna tell you cry never gonna tell goodbye never gonna tell a lie and hurt you never known each other for gonna going your hearts been aching but youre too shy to tell goodbye inside we both know whats been going\n"
     ]
    },
    {
     "name": "stderr",
     "output_type": "stream",
     "text": [
      " 82%|████████▏ | 82/100 [00:13<00:02,  6.09it/s]"
     ]
    },
    {
     "name": "stdout",
     "output_type": "stream",
     "text": [
      "Generated Song:\n",
      "\n",
      "\n",
      " never never no strangers to love you how the game a desert you i a lie and what im been never im wouldnt known you tell never other guy i know you tell you how im feeling gotta make you cry never gonna tell you up never gonna tell you down never gonna tell around and desert you never gonna tell you cry never gonna tell goodbye never gonna tell a lie and hurt you never known each other for so going your hearts been aching but youre too shy to tell goodbye inside we both know whats been going\n"
     ]
    },
    {
     "name": "stderr",
     "output_type": "stream",
     "text": [
      " 92%|█████████▏| 92/100 [00:14<00:01,  6.38it/s]"
     ]
    },
    {
     "name": "stdout",
     "output_type": "stream",
     "text": [
      "Generated Song:\n",
      "\n",
      "\n",
      " never are no strangers to love you how the game a desert you i a lie and what im thinking never im wouldnt known this tell never other guy i know you tell you how im feeling gotta make you cry never gonna tell you up never gonna tell you down never gonna tell around and desert you never gonna tell you cry never gonna tell goodbye never gonna tell a lie and hurt you never known each other for so going your hearts been aching but youre too shy to tell goodbye inside we both know whats been going\n"
     ]
    },
    {
     "name": "stderr",
     "output_type": "stream",
     "text": [
      "100%|██████████| 100/100 [00:15<00:00,  6.26it/s]\n"
     ]
    }
   ],
   "source": [
    "my_loss=train(dataloader,model_2)"
   ]
  },
  {
   "cell_type": "markdown",
   "metadata": {},
   "source": [
    "Save the model.\n"
   ]
  },
  {
   "cell_type": "code",
   "execution_count": 125,
   "metadata": {
    "tags": []
   },
   "outputs": [],
   "source": [
    "save_path = '2gram.pth'\n",
    "torch.save(obj=model_2.state_dict(), f=save_path)\n",
    "my_loss_list.append(my_loss)"
   ]
  },
  {
   "cell_type": "markdown",
   "metadata": {},
   "source": [
    "The code provided below shows word embeddings from the created model, reduces their dimensionality to 2D using t-SNE, and then plots them as a scatter plot. Additionally, it annotates the first 20 points in the visualization with their corresponding words. This is used to visualize how similar words cluster together in a lower-dimensional space, revealing the structure of the word embeddings. Embeddings allow the model to represent words in a continuous vector space, capturing semantic relationships and similarities between words.\n"
   ]
  },
  {
   "cell_type": "code",
   "execution_count": 126,
   "metadata": {
    "tags": []
   },
   "outputs": [
    {
     "data": {
      "image/png": "[encoded data removed]",
      "text/plain": [
       "<Figure size 640x480 with 1 Axes>"
      ]
     },
     "metadata": {},
     "output_type": "display_data"
    }
   ],
   "source": [
    "X = model_2.embeddings.weight.cpu().detach().numpy()\n",
    "tsne = TSNE(n_components=2, random_state=42)\n",
    "X_2d = tsne.fit_transform(X)\n",
    "\n",
    "labels = []\n",
    "\n",
    "for j in range(len(X_2d)):\n",
    "    if j < 20:\n",
    "        plt.scatter(X_2d[j, 0], X_2d[j, 1], label=index_to_token[j])\n",
    "        labels.append(index_to_token[j])\n",
    "        # Add words as annotations\n",
    "        plt.annotate(index_to_token[j],\n",
    "                     (X_2d[j, 0], X_2d[j, 1]),\n",
    "                     textcoords=\"offset points\",\n",
    "                     xytext=(0, 10),\n",
    "                     ha='center')\n",
    "    else:\n",
    "        plt.scatter(X_2d[j, 0], X_2d[j, 1])\n",
    "\n",
    "plt.legend(labels, loc='upper left', bbox_to_anchor=(1, 1))\n",
    "plt.show()"
   ]
  },
  {
   "cell_type": "markdown",
   "metadata": {},
   "source": [
    "Repeat the process for a context of four.\n"
   ]
  },
  {
   "cell_type": "code",
   "execution_count": 127,
   "metadata": {
    "tags": []
   },
   "outputs": [
    {
     "name": "stderr",
     "output_type": "stream",
     "text": [
      "  2%|▏         | 2/100 [00:00<00:15,  6.43it/s]"
     ]
    },
    {
     "name": "stdout",
     "output_type": "stream",
     "text": [
      "Generated Song:\n",
      "\n",
      "\n",
      " you around from tell we down been your but say you for for you you full and you tell say rules for you you from you wanna for you say you whats you see you full gonna you no you you let tell say you never a say for you down down gonna for you and blind you for both down you never a say for you never gonna tell youre wanna gonna full for you never from you say you and let commitments down let no blind full you for from rules never no for say never say and\n"
     ]
    },
    {
     "name": "stderr",
     "output_type": "stream",
     "text": [
      " 12%|█▏        | 12/100 [00:01<00:13,  6.64it/s]"
     ]
    },
    {
     "name": "stdout",
     "output_type": "stream",
     "text": [
      "Generated Song:\n",
      "\n",
      "\n",
      " never never gonna you never gonna you never never gonna you gonna you gonna you never gonna you never gonna you never never gonna gonna you you you never gonna you never never gonna never gonna gonna you gonna you you never gonna gonna you never never gonna never you down never gonna tell you and never you never gonna make you never never gonna say you never gonna tell you never gonna gonna you never gonna gonna you you gonna gonna you gonna gonna you you you gonna you never gonna you never gonna you gonna never gonna and\n"
     ]
    },
    {
     "name": "stderr",
     "output_type": "stream",
     "text": [
      " 22%|██▏       | 22/100 [00:03<00:11,  6.70it/s]"
     ]
    },
    {
     "name": "stdout",
     "output_type": "stream",
     "text": [
      "Generated Song:\n",
      "\n",
      "\n",
      " never never gonna tell to love you never never gonna you gonna you gonna you never and and never gonna you never never gonna gonna you you you never gonna make never never gonna never gonna gonna you make you you never gonna say you up never gonna let you down never gonna tell around and desert you never gonna make you down never gonna say goodbye never gonna tell a lie and hurt you never gonna and you you gonna gonna you gonna gonna you you you gonna you never gonna you never gonna you gonna whats been and\n"
     ]
    },
    {
     "name": "stderr",
     "output_type": "stream",
     "text": [
      " 32%|███▏      | 32/100 [00:04<00:10,  6.60it/s]"
     ]
    },
    {
     "name": "stdout",
     "output_type": "stream",
     "text": [
      "Generated Song:\n",
      "\n",
      "\n",
      " never im gonna other to love you never never and you gonna you gonna you never and and never gonna you never never gonna and you lie you never i lie never never gonna how im feeling gotta make you you never gonna say you up never gonna let you down never gonna let around and desert you never gonna make you cry never gonna say goodbye never gonna tell a lie and hurt you never known each other you gonna desert you gonna gonna aching you youre never you to and you never make both know whats been going\n"
     ]
    },
    {
     "name": "stderr",
     "output_type": "stream",
     "text": [
      " 42%|████▏     | 42/100 [00:06<00:09,  6.33it/s]"
     ]
    },
    {
     "name": "stdout",
     "output_type": "stream",
     "text": [
      "Generated Song:\n",
      "\n",
      "\n",
      " never im gonna other to love you know never and you were you gonna a never and a im gonna you never never im and you lie other never i hurt never never make how im feeling gotta make you you never gonna say you up never gonna let you down never gonna run around and desert you never gonna make you cry never gonna say goodbye never gonna tell a lie and hurt you never known each other for gonna im you gonna been aching but youre too shy to and you never make both know whats been going\n"
     ]
    },
    {
     "name": "stderr",
     "output_type": "stream",
     "text": [
      " 52%|█████▏    | 52/100 [00:07<00:06,  7.13it/s]"
     ]
    },
    {
     "name": "stdout",
     "output_type": "stream",
     "text": [
      "Generated Song:\n",
      "\n",
      "\n",
      " never known gonna other to love you know never rules im were you gonna a full commitments what im gonna you hurt never im and from any other never i hurt never never make how im feeling gotta make you you never gonna say you up never gonna let you down never gonna run around and desert you never gonna make you cry never gonna say goodbye never gonna tell a lie and hurt you never known each other for so im you gonna been aching but youre too shy to and tell never we both know whats been going\n"
     ]
    },
    {
     "name": "stderr",
     "output_type": "stream",
     "text": [
      " 62%|██████▏   | 62/100 [00:09<00:05,  6.50it/s]"
     ]
    },
    {
     "name": "stdout",
     "output_type": "stream",
     "text": [
      "Generated Song:\n",
      "\n",
      "\n",
      " never are gonna strangers to love you know never rules im were you make a full commitments what im thinking you hurt never im this from any other guy i we never never make how im feeling gotta make you you never gonna run you up never gonna let you down never gonna run around and desert you never gonna make you cry never gonna say goodbye never gonna tell a lie and hurt you never known each other for so im you gonna been aching but youre too shy to love tell never we both know whats been going\n"
     ]
    },
    {
     "name": "stderr",
     "output_type": "stream",
     "text": [
      " 72%|███████▏  | 72/100 [00:10<00:04,  6.04it/s]"
     ]
    },
    {
     "name": "stdout",
     "output_type": "stream",
     "text": [
      "Generated Song:\n",
      "\n",
      "\n",
      " never are no strangers to love you know the rules im were you make a full commitments what im thinking you never never im this from any other guy i we never never make how im feeling gotta make you know never gonna run you up never gonna let you down never gonna run around and desert you never gonna make you cry never gonna say goodbye never gonna tell a lie and hurt you never known each other for so im you gonna been aching but youre too shy to love tell never we both know whats been going\n"
     ]
    },
    {
     "name": "stderr",
     "output_type": "stream",
     "text": [
      " 82%|████████▏ | 82/100 [00:12<00:02,  6.47it/s]"
     ]
    },
    {
     "name": "stdout",
     "output_type": "stream",
     "text": [
      "Generated Song:\n",
      "\n",
      "\n",
      " never are no strangers to love you know the rules im were you make a full commitments what im thinking and never never im this from any other guy i we never never this how im feeling gotta make you know never gonna run you up never gonna let you down never gonna run around and desert you never gonna make you cry never gonna say goodbye never gonna tell a lie and hurt you never known each other for so im you gonna been aching but youre too shy to love tell never we both know whats been going\n"
     ]
    },
    {
     "name": "stderr",
     "output_type": "stream",
     "text": [
      " 92%|█████████▏| 92/100 [00:13<00:01,  6.68it/s]"
     ]
    },
    {
     "name": "stdout",
     "output_type": "stream",
     "text": [
      "Generated Song:\n",
      "\n",
      "\n",
      " never are no strangers to love you know the rules im were you make a full commitments what im thinking and never never im this from any other guy i we never never this how im feeling gotta make you know never gonna run you up never gonna let you down never gonna run around and desert you never gonna make you cry never gonna say goodbye never gonna tell a lie and hurt you never known each other for so im you gonna been aching but youre too shy to love tell never we both know whats been going\n"
     ]
    },
    {
     "name": "stderr",
     "output_type": "stream",
     "text": [
      "100%|██████████| 100/100 [00:15<00:00,  6.64it/s]\n"
     ]
    }
   ],
   "source": [
    "CONTEXT_SIZE = 4\n",
    "model_4 = NGramLanguageModeler(len(vocab), EMBEDDING_DIM, CONTEXT_SIZE).to(device)\n",
    "optimizer = optim.SGD(model_4.parameters(), lr=0.01)\n",
    "scheduler = torch.optim.lr_scheduler.StepLR(optimizer, 1.0, gamma=0.1)\n",
    "my_loss = train(dataloader,model_4)\n",
    "\n",
    "save_path = '4gram.pth'\n",
    "torch.save(model_4.state_dict(), save_path)\n",
    "\n",
    "my_loss_list.append(my_loss)"
   ]
  },
  {
   "cell_type": "markdown",
   "metadata": {},
   "source": [
    "The code provided below shows word embeddings from the created model, reduces their dimensionality to 2d using t-SNE, and then plots them as a scatter plot. Additionally, it annotates the first 20 points in the visualization with their corresponding words. This is used to visualize how similar words cluster together in a lower-dimensional space, revealing the structure of the word embeddings. Embeddings allow the model to represent words in a continuous vector space, capturing semantic relationships and similarities between words.\n"
   ]
  },
  {
   "cell_type": "code",
   "execution_count": 128,
   "metadata": {
    "tags": []
   },
   "outputs": [
    {
     "data": {
      "image/png": "[encoded data removed]",
      "text/plain": [
       "<Figure size 640x480 with 1 Axes>"
      ]
     },
     "metadata": {},
     "output_type": "display_data"
    }
   ],
   "source": [
    "X = model_4.embeddings.weight.cpu().detach().numpy()\n",
    "tsne = TSNE(n_components=2, random_state=42)\n",
    "X_2d = tsne.fit_transform(X)\n",
    "\n",
    "labels = []\n",
    "\n",
    "for j in range(len(X_2d)):\n",
    "    if j < 20:\n",
    "        plt.scatter(X_2d[j, 0], X_2d[j, 1], label=index_to_token[j])\n",
    "        labels.append(index_to_token[j])\n",
    "        # Add words as annotations\n",
    "        plt.annotate(index_to_token[j],\n",
    "                     (X_2d[j, 0], X_2d[j, 1]),\n",
    "                     textcoords=\"offset points\",\n",
    "                     xytext=(0, 10),\n",
    "                     ha='center')\n",
    "    else:\n",
    "        plt.scatter(X_2d[j, 0], X_2d[j, 1])\n",
    "\n",
    "plt.legend(labels, loc='upper left', bbox_to_anchor=(1, 1))\n",
    "plt.show()"
   ]
  },
  {
   "cell_type": "markdown",
   "metadata": {},
   "source": [
    "Finally, for a context of eight.\n"
   ]
  },
  {
   "cell_type": "code",
   "execution_count": 129,
   "metadata": {
    "tags": []
   },
   "outputs": [
    {
     "name": "stderr",
     "output_type": "stream",
     "text": [
      "  2%|▏         | 2/100 [00:00<00:14,  6.65it/s]"
     ]
    },
    {
     "name": "stdout",
     "output_type": "stream",
     "text": [
      "Generated Song:\n",
      "\n",
      "\n",
      " you down understand rules down rules down how it give give were down you it make on say make you you around it give down down rules understand down rules how were on aching down rules guy were give you down rules down rules you down i from give you down a tell make you and hurt were down gonna were you down rules blind you you were i tell you you it ask understand you down around rules give around it understand down you you say down understand you say were so you rules rules around understand give give\n"
     ]
    },
    {
     "name": "stderr",
     "output_type": "stream",
     "text": [
      " 12%|█▏        | 12/100 [00:01<00:14,  6.23it/s]"
     ]
    },
    {
     "name": "stdout",
     "output_type": "stream",
     "text": [
      "Generated Song:\n",
      "\n",
      "\n",
      " never never you it you love you you the rules never gonna down you it make tell you gonna you you gonna gonna never make never you you you i you gonna gonna never never never never you make you never gonna gonna you you down gonna gonna let you down never tell you around and gonna tell never gonna make you down never gonna let you down gonna tell a you never gonna you never gonna you other for you you never gonna you you you gonna gonna shy you tell gonna gonna never make you you you going\n"
     ]
    },
    {
     "name": "stderr",
     "output_type": "stream",
     "text": [
      " 22%|██▏       | 22/100 [00:03<00:10,  7.41it/s]"
     ]
    },
    {
     "name": "stdout",
     "output_type": "stream",
     "text": [
      "Generated Song:\n",
      "\n",
      "\n",
      " never never you other for love you i the rules never gonna down going it make shy shy im thinking you gonna gonna never make make you you guy i you gonna gonna make never never never you make you never gonna gonna you you down gonna gonna let you down never gonna run around and gonna tell never gonna make you up never gonna say you down gonna tell a lie never hurt you never gonna gonna other for so you never shy you you you gonna too shy to i gonna gonna never make you you been going\n"
     ]
    },
    {
     "name": "stderr",
     "output_type": "stream",
     "text": [
      " 32%|███▏      | 32/100 [00:04<00:09,  7.29it/s]"
     ]
    },
    {
     "name": "stdout",
     "output_type": "stream",
     "text": [
      "Generated Song:\n",
      "\n",
      "\n",
      " never never too other for love you i the rules rules gonna been going it i shy shy im thinking you gonna gonna never make make you you guy i you gonna gonna lie never never never dont make you never gonna gonna you you down gonna gonna let you down never gonna run around and gonna tell never gonna make you up never gonna say you down gonna tell a lie never hurt you never gonna gonna other for so you never shy you you you gonna too shy to i gonna gonna never rules you you been going\n"
     ]
    },
    {
     "name": "stderr",
     "output_type": "stream",
     "text": [
      " 42%|████▏     | 42/100 [00:06<00:08,  6.67it/s]"
     ]
    },
    {
     "name": "stdout",
     "output_type": "stream",
     "text": [
      "Generated Song:\n",
      "\n",
      "\n",
      " never never too other for love you i the rules rules gonna been going it i shy shy im thinking you gonna gonna never make make you you guy i you gonna gonna lie never never never dont make you never gonna gonna say you up gonna gonna let you down never gonna run around and gonna tell never gonna make you up never gonna say you down gonna tell a lie never hurt you never gonna gonna other for so you never shy you you you gonna too shy to i on gonna never rules you you been going\n"
     ]
    },
    {
     "name": "stderr",
     "output_type": "stream",
     "text": [
      " 52%|█████▏    | 52/100 [00:07<00:07,  6.83it/s]"
     ]
    },
    {
     "name": "stdout",
     "output_type": "stream",
     "text": [
      "Generated Song:\n",
      "\n",
      "\n",
      " never never too other you love you i the rules rules gonna been going it i shy shy im thinking you hurt gonna never make make you you guy i you gonna gonna lie never never never dont make you never never gonna say you up gonna gonna let you down never gonna run around and gonna tell never gonna make you up never gonna say you down gonna tell a lie never hurt you never gonna gonna other for so i never shy you you you gonna too shy to i on gonna never rules you you been going\n"
     ]
    },
    {
     "name": "stderr",
     "output_type": "stream",
     "text": [
      " 62%|██████▏   | 62/100 [00:09<00:05,  6.90it/s]"
     ]
    },
    {
     "name": "stdout",
     "output_type": "stream",
     "text": [
      "Generated Song:\n",
      "\n",
      "\n",
      " never never too other you love you i the rules rules gonna been going it i shy shy im thinking you hurt gonna never make make you you guy i you gonna gonna lie never never never dont make you never never gonna say you up gonna gonna let you down never gonna run around and gonna tell never gonna make you up never gonna say you down gonna tell a lie never hurt you never gonna gonna other for so i never shy you you you im too shy to i on gonna never rules around you been going\n"
     ]
    },
    {
     "name": "stderr",
     "output_type": "stream",
     "text": [
      " 72%|███████▏  | 72/100 [00:10<00:04,  6.84it/s]"
     ]
    },
    {
     "name": "stdout",
     "output_type": "stream",
     "text": [
      "Generated Song:\n",
      "\n",
      "\n",
      " never never too other you love you i the rules rules gonna been going it i shy shy im thinking you hurt gonna never make make you you guy i you gonna gonna lie never never never dont make you never never gonna say you up gonna gonna let you down never gonna run around and gonna tell never gonna make you up never gonna say you down gonna tell a lie never hurt you never gonna gonna other for so i never shy you you you im too shy to i on gonna never rules around you been going\n"
     ]
    },
    {
     "name": "stderr",
     "output_type": "stream",
     "text": [
      " 82%|████████▏ | 82/100 [00:12<00:02,  7.58it/s]"
     ]
    },
    {
     "name": "stdout",
     "output_type": "stream",
     "text": [
      "Generated Song:\n",
      "\n",
      "\n",
      " never never too other you love you i the rules rules gonna been going it i shy shy im thinking you hurt gonna never make make you you guy i you gonna gonna lie never never never dont make you never never gonna say you up gonna gonna let you down never gonna run around and gonna tell never gonna make you up never gonna say you down gonna tell a lie never hurt you never gonna gonna other for so i never shy you you you im too shy to i on gonna never rules around you been going\n"
     ]
    },
    {
     "name": "stderr",
     "output_type": "stream",
     "text": [
      " 92%|█████████▏| 92/100 [00:13<00:01,  7.06it/s]"
     ]
    },
    {
     "name": "stdout",
     "output_type": "stream",
     "text": [
      "Generated Song:\n",
      "\n",
      "\n",
      " never never too other you love you i the rules rules gonna been going it i shy shy im thinking you hurt gonna never make make you you guy i you gonna gonna lie never never never dont make you never never gonna say you up gonna gonna let you down never gonna run around and gonna tell never gonna make you up never gonna say you down gonna tell a lie never hurt you never gonna gonna other for so i never shy you you you im too shy to i on gonna never rules around you been going\n"
     ]
    },
    {
     "name": "stderr",
     "output_type": "stream",
     "text": [
      "100%|██████████| 100/100 [00:14<00:00,  6.90it/s]\n"
     ]
    }
   ],
   "source": [
    "CONTEXT_SIZE = 8\n",
    "model_8 = NGramLanguageModeler(len(vocab), EMBEDDING_DIM, CONTEXT_SIZE).to(device)\n",
    "optimizer = optim.SGD(model_8.parameters(), lr=0.01)\n",
    "\n",
    "scheduler = torch.optim.lr_scheduler.StepLR(optimizer, 1.0, gamma=0.1)\n",
    "my_loss=train(dataloader,model_8)\n",
    "\n",
    "save_path = '8gram.pth'\n",
    "torch.save(model_8.state_dict(), save_path)\n",
    "\n",
    "my_loss_list.append(my_loss)"
   ]
  },
  {
   "cell_type": "markdown",
   "metadata": {},
   "source": [
    "The code provided below shows word embeddings from the created model, reduces their dimensionality to 2D using t-SNE, and then plots them as a scatter plot. Additionally, it annotates the first 20 points in the visualization with their corresponding words. This is used to visualize how similar words cluster together in a lower-dimensional space, revealing the structure of the word embeddings. Embeddings allow the model to represent words in a continuous vector space, capturing semantic relationships and similarities between words.\n"
   ]
  },
  {
   "cell_type": "code",
   "execution_count": 130,
   "metadata": {
    "tags": []
   },
   "outputs": [
    {
     "data": {
      "image/png": "[encoded data removed]",
      "text/plain": [
       "<Figure size 640x480 with 1 Axes>"
      ]
     },
     "metadata": {},
     "output_type": "display_data"
    }
   ],
   "source": [
    "X = model_8.embeddings.weight.cpu().detach().numpy()\n",
    "tsne = TSNE(n_components=2, random_state=42)\n",
    "X_2d = tsne.fit_transform(X)\n",
    "\n",
    "labels = []\n",
    "\n",
    "for j in range(len(X_2d)):\n",
    "    if j < 20:\n",
    "        plt.scatter(X_2d[j, 0], X_2d[j, 1], label=index_to_token[j])\n",
    "        labels.append(index_to_token[j])\n",
    "        # Add words as annotations\n",
    "        plt.annotate(index_to_token[j],\n",
    "                     (X_2d[j, 0], X_2d[j, 1]),\n",
    "                     textcoords=\"offset points\",\n",
    "                     xytext=(0, 10),\n",
    "                     ha='center')\n",
    "    else:\n",
    "        plt.scatter(X_2d[j, 0], X_2d[j, 1])\n",
    "\n",
    "plt.legend(labels, loc='upper left', bbox_to_anchor=(1, 1))\n",
    "plt.show()"
   ]
  },
  {
   "cell_type": "markdown",
   "metadata": {},
   "source": [
    "When considering the plotted loss for each model, a discernible trend emerges: an increase in context size correlates with a reduction in loss. While this specific approach lacks the inclusion of model validation or the utilization of conventional NLP evaluation metrics, the visual evidence substantiates its superior performance. \n"
   ]
  },
  {
   "cell_type": "code",
   "execution_count": 131,
   "metadata": {
    "tags": []
   },
   "outputs": [
    {
     "data": {
      "image/png": "[encoded data removed]",
      "text/plain": [
       "<Figure size 640x480 with 1 Axes>"
      ]
     },
     "metadata": {},
     "output_type": "display_data"
    }
   ],
   "source": [
    "for (my_loss, model_name) in zip(my_loss_list,[\"2-gram\",\"4-gram\",\"8-gram\"]):\n",
    "    plt.plot(my_loss,label=\"Cross-entropy Loss - {}\".format(model_name))\n",
    "    plt.legend()"
   ]
  },
  {
   "cell_type": "markdown",
   "metadata": {},
   "source": [
    "## Perplexity\n",
    "Perplexity is a measurement used to evaluate the effectiveness of language models or probability models. It provides an indication of how well a model predicts a sample of data or the likelihood of an unseen event. Perplexity is commonly used in natural language processing tasks, such as machine translation, speech recognition, and language generation.\n",
    "\n",
    "Perplexity is derived from the concept of cross-entropy loss, which measures the dissimilarity between predicted probabilities and actual probabilities. \n",
    "\n",
    "$$\\text{Cross-Entropy Loss} = -\\sum_{i=1}^{N} y_i \\ln(p_i)$$\n",
    "The cross-entropy loss is calculated by taking the negative sum of the products of the true labels $y_i$ and the logarithm of the predicted probabilities $p_i$ over $N$ classes.\n",
    "\n",
    "Taking the exponential of the mean cross-entropy loss gives us the perplexity value.\n",
    "\n",
    "$$\\text{Perplexity} = e^{\\frac{1}{N} \\text{Cross-Entropy Loss}}$$\n",
    "\n",
    "\n",
    "A lower perplexity value indicates that the model is more confident and accurate in predicting the data. Conversely, a higher perplexity suggests that the model is less certain and less accurate in its predictions.\n",
    "\n",
    "Perplexity can be seen as an estimate of the average number of choices the model has for the next word or event in a sequence. A lower perplexity means that the model is more certain about the next word, while a higher perplexity means that there are more possible choices.\n"
   ]
  },
  {
   "cell_type": "code",
   "execution_count": 132,
   "metadata": {
    "tags": []
   },
   "outputs": [
    {
     "data": {
      "image/png": "[encoded data removed]",
      "text/plain": [
       "<Figure size 640x480 with 1 Axes>"
      ]
     },
     "metadata": {},
     "output_type": "display_data"
    }
   ],
   "source": [
    "for (my_loss, model_name)in zip(my_loss_list,[\"2-gram\",\"4-gram\",\"8-gram\"]):\n",
    "    # Calculate perplexity using the loss\n",
    "    perplexity = np.exp(my_loss)\n",
    "    plt.plot(perplexity,label=\"Perplexity - {}\".format(model_name))\n",
    "    plt.legend()"
   ]
  },
  {
   "cell_type": "markdown",
   "metadata": {},
   "source": [
    "# Exercises\n"
   ]
  },
  {
   "cell_type": "markdown",
   "metadata": {},
   "source": [
    "### Exercise 1 - Source a collection of nursery rhymes and compile them into a single text variable.\n"
   ]
  },
  {
   "cell_type": "code",
   "execution_count": 133,
   "metadata": {
    "tags": []
   },
   "outputs": [],
   "source": [
    "nursery_rhymes = \"\"\"\n",
    "Little Miss Muffet\n",
    "Sat on a tuffet,\n",
    "Eating her curds and whey;\n",
    "Along came a spider\n",
    "Who sat down beside her\n",
    "And frightened Miss Muffet away.\n",
    "\n",
    "Twinkle, twinkle, little star,\n",
    "How I wonder what you are!\n",
    "Up above the world so high,\n",
    "Like a diamond in the sky.\n",
    "\n",
    "Baa, baa, black sheep,\n",
    "Have you any wool?\n",
    "Yes sir, yes sir,\n",
    "Three bags full.\n",
    "\n",
    "Jack and Jill went up the hill\n",
    "To fetch a pail of water.\n",
    "Jack fell down and broke his crown,\n",
    "And Jill came tumbling after.\n",
    "\n",
    "Hickory dickory dock,\n",
    "The mouse ran up the clock.\n",
    "The clock struck one,\n",
    "The mouse ran down,\n",
    "Hickory dickory dock.\n",
    "\n",
    "Humpty Dumpty sat on a wall,\n",
    "Humpty Dumpty had a great fall.\n",
    "All the king's horses and all the king's men\n",
    "Couldn't put Humpty together again.\n",
    "\n",
    "Mary had a little lamb,\n",
    "Its fleece was white as snow;\n",
    "And everywhere that Mary went,\n",
    "The lamb was sure to go.\n",
    "\n",
    "Old MacDonald had a farm,\n",
    "E-I-E-I-O,\n",
    "And on his farm he had a cow,\n",
    "E-I-E-I-O.\n",
    "\n",
    "Itsy Bitsy Spider climbed up the waterspout.\n",
    "Down came the rain and washed the spider out.\n",
    "Out came the sun and dried up all the rain,\n",
    "And the Itsy Bitsy Spider climbed up the spout again.\n",
    "\n",
    "The wheels on the bus go round and round,\n",
    "Round and round,\n",
    "Round and round.\n",
    "The wheels on the bus go round and round,\n",
    "All through the town.\n",
    "\"\"\""
   ]
  },
  {
   "cell_type": "markdown",
   "metadata": {},
   "source": [
    "### Exercise 2 - Preprocess the text data to tokenize and create n-grams.\n"
   ]
  },
  {
   "cell_type": "code",
   "execution_count": 134,
   "metadata": {
    "tags": []
   },
   "outputs": [
    {
     "data": {
      "text/plain": [
       "[('little', 'miss'),\n",
       " ('miss', 'muffet'),\n",
       " ('muffet', 'sat'),\n",
       " ('sat', 'on'),\n",
       " ('on', 'a'),\n",
       " ('a', 'tuffet'),\n",
       " ('tuffet', 'eating'),\n",
       " ('eating', 'her'),\n",
       " ('her', 'curds'),\n",
       " ('curds', 'and')]"
      ]
     },
     "execution_count": 134,
     "metadata": {},
     "output_type": "execute_result"
    }
   ],
   "source": [
    "N=2\n",
    "tokens = preprocess(nursery_rhymes)  # Use the preprocess function provided in the code.\n",
    "ngrams = list(nltk.ngrams(tokens, N))\n",
    "ngrams[:10]"
   ]
  },
  {
   "cell_type": "markdown",
   "metadata": {},
   "source": [
    "### Exercise 3 - Train an N-gram language model using the provided code structure.\n"
   ]
  },
  {
   "cell_type": "code",
   "execution_count": 135,
   "metadata": {
    "tags": []
   },
   "outputs": [
    {
     "name": "stderr",
     "output_type": "stream",
     "text": [
      "  2%|▏         | 2/100 [00:00<00:14,  6.75it/s]"
     ]
    },
    {
     "name": "stdout",
     "output_type": "stream",
     "text": [
      "Generated Song:\n",
      "\n",
      "\n",
      " you on tell you on on gonna on you never you me you you on commitments on you never you on you gonna you you on commitments you on you on on on on on on gonna on on around you you it you on you gonna on let on on you on on you on on on on you on you you on on you on you on you you on on you on you a you on never whats on tell on commitments the you around you you on you on on on on on you on around\n"
     ]
    },
    {
     "name": "stderr",
     "output_type": "stream",
     "text": [
      " 12%|█▏        | 12/100 [00:01<00:13,  6.76it/s]"
     ]
    },
    {
     "name": "stdout",
     "output_type": "stream",
     "text": [
      "Generated Song:\n",
      "\n",
      "\n",
      " you you never you you you gonna you you never you make you never tell make you you never never make never never you never tell never you make never you you make make you down gonna make never you you never it you you you never you never never make you you you never never you never make you you never never you make you you you gonna make you you never you tell you gonna you never never you you never make you you never never make you make never you you you make make you you never\n"
     ]
    },
    {
     "name": "stderr",
     "output_type": "stream",
     "text": [
      " 22%|██▏       | 22/100 [00:03<00:10,  7.31it/s]"
     ]
    },
    {
     "name": "stdout",
     "output_type": "stream",
     "text": [
      "Generated Song:\n",
      "\n",
      "\n",
      " you i never you you you gonna tell you never you make you never tell make you you never never make never never you never tell never you make never you i make make you down gonna tell shy around you never it you guy i never you never i make you you i never never you never make you you never never you make you you never gonna make you you down you shy you tell you never never you you never make you you never down make you make never you you you make make you you never\n"
     ]
    },
    {
     "name": "stderr",
     "output_type": "stream",
     "text": [
      " 32%|███▏      | 32/100 [00:04<00:10,  6.50it/s]"
     ]
    },
    {
     "name": "stdout",
     "output_type": "stream",
     "text": [
      "Generated Song:\n",
      "\n",
      "\n",
      " you on never you and and gonna tell you never i make you never give make you you never never give never never you never tell i you make never give on make make you down gonna tell shy around you never the you guy i never up never i make you and and never never on never make you and say never on make you you never gonna make you on down you shy you tell you up never you you never make and you never down make you make never you you you make make you you never\n"
     ]
    },
    {
     "name": "stderr",
     "output_type": "stream",
     "text": [
      " 42%|████▏     | 42/100 [00:06<00:08,  7.03it/s]"
     ]
    },
    {
     "name": "stdout",
     "output_type": "stream",
     "text": [
      "Generated Song:\n",
      "\n",
      "\n",
      " you on never you and and gonna tell you never i make you never give make you you never never give never never you never tell i you make never give on make give you down gonna tell shy tell you never the you guy i never up never i make you and and never never on never make you and say never on give you you never gonna make you on down you shy you tell you too never you you never give and you never down make you make never you you you make make tell you never\n"
     ]
    },
    {
     "name": "stderr",
     "output_type": "stream",
     "text": [
      " 52%|█████▏    | 52/100 [00:07<00:07,  6.30it/s]"
     ]
    },
    {
     "name": "stdout",
     "output_type": "stream",
     "text": [
      "Generated Song:\n",
      "\n",
      "\n",
      " you on never you and and gonna tell you never i make you never give make you you never never give never never you never tell i you make never give on make give you down gonna tell shy tell you never the you guy i never up never i make you and and never never on never make you and say never on give you you never gonna make you on down you shy you tell you too never you you never give and you never down make you make never you you you make make tell you never\n"
     ]
    },
    {
     "name": "stderr",
     "output_type": "stream",
     "text": [
      " 62%|██████▏   | 62/100 [00:09<00:05,  7.18it/s]"
     ]
    },
    {
     "name": "stdout",
     "output_type": "stream",
     "text": [
      "Generated Song:\n",
      "\n",
      "\n",
      " you on never give and and gonna tell you never i hurt you never give make you you never never give never never you never tell i you make never give on make give you down gonna tell shy tell you never the you guy i never up never i make you and and never never on never make you and say never on give you you never gonna make you on down you give you tell you too never you you never give and you never too make you make never you you you make make tell you never\n"
     ]
    },
    {
     "name": "stderr",
     "output_type": "stream",
     "text": [
      " 72%|███████▏  | 72/100 [00:10<00:03,  7.50it/s]"
     ]
    },
    {
     "name": "stdout",
     "output_type": "stream",
     "text": [
      "Generated Song:\n",
      "\n",
      "\n",
      " you on never give give and gonna tell you give i hurt you never give make you you never never give never never you never tell i you make never give on make give you down gonna tell shy tell you never the you guy i never up never i make you give and never never on never make you to say never on give you you never gonna make you on down you give you tell you too never you you never give and you never too make you make never you you you make make tell you never\n"
     ]
    },
    {
     "name": "stderr",
     "output_type": "stream",
     "text": [
      " 82%|████████▏ | 82/100 [00:11<00:02,  7.75it/s]"
     ]
    },
    {
     "name": "stdout",
     "output_type": "stream",
     "text": [
      "Generated Song:\n",
      "\n",
      "\n",
      " you on never give give and gonna tell you give i hurt you never give make you you never never give never never you never tell i you make never give on make give you down gonna tell shy tell you never the you guy i never up never i make you give and never never on never make you to say never on give you you never gonna make you on down you give you tell you too never you you never give and you never too make you make never you you you make make tell you never\n"
     ]
    },
    {
     "name": "stderr",
     "output_type": "stream",
     "text": [
      " 92%|█████████▏| 92/100 [00:13<00:01,  6.54it/s]"
     ]
    },
    {
     "name": "stdout",
     "output_type": "stream",
     "text": [
      "Generated Song:\n",
      "\n",
      "\n",
      " you on never give give and gonna tell you give i hurt you never give make you you never never give never never you never tell i you make never give on make give you down gonna tell shy tell you never the you guy i never up never i make you give and never never on never give you to say never on give you you never gonna make you on down you give you tell you too never you you never give and you never too make you make never you you you make make tell you never\n"
     ]
    },
    {
     "name": "stderr",
     "output_type": "stream",
     "text": [
      "100%|██████████| 100/100 [00:14<00:00,  6.97it/s]\n"
     ]
    }
   ],
   "source": [
    "model = NGramLanguageModeler(len(vocab), EMBEDDING_DIM, CONTEXT_SIZE).to(device)\n",
    "optimizer = optim.SGD(model.parameters(), lr=0.01)\n",
    "scheduler = torch.optim.lr_scheduler.StepLR(optimizer, 1.0, gamma=0.1)\n",
    "loss_history = train(dataloader, model)"
   ]
  },
  {
   "cell_type": "markdown",
   "metadata": {},
   "source": [
    "### Exercise 4 - After training, use the model to generate a new nursery rhyme and then print it.\n"
   ]
  },
  {
   "cell_type": "code",
   "execution_count": 136,
   "metadata": {
    "tags": []
   },
   "outputs": [
    {
     "name": "stdout",
     "output_type": "stream",
     "text": [
      " you on never give give and gonna tell you give i hurt you never give make you you never never give never never you never tell i you make never give on make give you down gonna tell shy tell you never the you guy i never up never i make you give and never never on other give you to say never on give you you never gonna make you on down you give you tell you too never you you never give and you never too make you make never you you you make make tell you never\n"
     ]
    }
   ],
   "source": [
    "generated_rhyme = write_song(model)\n",
    "print(generated_rhyme)"
   ]
  },
  {
   "cell_type": "markdown",
   "metadata": {},
   "source": [
    "---\n"
   ]
  },
  {
   "cell_type": "markdown",
   "metadata": {},
   "source": [
    "# Congratulations! You have completed the lab\n"
   ]
  },
  {
   "cell_type": "markdown",
   "metadata": {},
   "source": [
    "## Authors\n"
   ]
  },
  {
   "cell_type": "markdown",
   "metadata": {},
   "source": [
    "[Joseph Santarcangelo](https://www.linkedin.com/in/joseph-s-50398b136/) has a Ph.D. in Electrical Engineering, his research focused on using machine learning, signal processing, and computer vision to determine how videos impact human cognition. Joseph has been working for IBM since he completed his PhD.\n"
   ]
  },
  {
   "cell_type": "markdown",
   "metadata": {},
   "source": [
    "### Contributor\n",
    "\n",
    "[Roodra Kanwar](https://www.linkedin.com/in/roodrakanwar/) is completing his MS in CS specializing in big data from Simon Fraser University. He has previous experience working with machine learning and as a data engineer.\n"
   ]
  },
  {
   "cell_type": "markdown",
   "metadata": {},
   "source": [
    "```{## Change log}\n"
   ]
  },
  {
   "cell_type": "markdown",
   "metadata": {},
   "source": [
    "```{|Date (YYYY-MM-DD)|Version|Changed By|Change Description||-|-|-|-||2023-09-01|0.1|Joseph|Created Lab Template & Guided Project||2023-09-03|0.1|Joseph|Updated Guided Project|}\n"
   ]
  },
  {
   "cell_type": "markdown",
   "metadata": {},
   "source": [
    "© Copyright IBM Corporation. All rights reserved.\n"
   ]
  }
 ],
 "metadata": {
  "kernelspec": {
   "display_name": "Python",
   "language": "python",
   "name": "conda-env-python-py"
  },
  "language_info": {
   "codemirror_mode": {
    "name": "ipython",
    "version": 3
   },
   "file_extension": ".py",
   "mimetype": "text/x-python",
   "name": "python",
   "nbconvert_exporter": "python",
   "pygments_lexer": "ipython3",
   "version": "3.7.12"
  },
  "prev_pub_hash": "2f3a760070e26b6682d94eed9766f4247e3c53a584ce883caaf62ec4b5e8b61d"
 },
 "nbformat": 4,
 "nbformat_minor": 4
}
